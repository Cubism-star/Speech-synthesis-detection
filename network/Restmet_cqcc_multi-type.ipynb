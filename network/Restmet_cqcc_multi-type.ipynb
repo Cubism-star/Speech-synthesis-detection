{
 "cells": [
  {
   "cell_type": "code",
   "execution_count": 1,
   "metadata": {},
   "outputs": [
    {
     "name": "stderr",
     "output_type": "stream",
     "text": [
      "Using TensorFlow backend.\n",
      "/usr/local/lib/python3.5/dist-packages/tensorflow/python/framework/dtypes.py:493: FutureWarning: Passing (type, 1) or '1type' as a synonym of type is deprecated; in a future version of numpy, it will be understood as (type, (1,)) / '(1,)type'.\n",
      "  _np_qint8 = np.dtype([(\"qint8\", np.int8, 1)])\n",
      "/usr/local/lib/python3.5/dist-packages/tensorflow/python/framework/dtypes.py:494: FutureWarning: Passing (type, 1) or '1type' as a synonym of type is deprecated; in a future version of numpy, it will be understood as (type, (1,)) / '(1,)type'.\n",
      "  _np_quint8 = np.dtype([(\"quint8\", np.uint8, 1)])\n",
      "/usr/local/lib/python3.5/dist-packages/tensorflow/python/framework/dtypes.py:495: FutureWarning: Passing (type, 1) or '1type' as a synonym of type is deprecated; in a future version of numpy, it will be understood as (type, (1,)) / '(1,)type'.\n",
      "  _np_qint16 = np.dtype([(\"qint16\", np.int16, 1)])\n",
      "/usr/local/lib/python3.5/dist-packages/tensorflow/python/framework/dtypes.py:496: FutureWarning: Passing (type, 1) or '1type' as a synonym of type is deprecated; in a future version of numpy, it will be understood as (type, (1,)) / '(1,)type'.\n",
      "  _np_quint16 = np.dtype([(\"quint16\", np.uint16, 1)])\n",
      "/usr/local/lib/python3.5/dist-packages/tensorflow/python/framework/dtypes.py:497: FutureWarning: Passing (type, 1) or '1type' as a synonym of type is deprecated; in a future version of numpy, it will be understood as (type, (1,)) / '(1,)type'.\n",
      "  _np_qint32 = np.dtype([(\"qint32\", np.int32, 1)])\n",
      "/usr/local/lib/python3.5/dist-packages/tensorflow/python/framework/dtypes.py:502: FutureWarning: Passing (type, 1) or '1type' as a synonym of type is deprecated; in a future version of numpy, it will be understood as (type, (1,)) / '(1,)type'.\n",
      "  np_resource = np.dtype([(\"resource\", np.ubyte, 1)])\n"
     ]
    },
    {
     "data": {
      "text/plain": [
       "'3.5.2 (default, Oct  8 2019, 13:06:37) \\n[GCC 5.4.0 20160609]'"
      ]
     },
     "execution_count": 1,
     "metadata": {},
     "output_type": "execute_result"
    }
   ],
   "source": [
    "import keras\n",
    "import numpy as np\n",
    "import os\n",
    "import sklearn\n",
    "import matplotlib.pyplot as plt\n",
    "from keras.callbacks import EarlyStopping,ModelCheckpoint\n",
    "from keras import layers\n",
    "from keras.layers import Input, Dense, Activation, ZeroPadding2D, Conv2D, Flatten, BatchNormalization, Add, MaxPooling2D, AveragePooling2D, Dropout\n",
    "import keras.backend as K\n",
    "from keras.models import Model\n",
    "from keras import regularizers\n",
    "import sys\n",
    "import random\n",
    "from keras.utils import np_utils\n",
    "sys.version"
   ]
  },
  {
   "cell_type": "markdown",
   "metadata": {},
   "source": [
    "# 构造恒等块"
   ]
  },
  {
   "cell_type": "code",
   "execution_count": 2,
   "metadata": {},
   "outputs": [],
   "source": [
    "def identity_block(X, f, filters):\n",
    "    '''\n",
    "    X:输入向量，Tensor类型\n",
    "    f:conv卷积核的维度\n",
    "    filter:定义主路径上卷积核的个数\n",
    "    '''\n",
    "    F1, F2, F3 = filters\n",
    "    X_shortcut = X\n",
    "    #第一个卷积块\n",
    "    X = Conv2D(filters=F1, kernel_size=(1, 1), strides=(1, 1), padding='valid', kernel_initializer='glorot_uniform')(X)\n",
    "    #归一化\n",
    "    X = BatchNormalization(axis = 3)(X)\n",
    "    #激活层\n",
    "    X = Activation(activation='relu')(X)\n",
    "    \n",
    "    #第二个卷积块\n",
    "    X = Conv2D(filters=F2, kernel_size=(f, f), strides=(1, 1), padding='same', kernel_initializer='glorot_uniform')(X)\n",
    "    #归一化\n",
    "    X = BatchNormalization(axis=3)(X)\n",
    "    #激活层\n",
    "    X = Activation(activation='relu')(X)\n",
    "    \n",
    "    #第三个卷积块\n",
    "    X = Conv2D(filters=F3, kernel_size=(1, 1), strides=(1, 1), padding='valid', kernel_initializer='glorot_uniform')(X)\n",
    "      #归一化\n",
    "    X = BatchNormalization(axis=3)(X)\n",
    "    \n",
    "    #两条路径合并\n",
    "    X = Add()([X, X_shortcut])\n",
    "    #激活层\n",
    "    X = Activation(activation='relu')(X)\n",
    "    \n",
    "    return X"
   ]
  },
  {
   "cell_type": "markdown",
   "metadata": {},
   "source": [
    "#  构造卷积块"
   ]
  },
  {
   "cell_type": "code",
   "execution_count": 3,
   "metadata": {},
   "outputs": [],
   "source": [
    "def conv_block(X, f, filters, s=2):\n",
    "    '''\n",
    "    X：输入向量\n",
    "    f:卷积核的维度\n",
    "    filters:各个组成块的卷积核的个数\n",
    "    s:做卷积时的步伐\n",
    "    '''\n",
    "    F1, F2, F3 = filters\n",
    "    #捷径\n",
    "    X_shortcut = X\n",
    "    #主路径\n",
    "    #主路径的第一个卷积块\n",
    "    X = Conv2D(filters=F1, kernel_size=(1, 1), strides=(s, s), padding='valid', kernel_initializer='glorot_uniform')(X)\n",
    "    X = BatchNormalization(axis=3)(X)\n",
    "    X = Activation(activation='relu')(X)\n",
    "    \n",
    "    #主路径上的第二个卷积块\n",
    "    X = Conv2D(filters=F2, kernel_size=(f, f), strides=(1, 1), padding='same', kernel_initializer='glorot_uniform')(X)\n",
    "    X = BatchNormalization(axis=3)(X)\n",
    "    X = Activation(activation='relu')(X)\n",
    "    \n",
    "    #主路径上的第三个卷积块\n",
    "    X = Conv2D(filters=F3, kernel_size=(1, 1), strides=(1, 1), padding='valid', kernel_initializer='glorot_uniform')(X)\n",
    "    X = BatchNormalization(axis=3)(X)\n",
    "    \n",
    "    #捷径\n",
    "    X_shortcut = Conv2D(filters=F3, kernel_size=(1, 1), strides=(s, s), padding='valid', kernel_initializer='glorot_uniform')(X_shortcut)\n",
    "    X_shortcut = BatchNormalization(axis=3)(X_shortcut)\n",
    "    \n",
    "    #主路径捷径合并\n",
    "    X = Add()([X, X_shortcut])\n",
    "    X = Activation(activation='relu')(X)\n",
    "    \n",
    "    return X"
   ]
  },
  {
   "cell_type": "markdown",
   "metadata": {},
   "source": [
    "# 构建残差网络"
   ]
  },
  {
   "cell_type": "code",
   "execution_count": 4,
   "metadata": {},
   "outputs": [],
   "source": [
    "def ResNet(input_shape):\n",
    "    '''\n",
    "    input_shape:输入的Tensor维度\n",
    "    \n",
    "    '''\n",
    "    X_input = Input(input_shape)\n",
    "    #对输入数据进行零填充，padding=(3, 3)\n",
    "    X = ZeroPadding2D(padding=(3, 3))(X_input)\n",
    "    \n",
    "    #state1\n",
    "    '''\n",
    "    卷积层有64个过滤器，其维度为（7，7），步伐为（2，2），命名为“conv1”\n",
    "\n",
    "    规范层（BatchNorm）对输入数据进行通道轴归一化。\n",
    "\n",
    "    最大值池化层使用一个（3，3）的窗口和（2，2）的步伐\n",
    "    '''\n",
    "    X = Conv2D(filters=64, kernel_size=(7, 7), strides=(2, 2), padding='valid', kernel_initializer='glorot_uniform')(X)\n",
    "    X = BatchNormalization(axis=3)(X)\n",
    "    X = MaxPooling2D(pool_size=(3, 3), strides=(2, 2))(X)\n",
    "    \n",
    "    #state2\n",
    "    '''\n",
    "\n",
    "    卷积块使用f=3个大小为[64，64，256]的过滤器，f=3，s=1\n",
    "\n",
    "    2个恒等块使用三个大小为[64，64，256]的过滤器，f=3\n",
    "\n",
    "    '''\n",
    "    X = conv_block(X, f=3, filters=[64, 64, 256], s=1)\n",
    "    X = identity_block(X, f=3, filters=[64, 64, 256])\n",
    "    X = identity_block(X, f=3, filters=[64, 64, 256])\n",
    "    \n",
    "    #state3\n",
    "    '''\n",
    "\n",
    "    卷积块使用f=3个大小为[128,128,512]的过滤器，f=3，s=2\n",
    "\n",
    "    3个恒等块使用三个大小为[128,128,512]的过滤器，f=3\n",
    "\n",
    "    '''\n",
    "    X = conv_block(X, f=3, filters=[128, 128, 512], s=2)\n",
    "    X = identity_block(X, f=3, filters=[128, 128, 512])\n",
    "    X = identity_block(X, f=3, filters=[128, 128, 512])\n",
    "    X = identity_block(X, f=3, filters=[128, 128, 512])\n",
    "    \n",
    "    #state4\n",
    "    '''\n",
    "    卷积块使用f=3个大小为[256,256,1024]的过滤器，f=3，s=2\n",
    "\n",
    "    5个恒等块使用三个大小为[256,256,1024]的过滤器，f=3\n",
    "    \n",
    "    '''\n",
    "    X = conv_block(X, f=3, filters=[256, 256, 1024], s=2)\n",
    "    \n",
    "    X = identity_block(X, f=3, filters=[256, 256, 1024])\n",
    "    X = identity_block(X, f=3, filters=[256, 256, 1024])\n",
    "    X = identity_block(X, f=3, filters=[256, 256, 1024])\n",
    "    X = identity_block(X, f=3, filters=[256, 256, 1024])\n",
    "    X = identity_block(X, f=3, filters=[256, 256, 1024])\n",
    "    \n",
    "    #state5\n",
    "    '''\n",
    "    卷积块使用f=3个大小为[512,512,2048]的过滤器，f=3，s=2\n",
    "\n",
    "    2个恒等块使用三个大小为[256,256,2048]的过滤器，f=3\n",
    "    '''\n",
    "    X = conv_block(X, f=3, filters=[512, 512, 2048], s=2)\n",
    "    X = identity_block(X, f=3, filters=[256, 256, 2048])\n",
    "    X = identity_block(X, f=3, filters=[256, 256, 2048])\n",
    "    \n",
    "    #均值池化层\n",
    "    '''\n",
    "    均值池化层使用维度为（2,2）的窗口\n",
    "    '''\n",
    "    X = AveragePooling2D(pool_size=(2, 2), padding='same')(X)\n",
    "    \n",
    "    #平滑\n",
    "    X = Flatten()(X)\n",
    "    \n",
    "    '''\n",
    "    全连接层\n",
    "    使用softmax作为激活函数，输出为2,代表分类成两类的概率\n",
    "    '''\n",
    "    #将 softmax调换成sigmod 更适合二分类\n",
    "    X = Dense(7, activation='softmax', kernel_initializer='glorot_uniform', kernel_regularizer=regularizers.l2(2.0), activity_regularizer=regularizers.l1(2.0))(X)\n",
    "    model = Model(inputs=X_input, outputs=X)\n",
    "    \n",
    "    return model"
   ]
  },
  {
   "cell_type": "markdown",
   "metadata": {},
   "source": [
    "# 建立模型实例并编译"
   ]
  },
  {
   "cell_type": "code",
   "execution_count": 5,
   "metadata": {},
   "outputs": [],
   "source": [
    "model = ResNet((60, 264, 1))\n",
    "model.compile(optimizer=\"adam\", loss=\"categorical_crossentropy\", metrics=[\"accuracy\"])"
   ]
  },
  {
   "cell_type": "markdown",
   "metadata": {},
   "source": [
    "## 导入数据"
   ]
  },
  {
   "cell_type": "code",
   "execution_count": 6,
   "metadata": {},
   "outputs": [],
   "source": [
    "import os\n",
    "from scipy.io import loadmat\n",
    "import numpy as np"
   ]
  },
  {
   "cell_type": "code",
   "execution_count": 7,
   "metadata": {},
   "outputs": [
    {
     "data": {
      "text/plain": [
       "['ofile_time_stretch',\n",
       " 'US_1',\n",
       " 'SS_2',\n",
       " 'VC_1',\n",
       " 'SS_1',\n",
       " 'bonafide',\n",
       " 'VC_4',\n",
       " 'SS_4',\n",
       " 'ofile_time_roll']"
      ]
     },
     "execution_count": 7,
     "metadata": {},
     "output_type": "execute_result"
    }
   ],
   "source": [
    "path = r'/home/ubuntu/音频处理trainCqcc/'\n",
    "list_root = os.listdir(path)\n",
    "\n",
    "list_root"
   ]
  },
  {
   "cell_type": "code",
   "execution_count": 8,
   "metadata": {},
   "outputs": [],
   "source": [
    "Label = []\n",
    "Data =[]\n",
    "Label_dic = {'bonafide':0}\n",
    "for path_children in list_root:\n",
    "    if path_children =='ofile_time_roll' or path_children =='ofile_time_stretch' :#or path_children =='SS_4':\n",
    "        continue\n",
    "    if path_children in Label_dic:\n",
    "        judge = Label_dic[path_children]\n",
    "    else:\n",
    "        judge = len(Label_dic)\n",
    "        Label_dic[path_children] = judge\n",
    "\n",
    "    path_children_ = path+path_children\n",
    "    list_children = os.listdir(path_children_)\n",
    "    dict_kind = {}\n",
    "    \n",
    "    if path_children not in dict_kind:\n",
    "        dict_kind[path_children]=0\n",
    "        \n",
    "    #这里修改 一次读取特征文件数目    \n",
    "    seq = [i for i in range(len(list_children))]\n",
    "    choice  = random.sample(seq,2000)\n",
    "    choice.sort()\n",
    "    for number,mats in enumerate(list_children):\n",
    "        if number not in choice:\n",
    "            continue\n",
    "        dict_kind[path_children]+=1\n",
    "#         if dict_kind[path_children]>2000  and path_children !='bonafide' and path_children !='ofile_time_roll' and  path_children!='ofile_time_stretch':\n",
    "#             break\n",
    "#         elif dict_kind[path_children]>2000:\n",
    "#             break\n",
    "        Label.append(judge)\n",
    "        m = loadmat(path_children_+'/'+mats)\n",
    "        Data.append(m['CQcc'].reshape(60,264,1))"
   ]
  },
  {
   "cell_type": "markdown",
   "metadata": {},
   "source": [
    "# Data = np.array(Data)\n",
    "\n",
    "Data = (Data-Data.min())/(Data.max()-Data.min())"
   ]
  },
  {
   "cell_type": "code",
   "execution_count": 9,
   "metadata": {},
   "outputs": [
    {
     "data": {
      "text/plain": [
       "{'SS_1': 4,\n",
       " 'SS_2': 2,\n",
       " 'SS_4': 6,\n",
       " 'US_1': 1,\n",
       " 'VC_1': 3,\n",
       " 'VC_4': 5,\n",
       " 'bonafide': 0}"
      ]
     },
     "execution_count": 9,
     "metadata": {},
     "output_type": "execute_result"
    }
   ],
   "source": [
    "Label_dic"
   ]
  },
  {
   "cell_type": "code",
   "execution_count": 10,
   "metadata": {},
   "outputs": [
    {
     "data": {
      "text/plain": [
       "(14000, 60, 264, 1)"
      ]
     },
     "execution_count": 10,
     "metadata": {},
     "output_type": "execute_result"
    }
   ],
   "source": [
    "Data = np.array(Data)\n",
    "Data.shape"
   ]
  },
  {
   "cell_type": "code",
   "execution_count": 11,
   "metadata": {},
   "outputs": [
    {
     "data": {
      "text/plain": [
       "(14000,)"
      ]
     },
     "execution_count": 11,
     "metadata": {},
     "output_type": "execute_result"
    }
   ],
   "source": [
    "Label = np.array(Label)\n",
    "Label.shape"
   ]
  },
  {
   "cell_type": "markdown",
   "metadata": {},
   "source": [
    "# 独热编码"
   ]
  },
  {
   "cell_type": "code",
   "execution_count": 12,
   "metadata": {
    "scrolled": true
   },
   "outputs": [
    {
     "name": "stdout",
     "output_type": "stream",
     "text": [
      "[[0. 1. 0. 0. 0. 0. 0.]\n",
      " [0. 1. 0. 0. 0. 0. 0.]\n",
      " [0. 1. 0. 0. 0. 0. 0.]\n",
      " [0. 1. 0. 0. 0. 0. 0.]\n",
      " [0. 1. 0. 0. 0. 0. 0.]\n",
      " [0. 1. 0. 0. 0. 0. 0.]\n",
      " [0. 1. 0. 0. 0. 0. 0.]\n",
      " [0. 1. 0. 0. 0. 0. 0.]\n",
      " [0. 1. 0. 0. 0. 0. 0.]\n",
      " [0. 1. 0. 0. 0. 0. 0.]\n",
      " [0. 1. 0. 0. 0. 0. 0.]\n",
      " [0. 1. 0. 0. 0. 0. 0.]\n",
      " [0. 1. 0. 0. 0. 0. 0.]\n",
      " [0. 1. 0. 0. 0. 0. 0.]\n",
      " [0. 1. 0. 0. 0. 0. 0.]\n",
      " [0. 1. 0. 0. 0. 0. 0.]\n",
      " [0. 1. 0. 0. 0. 0. 0.]\n",
      " [0. 1. 0. 0. 0. 0. 0.]\n",
      " [0. 1. 0. 0. 0. 0. 0.]\n",
      " [0. 1. 0. 0. 0. 0. 0.]\n",
      " [0. 0. 1. 0. 0. 0. 0.]\n",
      " [0. 0. 1. 0. 0. 0. 0.]\n",
      " [0. 0. 1. 0. 0. 0. 0.]\n",
      " [0. 0. 1. 0. 0. 0. 0.]\n",
      " [0. 0. 1. 0. 0. 0. 0.]\n",
      " [0. 0. 1. 0. 0. 0. 0.]\n",
      " [0. 0. 1. 0. 0. 0. 0.]\n",
      " [0. 0. 1. 0. 0. 0. 0.]\n",
      " [0. 0. 1. 0. 0. 0. 0.]\n",
      " [0. 0. 1. 0. 0. 0. 0.]\n",
      " [0. 0. 1. 0. 0. 0. 0.]\n",
      " [0. 0. 1. 0. 0. 0. 0.]\n",
      " [0. 0. 1. 0. 0. 0. 0.]\n",
      " [0. 0. 1. 0. 0. 0. 0.]\n",
      " [0. 0. 1. 0. 0. 0. 0.]\n",
      " [0. 0. 1. 0. 0. 0. 0.]\n",
      " [0. 0. 1. 0. 0. 0. 0.]\n",
      " [0. 0. 1. 0. 0. 0. 0.]\n",
      " [0. 0. 1. 0. 0. 0. 0.]\n",
      " [0. 0. 1. 0. 0. 0. 0.]\n",
      " [0. 0. 0. 1. 0. 0. 0.]\n",
      " [0. 0. 0. 1. 0. 0. 0.]\n",
      " [0. 0. 0. 1. 0. 0. 0.]\n",
      " [0. 0. 0. 1. 0. 0. 0.]\n",
      " [0. 0. 0. 1. 0. 0. 0.]\n",
      " [0. 0. 0. 1. 0. 0. 0.]\n",
      " [0. 0. 0. 1. 0. 0. 0.]\n",
      " [0. 0. 0. 1. 0. 0. 0.]\n",
      " [0. 0. 0. 1. 0. 0. 0.]\n",
      " [0. 0. 0. 1. 0. 0. 0.]\n",
      " [0. 0. 0. 1. 0. 0. 0.]\n",
      " [0. 0. 0. 1. 0. 0. 0.]\n",
      " [0. 0. 0. 1. 0. 0. 0.]\n",
      " [0. 0. 0. 1. 0. 0. 0.]\n",
      " [0. 0. 0. 1. 0. 0. 0.]\n",
      " [0. 0. 0. 1. 0. 0. 0.]\n",
      " [0. 0. 0. 1. 0. 0. 0.]\n",
      " [0. 0. 0. 1. 0. 0. 0.]\n",
      " [0. 0. 0. 1. 0. 0. 0.]\n",
      " [0. 0. 0. 1. 0. 0. 0.]\n",
      " [0. 0. 0. 0. 1. 0. 0.]\n",
      " [0. 0. 0. 0. 1. 0. 0.]\n",
      " [0. 0. 0. 0. 1. 0. 0.]\n",
      " [0. 0. 0. 0. 1. 0. 0.]\n",
      " [0. 0. 0. 0. 1. 0. 0.]\n",
      " [0. 0. 0. 0. 1. 0. 0.]\n",
      " [0. 0. 0. 0. 1. 0. 0.]\n",
      " [0. 0. 0. 0. 1. 0. 0.]\n",
      " [0. 0. 0. 0. 1. 0. 0.]\n",
      " [0. 0. 0. 0. 1. 0. 0.]\n",
      " [0. 0. 0. 0. 1. 0. 0.]\n",
      " [0. 0. 0. 0. 1. 0. 0.]\n",
      " [0. 0. 0. 0. 1. 0. 0.]\n",
      " [0. 0. 0. 0. 1. 0. 0.]\n",
      " [0. 0. 0. 0. 1. 0. 0.]\n",
      " [0. 0. 0. 0. 1. 0. 0.]\n",
      " [0. 0. 0. 0. 1. 0. 0.]\n",
      " [0. 0. 0. 0. 1. 0. 0.]\n",
      " [0. 0. 0. 0. 1. 0. 0.]\n",
      " [0. 0. 0. 0. 1. 0. 0.]\n",
      " [1. 0. 0. 0. 0. 0. 0.]\n",
      " [1. 0. 0. 0. 0. 0. 0.]\n",
      " [1. 0. 0. 0. 0. 0. 0.]\n",
      " [1. 0. 0. 0. 0. 0. 0.]\n",
      " [1. 0. 0. 0. 0. 0. 0.]\n",
      " [1. 0. 0. 0. 0. 0. 0.]\n",
      " [1. 0. 0. 0. 0. 0. 0.]\n",
      " [1. 0. 0. 0. 0. 0. 0.]\n",
      " [1. 0. 0. 0. 0. 0. 0.]\n",
      " [1. 0. 0. 0. 0. 0. 0.]\n",
      " [1. 0. 0. 0. 0. 0. 0.]\n",
      " [1. 0. 0. 0. 0. 0. 0.]\n",
      " [1. 0. 0. 0. 0. 0. 0.]\n",
      " [1. 0. 0. 0. 0. 0. 0.]\n",
      " [1. 0. 0. 0. 0. 0. 0.]\n",
      " [1. 0. 0. 0. 0. 0. 0.]\n",
      " [1. 0. 0. 0. 0. 0. 0.]\n",
      " [1. 0. 0. 0. 0. 0. 0.]\n",
      " [1. 0. 0. 0. 0. 0. 0.]\n",
      " [1. 0. 0. 0. 0. 0. 0.]\n",
      " [0. 0. 0. 0. 0. 1. 0.]\n",
      " [0. 0. 0. 0. 0. 1. 0.]\n",
      " [0. 0. 0. 0. 0. 1. 0.]\n",
      " [0. 0. 0. 0. 0. 1. 0.]\n",
      " [0. 0. 0. 0. 0. 1. 0.]\n",
      " [0. 0. 0. 0. 0. 1. 0.]\n",
      " [0. 0. 0. 0. 0. 1. 0.]\n",
      " [0. 0. 0. 0. 0. 1. 0.]\n",
      " [0. 0. 0. 0. 0. 1. 0.]\n",
      " [0. 0. 0. 0. 0. 1. 0.]\n",
      " [0. 0. 0. 0. 0. 1. 0.]\n",
      " [0. 0. 0. 0. 0. 1. 0.]\n",
      " [0. 0. 0. 0. 0. 1. 0.]\n",
      " [0. 0. 0. 0. 0. 1. 0.]\n",
      " [0. 0. 0. 0. 0. 1. 0.]\n",
      " [0. 0. 0. 0. 0. 1. 0.]\n",
      " [0. 0. 0. 0. 0. 1. 0.]\n",
      " [0. 0. 0. 0. 0. 1. 0.]\n",
      " [0. 0. 0. 0. 0. 1. 0.]\n",
      " [0. 0. 0. 0. 0. 1. 0.]\n",
      " [0. 0. 0. 0. 0. 0. 1.]\n",
      " [0. 0. 0. 0. 0. 0. 1.]\n",
      " [0. 0. 0. 0. 0. 0. 1.]\n",
      " [0. 0. 0. 0. 0. 0. 1.]\n",
      " [0. 0. 0. 0. 0. 0. 1.]\n",
      " [0. 0. 0. 0. 0. 0. 1.]\n",
      " [0. 0. 0. 0. 0. 0. 1.]\n",
      " [0. 0. 0. 0. 0. 0. 1.]\n",
      " [0. 0. 0. 0. 0. 0. 1.]\n",
      " [0. 0. 0. 0. 0. 0. 1.]\n",
      " [0. 0. 0. 0. 0. 0. 1.]\n",
      " [0. 0. 0. 0. 0. 0. 1.]\n",
      " [0. 0. 0. 0. 0. 0. 1.]\n",
      " [0. 0. 0. 0. 0. 0. 1.]\n",
      " [0. 0. 0. 0. 0. 0. 1.]\n",
      " [0. 0. 0. 0. 0. 0. 1.]\n",
      " [0. 0. 0. 0. 0. 0. 1.]\n",
      " [0. 0. 0. 0. 0. 0. 1.]\n",
      " [0. 0. 0. 0. 0. 0. 1.]\n",
      " [0. 0. 0. 0. 0. 0. 1.]]\n",
      "(14000, 7)\n"
     ]
    }
   ],
   "source": [
    "y_train = np_utils.to_categorical(Label,num_classes= 7)\n",
    "print(y_train[::100])\n",
    "print(y_train.shape)"
   ]
  },
  {
   "cell_type": "code",
   "execution_count": 13,
   "metadata": {},
   "outputs": [],
   "source": [
    "from sklearn.utils import shuffle\n",
    "Data,y_train = shuffle(Data,y_train)"
   ]
  },
  {
   "cell_type": "code",
   "execution_count": 14,
   "metadata": {},
   "outputs": [],
   "source": [
    "callbacks = [\n",
    "    EarlyStopping(monitor='val_acc',patience=20),\n",
    "    ModelCheckpoint('多分类.h5',monitor='val_acc',save_best_only=True,verbose=1),\n",
    "    ]"
   ]
  },
  {
   "cell_type": "code",
   "execution_count": 15,
   "metadata": {},
   "outputs": [
    {
     "name": "stdout",
     "output_type": "stream",
     "text": [
      "Train on 11200 samples, validate on 2800 samples\n",
      "Epoch 1/8\n",
      "11200/11200 [==============================] - 133s 12ms/step - loss: 144.3282 - acc: 0.6304 - val_loss: 144.6240 - val_acc: 0.1486\n",
      "\n",
      "Epoch 00001: val_acc improved from -inf to 0.14857, saving model to 多分类.h5\n",
      "Epoch 2/8\n",
      "11200/11200 [==============================] - 127s 11ms/step - loss: 140.4090 - acc: 0.8991 - val_loss: 141.0263 - val_acc: 0.6743\n",
      "\n",
      "Epoch 00002: val_acc improved from 0.14857 to 0.67429, saving model to 多分类.h5\n",
      "Epoch 3/8\n",
      "11200/11200 [==============================] - 126s 11ms/step - loss: 140.2032 - acc: 0.9621 - val_loss: 140.7095 - val_acc: 0.8268\n",
      "\n",
      "Epoch 00003: val_acc improved from 0.67429 to 0.82679, saving model to 多分类.h5\n",
      "Epoch 4/8\n",
      "11200/11200 [==============================] - 126s 11ms/step - loss: 140.1995 - acc: 0.9701 - val_loss: 143.4048 - val_acc: 0.5593\n",
      "\n",
      "Epoch 00004: val_acc did not improve\n",
      "Epoch 5/8\n",
      "11200/11200 [==============================] - 126s 11ms/step - loss: 140.1722 - acc: 0.9748 - val_loss: 140.8963 - val_acc: 0.8068\n",
      "\n",
      "Epoch 00005: val_acc did not improve\n",
      "Epoch 6/8\n",
      "11200/11200 [==============================] - 127s 11ms/step - loss: 140.2593 - acc: 0.9581 - val_loss: 149.1959 - val_acc: 0.2443\n",
      "\n",
      "Epoch 00006: val_acc did not improve\n",
      "Epoch 7/8\n",
      "11200/11200 [==============================] - 127s 11ms/step - loss: 140.1031 - acc: 0.9864 - val_loss: 140.2534 - val_acc: 0.9314\n",
      "\n",
      "Epoch 00007: val_acc improved from 0.82679 to 0.93143, saving model to 多分类.h5\n",
      "Epoch 8/8\n",
      "11200/11200 [==============================] - 127s 11ms/step - loss: 140.0914 - acc: 0.9907 - val_loss: 140.1254 - val_acc: 0.9746\n",
      "\n",
      "Epoch 00008: val_acc improved from 0.93143 to 0.97464, saving model to 多分类.h5\n"
     ]
    }
   ],
   "source": [
    "train_history = model.fit(Data, y_train, epochs=8, batch_size=70, validation_split=0.2,callbacks=callbacks)"
   ]
  },
  {
   "cell_type": "code",
   "execution_count": 16,
   "metadata": {},
   "outputs": [],
   "source": [
    "# define the function\n",
    "def training_vis(hist):\n",
    "    loss = hist.history['loss']\n",
    "    val_loss = hist.history['val_loss']\n",
    "    acc = hist.history['acc']\n",
    "    val_acc = hist.history['val_acc']\n",
    "\n",
    "    # make a figure\n",
    "    fig = plt.figure(figsize=(8,4))\n",
    "    # subplot loss\n",
    "    ax1 = fig.add_subplot(121)\n",
    "    ax1.plot(loss,label='train_loss')\n",
    "    ax1.plot(val_loss,label='val_loss')\n",
    "    ax1.set_xlabel('Epochs')\n",
    "    ax1.set_ylabel('Loss')\n",
    "    ax1.set_title('Loss on Training and Validation Data')\n",
    "    ax1.legend()\n",
    "    # subplot acc\n",
    "    ax2 = fig.add_subplot(122)\n",
    "    ax2.plot(acc,label='train_acc')\n",
    "    ax2.plot(val_acc,label='val_acc')\n",
    "    ax2.set_xlabel('Epochs')\n",
    "    ax2.set_ylabel('Accuracy')\n",
    "    ax2.set_title('Accuracy  on Training and Validation Data')\n",
    "    ax2.legend()\n",
    "    plt.tight_layout()"
   ]
  },
  {
   "cell_type": "code",
   "execution_count": 17,
   "metadata": {
    "scrolled": true
   },
   "outputs": [
    {
     "data": {
      "image/png": "[encoded data removed]",
      "text/plain": [
       "<Figure size 576x288 with 2 Axes>"
      ]
     },
     "metadata": {
      "needs_background": "light"
     },
     "output_type": "display_data"
    }
   ],
   "source": [
    "training_vis(train_history)"
   ]
  },
  {
   "cell_type": "code",
   "execution_count": 18,
   "metadata": {},
   "outputs": [],
   "source": [
    "model = keras.models.load_model(\"多分类.h5\")"
   ]
  },
  {
   "cell_type": "markdown",
   "metadata": {},
   "source": [
    "# dev开发集"
   ]
  },
  {
   "cell_type": "code",
   "execution_count": 19,
   "metadata": {},
   "outputs": [],
   "source": [
    "path = r'/home/ubuntu/音频处理devCqcc/'\n",
    "list_root = os.listdir(path)"
   ]
  },
  {
   "cell_type": "code",
   "execution_count": 20,
   "metadata": {
    "scrolled": true
   },
   "outputs": [
    {
     "data": {
      "text/plain": [
       "['US_1', 'SS_2', 'VC_1', 'SS_1', 'bonafide', 'VC_4', 'SS_4']"
      ]
     },
     "execution_count": 20,
     "metadata": {},
     "output_type": "execute_result"
    }
   ],
   "source": [
    "list_root"
   ]
  },
  {
   "cell_type": "code",
   "execution_count": 21,
   "metadata": {},
   "outputs": [],
   "source": [
    "Label = []\n",
    "Data =[]\n",
    "Label_dic = {'bonafide':0}\n",
    "for path_children in list_root:\n",
    "    if path_children =='ofile_time_roll' or path_children =='ofile_time_stretch' :#or path_children =='SS_4':\n",
    "        continue\n",
    "    if path_children in Label_dic:\n",
    "        judge = Label_dic[path_children]\n",
    "    else:\n",
    "        judge = len(Label_dic)\n",
    "        Label_dic[path_children] = judge\n",
    "\n",
    "    path_children_ = path+path_children\n",
    "    list_children = os.listdir(path_children_)\n",
    "    dict_kind = {}\n",
    "    \n",
    "    if path_children not in dict_kind:\n",
    "        dict_kind[path_children]=0\n",
    "        \n",
    "        \n",
    "    seq = [i for i in range(len(list_children))]\n",
    "    choice  = random.sample(seq,1000)\n",
    "    choice.sort()\n",
    "    for number,mats in enumerate(list_children):\n",
    "        if number not in choice:\n",
    "            continue\n",
    "        dict_kind[path_children]+=1\n",
    "        Label.append(judge)\n",
    "        m = loadmat(path_children_+'/'+mats)\n",
    "        Data.append(m['CQcc'].reshape(60,264,1))"
   ]
  },
  {
   "cell_type": "markdown",
   "metadata": {},
   "source": [
    "# Data = np.array(Data)\n",
    "\n",
    "Data = (Data-Data.min())/(Data.max()-Data.min())"
   ]
  },
  {
   "cell_type": "code",
   "execution_count": 22,
   "metadata": {},
   "outputs": [
    {
     "data": {
      "text/plain": [
       "{'SS_1': 4,\n",
       " 'SS_2': 2,\n",
       " 'SS_4': 6,\n",
       " 'US_1': 1,\n",
       " 'VC_1': 3,\n",
       " 'VC_4': 5,\n",
       " 'bonafide': 0}"
      ]
     },
     "execution_count": 22,
     "metadata": {},
     "output_type": "execute_result"
    }
   ],
   "source": [
    "Label_dic"
   ]
  },
  {
   "cell_type": "code",
   "execution_count": 23,
   "metadata": {},
   "outputs": [
    {
     "data": {
      "text/plain": [
       "(7000, 60, 264, 1)"
      ]
     },
     "execution_count": 23,
     "metadata": {},
     "output_type": "execute_result"
    }
   ],
   "source": [
    "Data = np.array(Data)\n",
    "Data.shape"
   ]
  },
  {
   "cell_type": "code",
   "execution_count": 24,
   "metadata": {},
   "outputs": [
    {
     "data": {
      "text/plain": [
       "(7000,)"
      ]
     },
     "execution_count": 24,
     "metadata": {},
     "output_type": "execute_result"
    }
   ],
   "source": [
    "Label = np.array(Label)\n",
    "Label.shape"
   ]
  },
  {
   "cell_type": "code",
   "execution_count": 25,
   "metadata": {},
   "outputs": [],
   "source": [
    "def transport(y):\n",
    "    test_y = []\n",
    "    for i in  y:\n",
    "        max = np.argmax(i)\n",
    "        if max == 0:\n",
    "            test_y.append(max)\n",
    "        else:\n",
    "            test_y.append(1)\n",
    "    return test_y\n",
    "\n",
    "def transport1(y):\n",
    "    test_y = []\n",
    "    for i in  y:\n",
    "        max = np.argmax(i)\n",
    "        test_y.append(max)\n",
    "    return test_y\n",
    "\n",
    "def label_transport(label):\n",
    "    test_y = []\n",
    "    for i in  label:\n",
    "        if i==0:\n",
    "            test_y.append(0)\n",
    "        else:\n",
    "            test_y.append(1)\n",
    "    return test_y"
   ]
  },
  {
   "cell_type": "code",
   "execution_count": 26,
   "metadata": {},
   "outputs": [],
   "source": [
    "x_pre = model.predict(Data)\n",
    "\n",
    "y_pre = transport(x_pre)\n",
    "y_pre1 = transport1(x_pre)\n",
    "y_true = label_transport(Label)"
   ]
  },
  {
   "cell_type": "code",
   "execution_count": 27,
   "metadata": {},
   "outputs": [],
   "source": [
    "import matplotlib.pyplot as plt\n",
    "from sklearn.metrics import confusion_matrix\n",
    "import numpy as np\n",
    "\n",
    "def cm_plot(original_label, predict_label, pic=None):\n",
    "    cm = confusion_matrix(original_label, predict_label)   # 由原标签和预测标签生成混淆矩阵\n",
    "    plt.figure(figsize=(6,6.5))\n",
    "    plt.matshow(cm, cmap=plt.cm.Blues)     # 画混淆矩阵，配色风格使用cm.Blues\n",
    "    plt.colorbar()    # 颜色标签\n",
    "    for x in range(len(cm)):\n",
    "        for y in range(len(cm)):\n",
    "            plt.annotate(cm[x, y], xy=(x, y), horizontalalignment='center', verticalalignment='center')\n",
    "            # annotate主要在图形中添加注释\n",
    "            # 第一个参数添加注释\n",
    "            # 第二个参数是注释的内容\n",
    "            # xy设置箭头尖的坐标\n",
    "            # horizontalalignment水平对齐\n",
    "            # verticalalignment垂直对齐\n",
    "            # 其余常用参数如下：\n",
    "            # xytext设置注释内容显示的起始位置\n",
    "            # arrowprops 用来设置箭头\n",
    "            # facecolor 设置箭头的颜色\n",
    "            # headlength 箭头的头的长度\n",
    "            # headwidth 箭头的宽度\n",
    "            # width 箭身的宽度\n",
    "    plt.ylabel('True label')  # 坐标轴标签\n",
    "    plt.xlabel('Predicted label')  # 坐标轴标签\n",
    "    plt.title('confusion matrix')\n",
    "    if pic is not None:\n",
    "        plt.savefig(str(pic) + '.jpg')\n",
    "    plt.show()\n"
   ]
  },
  {
   "cell_type": "code",
   "execution_count": 28,
   "metadata": {
    "scrolled": true
   },
   "outputs": [
    {
     "data": {
      "text/plain": [
       "<Figure size 432x468 with 0 Axes>"
      ]
     },
     "metadata": {},
     "output_type": "display_data"
    },
    {
     "data": {
      "image/png": "[encoded data removed]",
      "text/plain": [
       "<Figure size 288x288 with 2 Axes>"
      ]
     },
     "metadata": {
      "needs_background": "light"
     },
     "output_type": "display_data"
    }
   ],
   "source": [
    "cm_plot(y_pre,Label)"
   ]
  },
  {
   "cell_type": "code",
   "execution_count": 29,
   "metadata": {},
   "outputs": [
    {
     "data": {
      "text/plain": [
       "<Figure size 432x468 with 0 Axes>"
      ]
     },
     "metadata": {},
     "output_type": "display_data"
    },
    {
     "data": {
      "image/png": "[encoded data removed]",
      "text/plain": [
       "<Figure size 288x288 with 2 Axes>"
      ]
     },
     "metadata": {
      "needs_background": "light"
     },
     "output_type": "display_data"
    }
   ],
   "source": [
    "cm_plot(y_pre1,Label)"
   ]
  },
  {
   "cell_type": "code",
   "execution_count": 30,
   "metadata": {},
   "outputs": [],
   "source": [
    "from sklearn.model_selection import train_test_split\n",
    "from sklearn.metrics import recall_score,accuracy_score\n",
    "from sklearn.metrics import precision_score,f1_score\n",
    "from sklearn.metrics import roc_curve\n",
    "from sklearn.metrics import auc"
   ]
  },
  {
   "cell_type": "code",
   "execution_count": 31,
   "metadata": {},
   "outputs": [
    {
     "name": "stdout",
     "output_type": "stream",
     "text": [
      "Precision_score: 0.16514181628935726\n",
      "Recall_score: 0.2702857142857143\n",
      "F1_score: 0.17448692152917508\n",
      "Accuracy_score: 0.2702857142857143\n"
     ]
    },
    {
     "name": "stderr",
     "output_type": "stream",
     "text": [
      "/usr/local/lib/python3.5/dist-packages/sklearn/metrics/_classification.py:1272: UndefinedMetricWarning: Precision is ill-defined and being set to 0.0 in labels with no predicted samples. Use `zero_division` parameter to control this behavior.\n",
      "  _warn_prf(average, modifier, msg_start, len(result))\n"
     ]
    }
   ],
   "source": [
    "# micro：多分类　　\n",
    "# weighted：不均衡数量的类来说，计算二分类metrics的平均\n",
    "# macro：计算二分类metrics的均值，为每个类给出相同权重的分值。\n",
    "precision = precision_score(Label, y_pre, average='weighted')\n",
    "recall = recall_score(Label, y_pre, average='weighted')\n",
    "f1_score = f1_score(Label, y_pre, average='weighted')\n",
    "accuracy_score = accuracy_score(Label, y_pre)\n",
    "print(\"Precision_score:\",precision)\n",
    "print(\"Recall_score:\",recall)\n",
    "print(\"F1_score:\",f1_score)\n",
    "print(\"Accuracy_score:\",accuracy_score)\n",
    "\n",
    "\n",
    "\n",
    "# # 二分类　ＲＯＣ曲线\n",
    "# # roc_curve:真正率（True Positive Rate , TPR）或灵敏度（sensitivity）\n",
    "# # 横坐标：假正率（False Positive Rate , FPR）\n",
    "# fpr, tpr, thresholds_keras = roc_curve(Label, y_pre)\n",
    "# auc = auc(fpr, tpr)\n",
    "# print(\"AUC : \", auc)\n",
    "# plt.figure()\n",
    "# plt.plot([0, 1], [0, 1], 'k--')\n",
    "# plt.plot(fpr, tpr, label='Keras (area = {:.3f})'.format(auc))\n",
    "# plt.xlabel('False positive rate')\n",
    "# plt.ylabel('True positive rate')\n",
    "# plt.title('ROC curve')\n",
    "# plt.legend(loc='best')\n",
    "# plt.savefig(\"../ROC_2分类.png\")\n",
    "# plt.show()"
   ]
  },
  {
   "cell_type": "code",
   "execution_count": 32,
   "metadata": {
    "scrolled": false
   },
   "outputs": [
    {
     "name": "stdout",
     "output_type": "stream",
     "text": [
      "6785 +++ 7000\n",
      "0.9692857142857143\n"
     ]
    }
   ],
   "source": [
    "print((y_pre1 == Label).sum(),\"+++\",len(y_pre))\n",
    "\n",
    "\n",
    "print((y_pre1 == Label).sum()/len(y_pre))\n",
    "#print((y_pre1 == y_true).sum()/len(y_pre))"
   ]
  },
  {
   "cell_type": "markdown",
   "metadata": {},
   "source": [
    "# 评估集！！！"
   ]
  },
  {
   "cell_type": "code",
   "execution_count": 59,
   "metadata": {},
   "outputs": [],
   "source": [
    "path = r'/home/ubuntu/音频处理evalCqcc/'\n",
    "list_root = os.listdir(path)"
   ]
  },
  {
   "cell_type": "code",
   "execution_count": 60,
   "metadata": {
    "scrolled": true
   },
   "outputs": [
    {
     "data": {
      "text/plain": [
       "['A16',\n",
       " 'A14',\n",
       " 'A11',\n",
       " 'A13',\n",
       " 'A12',\n",
       " 'A07',\n",
       " 'A08',\n",
       " 'bonafide',\n",
       " 'A19',\n",
       " 'A17',\n",
       " 'A15',\n",
       " 'A18',\n",
       " 'A09',\n",
       " 'A10']"
      ]
     },
     "execution_count": 60,
     "metadata": {},
     "output_type": "execute_result"
    }
   ],
   "source": [
    "list_root"
   ]
  },
  {
   "cell_type": "code",
   "execution_count": 61,
   "metadata": {},
   "outputs": [],
   "source": [
    "Label = []\n",
    "Data =[]\n",
    "Label_dic = {'bonafide':0}\n",
    "for path_children in list_root:\n",
    "    if path_children =='ofile_time_roll' or path_children =='ofile_time_stretch':\n",
    "        continue\n",
    "    if path_children in Label_dic:\n",
    "        judge = Label_dic[path_children]\n",
    "    else:\n",
    "        judge = len(Label_dic)\n",
    "        Label_dic[path_children] = judge\n",
    "\n",
    "    path_children_ = path+path_children\n",
    "    list_children = os.listdir(path_children_)\n",
    "    dict_kind = {}\n",
    "    \n",
    "    if path_children not in dict_kind:\n",
    "        dict_kind[path_children]=0\n",
    "        \n",
    "    for mats in list_children:\n",
    "        dict_kind[path_children]+=1\n",
    "#         if dict_kind[path_children]>2000  and path_children !='bonafide' and path_children !='ofile_time_roll' and  path_children!='ofile_time_stretch':\n",
    "#             break\n",
    "        if dict_kind[path_children]>2000:\n",
    "            break\n",
    "        Label.append(judge)\n",
    "        m = loadmat(path_children_+'/'+mats)\n",
    "        Data.append(m['CQcc'].reshape(60,264,1))"
   ]
  },
  {
   "cell_type": "code",
   "execution_count": 62,
   "metadata": {},
   "outputs": [
    {
     "data": {
      "text/plain": [
       "(28000, 60, 264, 1)"
      ]
     },
     "execution_count": 62,
     "metadata": {},
     "output_type": "execute_result"
    }
   ],
   "source": [
    "Data = np.array(Data)\n",
    "Data.shape"
   ]
  },
  {
   "cell_type": "code",
   "execution_count": 63,
   "metadata": {},
   "outputs": [
    {
     "data": {
      "text/plain": [
       "(28000,)"
      ]
     },
     "execution_count": 63,
     "metadata": {},
     "output_type": "execute_result"
    }
   ],
   "source": [
    "Label = np.array(Label)\n",
    "Label.shape"
   ]
  },
  {
   "cell_type": "code",
   "execution_count": 64,
   "metadata": {},
   "outputs": [],
   "source": [
    "def transport(y):\n",
    "    test_y = []\n",
    "    for i in  y:\n",
    "        max = np.argmax(i)\n",
    "        if max == 0:\n",
    "            test_y.append(max)\n",
    "        else:\n",
    "            test_y.append(1)\n",
    "    return test_y\n",
    "\n",
    "def transport1(y):\n",
    "    test_y = []\n",
    "    for i in  y:\n",
    "        if i[0]>0.90:\n",
    "            test_y.append(0)\n",
    "        else:\n",
    "            test_y.append(1)\n",
    "    return test_y\n",
    "\n",
    "def label_transport(label):\n",
    "    test_y = []\n",
    "    for i in  label:\n",
    "        if i==0:\n",
    "            test_y.append(0)\n",
    "        else:\n",
    "            test_y.append(1)\n",
    "    return test_y\n"
   ]
  },
  {
   "cell_type": "code",
   "execution_count": 65,
   "metadata": {},
   "outputs": [],
   "source": [
    "x_pre = model.predict(Data)"
   ]
  },
  {
   "cell_type": "code",
   "execution_count": 66,
   "metadata": {},
   "outputs": [],
   "source": [
    "y_pre = transport(x_pre)\n",
    "y_pre1 = transport1(x_pre)\n",
    "y_true = label_transport(Label)"
   ]
  },
  {
   "cell_type": "code",
   "execution_count": 67,
   "metadata": {
    "scrolled": true
   },
   "outputs": [
    {
     "data": {
      "text/plain": [
       "array([ 1,  1,  1,  1,  2,  2,  2,  2,  3,  3,  3,  3,  4,  4,  4,  4,  5,\n",
       "        5,  5,  5,  6,  6,  6,  6,  7,  7,  7,  7,  0,  0,  0,  0,  8,  8,\n",
       "        8,  8,  9,  9,  9,  9, 10, 10, 10, 10, 11, 11, 11, 11, 12, 12, 12,\n",
       "       12, 13, 13, 13, 13])"
      ]
     },
     "execution_count": 67,
     "metadata": {},
     "output_type": "execute_result"
    }
   ],
   "source": [
    "Label[::500]"
   ]
  },
  {
   "cell_type": "code",
   "execution_count": 68,
   "metadata": {
    "scrolled": true
   },
   "outputs": [
    {
     "data": {
      "text/plain": [
       "[1,\n",
       " 1,\n",
       " 1,\n",
       " 1,\n",
       " 1,\n",
       " 1,\n",
       " 1,\n",
       " 1,\n",
       " 1,\n",
       " 1,\n",
       " 1,\n",
       " 1,\n",
       " 1,\n",
       " 1,\n",
       " 1,\n",
       " 1,\n",
       " 1,\n",
       " 1,\n",
       " 1,\n",
       " 1,\n",
       " 1,\n",
       " 1,\n",
       " 1,\n",
       " 1,\n",
       " 1,\n",
       " 1,\n",
       " 1,\n",
       " 1,\n",
       " 0,\n",
       " 0,\n",
       " 0,\n",
       " 0,\n",
       " 1,\n",
       " 1,\n",
       " 1,\n",
       " 1,\n",
       " 1,\n",
       " 1,\n",
       " 1,\n",
       " 1,\n",
       " 1,\n",
       " 1,\n",
       " 1,\n",
       " 1,\n",
       " 1,\n",
       " 1,\n",
       " 1,\n",
       " 1,\n",
       " 1,\n",
       " 1,\n",
       " 1,\n",
       " 1,\n",
       " 1,\n",
       " 1,\n",
       " 1,\n",
       " 1]"
      ]
     },
     "execution_count": 68,
     "metadata": {},
     "output_type": "execute_result"
    }
   ],
   "source": [
    "y_true[::500]"
   ]
  },
  {
   "cell_type": "code",
   "execution_count": 69,
   "metadata": {},
   "outputs": [
    {
     "data": {
      "text/plain": [
       "<Figure size 432x468 with 0 Axes>"
      ]
     },
     "metadata": {},
     "output_type": "display_data"
    },
    {
     "data": {
      "image/png": "[encoded data removed]",
      "text/plain": [
       "<Figure size 288x288 with 2 Axes>"
      ]
     },
     "metadata": {
      "needs_background": "light"
     },
     "output_type": "display_data"
    }
   ],
   "source": [
    "cm_plot(y_pre,y_true)"
   ]
  },
  {
   "cell_type": "code",
   "execution_count": 70,
   "metadata": {},
   "outputs": [
    {
     "data": {
      "text/plain": [
       "<Figure size 432x468 with 0 Axes>"
      ]
     },
     "metadata": {},
     "output_type": "display_data"
    },
    {
     "data": {
      "image/png": "[encoded data removed]",
      "text/plain": [
       "<Figure size 288x288 with 2 Axes>"
      ]
     },
     "metadata": {
      "needs_background": "light"
     },
     "output_type": "display_data"
    }
   ],
   "source": [
    "cm_plot(y_pre1,y_true)"
   ]
  },
  {
   "cell_type": "code",
   "execution_count": 71,
   "metadata": {},
   "outputs": [
    {
     "name": "stdout",
     "output_type": "stream",
     "text": [
      "Precision_score: 0.955789320054945\n",
      "Recall_score: 0.9543214285714285\n",
      "F1_score: 0.17448692152917508\n",
      "Accuracy_score: 0.2702857142857143\n"
     ]
    }
   ],
   "source": [
    "# micro：多分类　　\n",
    "# weighted：不均衡数量的类来说，计算二分类metrics的平均\n",
    "# macro：计算二分类metrics的均值，为每个类给出相同权重的分值。\n",
    "precision = precision_score(y_pre1,y_true, average='weighted')\n",
    "recall = recall_score(y_pre1,y_true, average='weighted')\n",
    "# f1_score = f1_score(y_pre1,y_true, average='weighted')\n",
    "# accuracy_score = accuracy_score(y_pre1,y_true)\n",
    "print(\"Precision_score:\",precision)\n",
    "print(\"Recall_score:\",recall)\n",
    "print(\"F1_score:\",f1_score)\n",
    "print(\"Accuracy_score:\",accuracy_score)\n",
    "\n",
    "\n",
    "\n",
    "# # 二分类　ＲＯＣ曲线\n",
    "# # roc_curve:真正率（True Positive Rate , TPR）或灵敏度（sensitivity）\n",
    "# # 横坐标：假正率（False Positive Rate , FPR）\n",
    "# fpr, tpr, thresholds_keras = roc_curve(Label, y_pre1)\n",
    "# auc = auc(fpr, tpr)\n",
    "# print(\"AUC : \", auc)\n",
    "# plt.figure()\n",
    "# plt.plot([0, 1], [0, 1], 'k--')\n",
    "# plt.plot(fpr, tpr, label='Keras (area = {:.3f})'.format(auc))\n",
    "# plt.xlabel('False positive rate')\n",
    "# plt.ylabel('True positive rate')\n",
    "# plt.title('ROC curve')\n",
    "# plt.legend(loc='best')\n",
    "# plt.savefig(\"../ROC_2分类.png\")\n",
    "# plt.show()"
   ]
  },
  {
   "cell_type": "markdown",
   "metadata": {},
   "source": [
    "# 每种攻击测试"
   ]
  },
  {
   "cell_type": "code",
   "execution_count": 72,
   "metadata": {},
   "outputs": [],
   "source": [
    "path = r'/home/ubuntu/音频处理evalCqcc/'\n",
    "list_root = os.listdir(path)"
   ]
  },
  {
   "cell_type": "code",
   "execution_count": 73,
   "metadata": {
    "scrolled": false
   },
   "outputs": [
    {
     "data": {
      "text/plain": [
       "['A16',\n",
       " 'A14',\n",
       " 'A11',\n",
       " 'A13',\n",
       " 'A12',\n",
       " 'A07',\n",
       " 'A08',\n",
       " 'bonafide',\n",
       " 'A19',\n",
       " 'A17',\n",
       " 'A15',\n",
       " 'A18',\n",
       " 'A09',\n",
       " 'A10']"
      ]
     },
     "execution_count": 73,
     "metadata": {},
     "output_type": "execute_result"
    }
   ],
   "source": [
    "list_root"
   ]
  },
  {
   "cell_type": "code",
   "execution_count": 74,
   "metadata": {},
   "outputs": [],
   "source": [
    "def transport(y):\n",
    "    test_y = []\n",
    "    for i in  y:\n",
    "        max = np.argmax(i)\n",
    "        if max == 0:\n",
    "            test_y.append(max)\n",
    "        else:\n",
    "            test_y.append(1)\n",
    "    return test_y\n",
    "\n",
    "def transport1(y):\n",
    "    test_y = []\n",
    "    for i in  y:\n",
    "        if i[0]>0.80:\n",
    "            test_y.append(0)\n",
    "        else:\n",
    "            test_y.append(1)\n",
    "    return test_y\n",
    "\n",
    "def label_transport(label):\n",
    "    test_y = []\n",
    "    for i in  label:\n",
    "        if i==0:\n",
    "            test_y.append(0)\n",
    "        else:\n",
    "            test_y.append(1)\n",
    "    return test_y\n"
   ]
  },
  {
   "cell_type": "code",
   "execution_count": 75,
   "metadata": {
    "scrolled": false
   },
   "outputs": [
    {
     "name": "stdout",
     "output_type": "stream",
     "text": [
      "A16\n",
      "0.998 ++++ 1.0\n",
      "A14\n",
      "0.981 ++++ 0.998\n",
      "A11\n",
      "0.995 ++++ 1.0\n",
      "A13\n",
      "0.987 ++++ 0.998\n",
      "A12\n",
      "0.973 ++++ 0.998\n",
      "A07\n",
      "1.0 ++++ 1.0\n",
      "A08\n",
      "0.98 ++++ 0.999\n",
      "bonafide\n",
      "0.85 ++++ 0.738\n",
      "A19\n",
      "1.0 ++++ 1.0\n",
      "A17\n",
      "0.615 ++++ 0.766\n",
      "A15\n",
      "0.991 ++++ 1.0\n",
      "A18\n",
      "0.65 ++++ 0.807\n",
      "A09\n",
      "1.0 ++++ 1.0\n",
      "A10\n",
      "0.985 ++++ 0.998\n"
     ]
    }
   ],
   "source": [
    "for c,path_children in  enumerate(list_root):\n",
    "    Label = []\n",
    "    Data =[]\n",
    "    print(path_children)\n",
    "    if path_children =='bonafide' or path_children =='ofile_time_roll' or  path_children=='ofile_time_stretch':\n",
    "        judge = 0\n",
    "    else:\n",
    "#         continue\n",
    "        judge = 1\n",
    "        \n",
    "    path_children_ = path+path_children\n",
    "    list_children = os.listdir(path_children_)\n",
    "    dict_kind = {}\n",
    "    \n",
    "    if path_children not in dict_kind:\n",
    "        dict_kind[path_children]=0\n",
    "        \n",
    "    for mats in list_children:\n",
    "        dict_kind[path_children]+=1\n",
    "        if dict_kind[path_children]>1000  and path_children !='bonafide' and path_children !='ofile_time_roll' and  path_children!='ofile_time_stretch':\n",
    "            break\n",
    "        elif dict_kind[path_children]>1000:\n",
    "            break\n",
    "        Label.append(judge)\n",
    "        m = loadmat(path_children_+'/'+mats)\n",
    "        Data.append(m['CQcc'].reshape(60,264,1))\n",
    "    Data = np.array(Data)\n",
    "    Label = np.array(Label)\n",
    "    x_pre = model.predict(Data)\n",
    "    y_pre = transport(x_pre)\n",
    "    y_pre1 = transport1(x_pre)\n",
    "    y_true = label_transport(Label)\n",
    "    print((y_pre == Label).sum()/len(y_pre),\"++++\",np.array(np.array(y_pre1) == np.array(y_true)).sum()/len(y_pre1))"
   ]
  },
  {
   "cell_type": "code",
   "execution_count": 76,
   "metadata": {},
   "outputs": [],
   "source": [
    "model.save('最终保留.h5')"
   ]
  },
  {
   "cell_type": "code",
   "execution_count": null,
   "metadata": {},
   "outputs": [],
   "source": []
  },
  {
   "cell_type": "code",
   "execution_count": null,
   "metadata": {},
   "outputs": [],
   "source": []
  },
  {
   "cell_type": "code",
   "execution_count": null,
   "metadata": {},
   "outputs": [],
   "source": []
  }
 ],
 "metadata": {
  "kernelspec": {
   "display_name": "Python 3",
   "language": "python",
   "name": "python3"
  },
  "language_info": {
   "codemirror_mode": {
    "name": "ipython",
    "version": 3
   },
   "file_extension": ".py",
   "mimetype": "text/x-python",
   "name": "python",
   "nbconvert_exporter": "python",
   "pygments_lexer": "ipython3",
   "version": "3.6.6"
  }
 },
 "nbformat": 4,
 "nbformat_minor": 2
}
