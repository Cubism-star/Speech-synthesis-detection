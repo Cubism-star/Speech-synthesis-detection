{
 "cells": [
  {
   "cell_type": "code",
   "execution_count": 1,
   "metadata": {},
   "outputs": [
    {
     "name": "stderr",
     "output_type": "stream",
     "text": [
      "Using TensorFlow backend.\n",
      "/usr/local/lib/python3.5/dist-packages/tensorflow/python/framework/dtypes.py:493: FutureWarning: Passing (type, 1) or '1type' as a synonym of type is deprecated; in a future version of numpy, it will be understood as (type, (1,)) / '(1,)type'.\n",
      "  _np_qint8 = np.dtype([(\"qint8\", np.int8, 1)])\n",
      "/usr/local/lib/python3.5/dist-packages/tensorflow/python/framework/dtypes.py:494: FutureWarning: Passing (type, 1) or '1type' as a synonym of type is deprecated; in a future version of numpy, it will be understood as (type, (1,)) / '(1,)type'.\n",
      "  _np_quint8 = np.dtype([(\"quint8\", np.uint8, 1)])\n",
      "/usr/local/lib/python3.5/dist-packages/tensorflow/python/framework/dtypes.py:495: FutureWarning: Passing (type, 1) or '1type' as a synonym of type is deprecated; in a future version of numpy, it will be understood as (type, (1,)) / '(1,)type'.\n",
      "  _np_qint16 = np.dtype([(\"qint16\", np.int16, 1)])\n",
      "/usr/local/lib/python3.5/dist-packages/tensorflow/python/framework/dtypes.py:496: FutureWarning: Passing (type, 1) or '1type' as a synonym of type is deprecated; in a future version of numpy, it will be understood as (type, (1,)) / '(1,)type'.\n",
      "  _np_quint16 = np.dtype([(\"quint16\", np.uint16, 1)])\n",
      "/usr/local/lib/python3.5/dist-packages/tensorflow/python/framework/dtypes.py:497: FutureWarning: Passing (type, 1) or '1type' as a synonym of type is deprecated; in a future version of numpy, it will be understood as (type, (1,)) / '(1,)type'.\n",
      "  _np_qint32 = np.dtype([(\"qint32\", np.int32, 1)])\n",
      "/usr/local/lib/python3.5/dist-packages/tensorflow/python/framework/dtypes.py:502: FutureWarning: Passing (type, 1) or '1type' as a synonym of type is deprecated; in a future version of numpy, it will be understood as (type, (1,)) / '(1,)type'.\n",
      "  np_resource = np.dtype([(\"resource\", np.ubyte, 1)])\n"
     ]
    },
    {
     "data": {
      "text/plain": [
       "'3.5.2 (default, Oct  8 2019, 13:06:37) \\n[GCC 5.4.0 20160609]'"
      ]
     },
     "execution_count": 1,
     "metadata": {},
     "output_type": "execute_result"
    }
   ],
   "source": [
    "import keras\n",
    "import numpy as np\n",
    "import os\n",
    "import sklearn\n",
    "import matplotlib.pyplot as plt\n",
    "from keras.callbacks import EarlyStopping,ModelCheckpoint\n",
    "from keras import layers\n",
    "from keras.layers import Input, Dense, Activation, ZeroPadding2D, Conv2D, Flatten, BatchNormalization, Add, MaxPooling2D, AveragePooling2D, Dropout\n",
    "import keras.backend as K\n",
    "from keras.models import Model\n",
    "from keras import regularizers\n",
    "import sys\n",
    "import random\n",
    "from keras.utils import np_utils\n",
    "sys.version"
   ]
  },
  {
   "cell_type": "markdown",
   "metadata": {},
   "source": [
    "# 构造恒等块"
   ]
  },
  {
   "cell_type": "code",
   "execution_count": 2,
   "metadata": {},
   "outputs": [],
   "source": [
    "def identity_block(X, f, filters):\n",
    "    '''\n",
    "    X:输入向量，Tensor类型\n",
    "    f:conv卷积核的维度\n",
    "    filter:定义主路径上卷积核的个数\n",
    "    '''\n",
    "    F1, F2, F3 = filters\n",
    "    X_shortcut = X\n",
    "    #第一个卷积块\n",
    "    X = Conv2D(filters=F1, kernel_size=(1, 1), strides=(1, 1), padding='valid', kernel_initializer='glorot_uniform')(X)\n",
    "    #归一化\n",
    "    X = BatchNormalization(axis = 3)(X)\n",
    "    #激活层\n",
    "    X = Activation(activation='relu')(X)\n",
    "    \n",
    "    #第二个卷积块\n",
    "    X = Conv2D(filters=F2, kernel_size=(f, f), strides=(1, 1), padding='same', kernel_initializer='glorot_uniform')(X)\n",
    "    #归一化\n",
    "    X = BatchNormalization(axis=3)(X)\n",
    "    #激活层\n",
    "    X = Activation(activation='relu')(X)\n",
    "    \n",
    "    #第三个卷积块\n",
    "    X = Conv2D(filters=F3, kernel_size=(1, 1), strides=(1, 1), padding='valid', kernel_initializer='glorot_uniform')(X)\n",
    "      #归一化\n",
    "    X = BatchNormalization(axis=3)(X)\n",
    "    \n",
    "    #两条路径合并\n",
    "    X = Add()([X, X_shortcut])\n",
    "    #激活层\n",
    "    X = Activation(activation='relu')(X)\n",
    "    \n",
    "    return X"
   ]
  },
  {
   "cell_type": "markdown",
   "metadata": {},
   "source": [
    "#  构造卷积块"
   ]
  },
  {
   "cell_type": "code",
   "execution_count": 3,
   "metadata": {},
   "outputs": [],
   "source": [
    "def conv_block(X, f, filters, s=2):\n",
    "    '''\n",
    "    X：输入向量\n",
    "    f:卷积核的维度\n",
    "    filters:各个组成块的卷积核的个数\n",
    "    s:做卷积时的步伐\n",
    "    '''\n",
    "    F1, F2, F3 = filters\n",
    "    #捷径\n",
    "    X_shortcut = X\n",
    "    #主路径\n",
    "    #主路径的第一个卷积块\n",
    "    X = Conv2D(filters=F1, kernel_size=(1, 1), strides=(s, s), padding='valid', kernel_initializer='glorot_uniform')(X)\n",
    "    X = BatchNormalization(axis=3)(X)\n",
    "    X = Activation(activation='relu')(X)\n",
    "    \n",
    "    #主路径上的第二个卷积块\n",
    "    X = Conv2D(filters=F2, kernel_size=(f, f), strides=(1, 1), padding='same', kernel_initializer='glorot_uniform')(X)\n",
    "    X = BatchNormalization(axis=3)(X)\n",
    "    X = Activation(activation='relu')(X)\n",
    "    \n",
    "    #主路径上的第三个卷积块\n",
    "    X = Conv2D(filters=F3, kernel_size=(1, 1), strides=(1, 1), padding='valid', kernel_initializer='glorot_uniform')(X)\n",
    "    X = BatchNormalization(axis=3)(X)\n",
    "    \n",
    "    #捷径\n",
    "    X_shortcut = Conv2D(filters=F3, kernel_size=(1, 1), strides=(s, s), padding='valid', kernel_initializer='glorot_uniform')(X_shortcut)\n",
    "    X_shortcut = BatchNormalization(axis=3)(X_shortcut)\n",
    "    \n",
    "    #主路径捷径合并\n",
    "    X = Add()([X, X_shortcut])\n",
    "    X = Activation(activation='relu')(X)\n",
    "    \n",
    "    return X"
   ]
  },
  {
   "cell_type": "markdown",
   "metadata": {},
   "source": [
    "# 构建残差网络"
   ]
  },
  {
   "cell_type": "code",
   "execution_count": 4,
   "metadata": {},
   "outputs": [],
   "source": [
    "def ResNet(input_shape):\n",
    "    '''\n",
    "    input_shape:输入的Tensor维度\n",
    "    \n",
    "    '''\n",
    "    X_input = Input(input_shape)\n",
    "    #对输入数据进行零填充，padding=(3, 3)\n",
    "    X = ZeroPadding2D(padding=(3, 3))(X_input)\n",
    "    \n",
    "    #state1\n",
    "    '''\n",
    "    卷积层有64个过滤器，其维度为（7，7），步伐为（2，2），命名为“conv1”\n",
    "\n",
    "    规范层（BatchNorm）对输入数据进行通道轴归一化。\n",
    "\n",
    "    最大值池化层使用一个（3，3）的窗口和（2，2）的步伐\n",
    "    '''\n",
    "    X = Conv2D(filters=64, kernel_size=(7, 7), strides=(2, 2), padding='valid', kernel_initializer='glorot_uniform')(X)\n",
    "    X = BatchNormalization(axis=3)(X)\n",
    "    X = MaxPooling2D(pool_size=(3, 3), strides=(2, 2))(X)\n",
    "    \n",
    "    #state2\n",
    "    '''\n",
    "\n",
    "    卷积块使用f=3个大小为[64，64，256]的过滤器，f=3，s=1\n",
    "\n",
    "    2个恒等块使用三个大小为[64，64，256]的过滤器，f=3\n",
    "\n",
    "    '''\n",
    "    X = conv_block(X, f=3, filters=[64, 64, 256], s=1)\n",
    "    X = identity_block(X, f=3, filters=[64, 64, 256])\n",
    "    X = identity_block(X, f=3, filters=[64, 64, 256])\n",
    "    \n",
    "    #state3\n",
    "    '''\n",
    "\n",
    "    卷积块使用f=3个大小为[128,128,512]的过滤器，f=3，s=2\n",
    "\n",
    "    3个恒等块使用三个大小为[128,128,512]的过滤器，f=3\n",
    "\n",
    "    '''\n",
    "    X = conv_block(X, f=3, filters=[128, 128, 512], s=2)\n",
    "    X = identity_block(X, f=3, filters=[128, 128, 512])\n",
    "    X = identity_block(X, f=3, filters=[128, 128, 512])\n",
    "    X = identity_block(X, f=3, filters=[128, 128, 512])\n",
    "    \n",
    "    #state4\n",
    "    '''\n",
    "    卷积块使用f=3个大小为[256,256,1024]的过滤器，f=3，s=2\n",
    "\n",
    "    5个恒等块使用三个大小为[256,256,1024]的过滤器，f=3\n",
    "    \n",
    "    '''\n",
    "    X = conv_block(X, f=3, filters=[256, 256, 1024], s=2)\n",
    "    \n",
    "    X = identity_block(X, f=3, filters=[256, 256, 1024])\n",
    "    X = identity_block(X, f=3, filters=[256, 256, 1024])\n",
    "    X = identity_block(X, f=3, filters=[256, 256, 1024])\n",
    "    X = identity_block(X, f=3, filters=[256, 256, 1024])\n",
    "    X = identity_block(X, f=3, filters=[256, 256, 1024])\n",
    "    \n",
    "    #state5\n",
    "    '''\n",
    "    卷积块使用f=3个大小为[512,512,2048]的过滤器，f=3，s=2\n",
    "\n",
    "    2个恒等块使用三个大小为[256,256,2048]的过滤器，f=3\n",
    "    '''\n",
    "    X = conv_block(X, f=3, filters=[512, 512, 2048], s=2)\n",
    "    X = identity_block(X, f=3, filters=[256, 256, 2048])\n",
    "    X = identity_block(X, f=3, filters=[256, 256, 2048])\n",
    "    \n",
    "    #均值池化层\n",
    "    '''\n",
    "    均值池化层使用维度为（2,2）的窗口\n",
    "    '''\n",
    "    X = AveragePooling2D(pool_size=(2, 2), padding='same')(X)\n",
    "    \n",
    "    #平滑\n",
    "    X = Flatten()(X)\n",
    "    \n",
    "    '''\n",
    "    全连接层\n",
    "    使用softmax作为激活函数，输出为2,代表分类成两类的概率\n",
    "    '''\n",
    "    #将 softmax调换成sigmod 更适合二分类\n",
    "    X = Dense(7, activation='softmax', kernel_initializer='glorot_uniform', kernel_regularizer=regularizers.l2(2.0), activity_regularizer=regularizers.l1(2.0))(X)\n",
    "    model = Model(inputs=X_input, outputs=X)\n",
    "    \n",
    "    return model"
   ]
  },
  {
   "cell_type": "markdown",
   "metadata": {},
   "source": [
    "# 建立模型实例并编译"
   ]
  },
  {
   "cell_type": "code",
   "execution_count": 5,
   "metadata": {},
   "outputs": [],
   "source": [
    "model = ResNet((60, 264, 1))\n",
    "model.compile(optimizer=\"adam\", loss=\"categorical_crossentropy\", metrics=[\"accuracy\"])"
   ]
  },
  {
   "cell_type": "markdown",
   "metadata": {},
   "source": [
    "## 导入数据"
   ]
  },
  {
   "cell_type": "code",
   "execution_count": 6,
   "metadata": {},
   "outputs": [],
   "source": [
    "import os\n",
    "from scipy.io import loadmat\n",
    "import numpy as np"
   ]
  },
  {
   "cell_type": "code",
   "execution_count": 7,
   "metadata": {
    "scrolled": true
   },
   "outputs": [
    {
     "data": {
      "text/plain": [
       "['ofile_time_stretch',\n",
       " 'US_1',\n",
       " 'SS_2',\n",
       " 'VC_1',\n",
       " 'SS_1',\n",
       " 'bonafide',\n",
       " 'VC_4',\n",
       " 'SS_4',\n",
       " 'ofile_time_roll']"
      ]
     },
     "execution_count": 7,
     "metadata": {},
     "output_type": "execute_result"
    }
   ],
   "source": [
    "path = r'/home/ubuntu/音频处理trainCqcc/'\n",
    "list_root = os.listdir(path)\n",
    "\n",
    "list_root"
   ]
  },
  {
   "cell_type": "code",
   "execution_count": 8,
   "metadata": {},
   "outputs": [],
   "source": [
    "Label = []\n",
    "Data =[]\n",
    "Label_dic = {'bonafide':0}\n",
    "for path_children in list_root:\n",
    "    if path_children =='ofile_time_roll' or path_children =='ofile_time_stretch' :#or path_children =='SS_4':\n",
    "        continue\n",
    "    if path_children in Label_dic:\n",
    "        judge = Label_dic[path_children]\n",
    "    else:\n",
    "        judge = len(Label_dic)\n",
    "        Label_dic[path_children] = judge\n",
    "\n",
    "    path_children_ = path+path_children\n",
    "    list_children = os.listdir(path_children_)\n",
    "    dict_kind = {}\n",
    "    \n",
    "    if path_children not in dict_kind:\n",
    "        dict_kind[path_children]=0\n",
    "        \n",
    "        \n",
    "    seq = [i for i in range(len(list_children))]\n",
    "    choice  = random.sample(seq,2000)\n",
    "    choice.sort()\n",
    "    for number,mats in enumerate(list_children):\n",
    "        if number not in choice:\n",
    "            continue\n",
    "        dict_kind[path_children]+=1\n",
    "#         if dict_kind[path_children]>2000  and path_children !='bonafide' and path_children !='ofile_time_roll' and  path_children!='ofile_time_stretch':\n",
    "#             break\n",
    "#         elif dict_kind[path_children]>2000:\n",
    "#             break\n",
    "        Label.append(judge)\n",
    "        m = loadmat(path_children_+'/'+mats)\n",
    "        Data.append(m['CQcc'].reshape(60,264,1))"
   ]
  },
  {
   "cell_type": "code",
   "execution_count": 10,
   "metadata": {},
   "outputs": [
    {
     "data": {
      "text/plain": [
       "(14000, 60, 264, 1)"
      ]
     },
     "execution_count": 10,
     "metadata": {},
     "output_type": "execute_result"
    }
   ],
   "source": [
    "Data = np.array(Data)\n",
    "Label = np.array(Label)\n",
    "print(Label_dic)\n",
    "print(Data.shape)\n",
    "print(Label.shape)"
   ]
  },
  {
   "cell_type": "markdown",
   "metadata": {},
   "source": [
    "# 独热编码"
   ]
  },
  {
   "cell_type": "code",
   "execution_count": 12,
   "metadata": {
    "scrolled": true
   },
   "outputs": [
    {
     "name": "stdout",
     "output_type": "stream",
     "text": [
      "[[0. 1. 0. 0. 0. 0. 0.]\n",
      " [0. 1. 0. 0. 0. 0. 0.]\n",
      " [0. 1. 0. 0. 0. 0. 0.]\n",
      " [0. 1. 0. 0. 0. 0. 0.]\n",
      " [0. 1. 0. 0. 0. 0. 0.]\n",
      " [0. 1. 0. 0. 0. 0. 0.]\n",
      " [0. 1. 0. 0. 0. 0. 0.]\n",
      " [0. 1. 0. 0. 0. 0. 0.]\n",
      " [0. 1. 0. 0. 0. 0. 0.]\n",
      " [0. 1. 0. 0. 0. 0. 0.]\n",
      " [0. 1. 0. 0. 0. 0. 0.]\n",
      " [0. 1. 0. 0. 0. 0. 0.]\n",
      " [0. 1. 0. 0. 0. 0. 0.]\n",
      " [0. 1. 0. 0. 0. 0. 0.]\n",
      " [0. 1. 0. 0. 0. 0. 0.]\n",
      " [0. 1. 0. 0. 0. 0. 0.]\n",
      " [0. 1. 0. 0. 0. 0. 0.]\n",
      " [0. 1. 0. 0. 0. 0. 0.]\n",
      " [0. 1. 0. 0. 0. 0. 0.]\n",
      " [0. 1. 0. 0. 0. 0. 0.]\n",
      " [0. 0. 1. 0. 0. 0. 0.]\n",
      " [0. 0. 1. 0. 0. 0. 0.]\n",
      " [0. 0. 1. 0. 0. 0. 0.]\n",
      " [0. 0. 1. 0. 0. 0. 0.]\n",
      " [0. 0. 1. 0. 0. 0. 0.]\n",
      " [0. 0. 1. 0. 0. 0. 0.]\n",
      " [0. 0. 1. 0. 0. 0. 0.]\n",
      " [0. 0. 1. 0. 0. 0. 0.]\n",
      " [0. 0. 1. 0. 0. 0. 0.]\n",
      " [0. 0. 1. 0. 0. 0. 0.]\n",
      " [0. 0. 1. 0. 0. 0. 0.]\n",
      " [0. 0. 1. 0. 0. 0. 0.]\n",
      " [0. 0. 1. 0. 0. 0. 0.]\n",
      " [0. 0. 1. 0. 0. 0. 0.]\n",
      " [0. 0. 1. 0. 0. 0. 0.]\n",
      " [0. 0. 1. 0. 0. 0. 0.]\n",
      " [0. 0. 1. 0. 0. 0. 0.]\n",
      " [0. 0. 1. 0. 0. 0. 0.]\n",
      " [0. 0. 1. 0. 0. 0. 0.]\n",
      " [0. 0. 1. 0. 0. 0. 0.]\n",
      " [0. 0. 0. 1. 0. 0. 0.]\n",
      " [0. 0. 0. 1. 0. 0. 0.]\n",
      " [0. 0. 0. 1. 0. 0. 0.]\n",
      " [0. 0. 0. 1. 0. 0. 0.]\n",
      " [0. 0. 0. 1. 0. 0. 0.]\n",
      " [0. 0. 0. 1. 0. 0. 0.]\n",
      " [0. 0. 0. 1. 0. 0. 0.]\n",
      " [0. 0. 0. 1. 0. 0. 0.]\n",
      " [0. 0. 0. 1. 0. 0. 0.]\n",
      " [0. 0. 0. 1. 0. 0. 0.]\n",
      " [0. 0. 0. 1. 0. 0. 0.]\n",
      " [0. 0. 0. 1. 0. 0. 0.]\n",
      " [0. 0. 0. 1. 0. 0. 0.]\n",
      " [0. 0. 0. 1. 0. 0. 0.]\n",
      " [0. 0. 0. 1. 0. 0. 0.]\n",
      " [0. 0. 0. 1. 0. 0. 0.]\n",
      " [0. 0. 0. 1. 0. 0. 0.]\n",
      " [0. 0. 0. 1. 0. 0. 0.]\n",
      " [0. 0. 0. 1. 0. 0. 0.]\n",
      " [0. 0. 0. 1. 0. 0. 0.]\n",
      " [0. 0. 0. 0. 1. 0. 0.]\n",
      " [0. 0. 0. 0. 1. 0. 0.]\n",
      " [0. 0. 0. 0. 1. 0. 0.]\n",
      " [0. 0. 0. 0. 1. 0. 0.]\n",
      " [0. 0. 0. 0. 1. 0. 0.]\n",
      " [0. 0. 0. 0. 1. 0. 0.]\n",
      " [0. 0. 0. 0. 1. 0. 0.]\n",
      " [0. 0. 0. 0. 1. 0. 0.]\n",
      " [0. 0. 0. 0. 1. 0. 0.]\n",
      " [0. 0. 0. 0. 1. 0. 0.]\n",
      " [0. 0. 0. 0. 1. 0. 0.]\n",
      " [0. 0. 0. 0. 1. 0. 0.]\n",
      " [0. 0. 0. 0. 1. 0. 0.]\n",
      " [0. 0. 0. 0. 1. 0. 0.]\n",
      " [0. 0. 0. 0. 1. 0. 0.]\n",
      " [0. 0. 0. 0. 1. 0. 0.]\n",
      " [0. 0. 0. 0. 1. 0. 0.]\n",
      " [0. 0. 0. 0. 1. 0. 0.]\n",
      " [0. 0. 0. 0. 1. 0. 0.]\n",
      " [0. 0. 0. 0. 1. 0. 0.]\n",
      " [1. 0. 0. 0. 0. 0. 0.]\n",
      " [1. 0. 0. 0. 0. 0. 0.]\n",
      " [1. 0. 0. 0. 0. 0. 0.]\n",
      " [1. 0. 0. 0. 0. 0. 0.]\n",
      " [1. 0. 0. 0. 0. 0. 0.]\n",
      " [1. 0. 0. 0. 0. 0. 0.]\n",
      " [1. 0. 0. 0. 0. 0. 0.]\n",
      " [1. 0. 0. 0. 0. 0. 0.]\n",
      " [1. 0. 0. 0. 0. 0. 0.]\n",
      " [1. 0. 0. 0. 0. 0. 0.]\n",
      " [1. 0. 0. 0. 0. 0. 0.]\n",
      " [1. 0. 0. 0. 0. 0. 0.]\n",
      " [1. 0. 0. 0. 0. 0. 0.]\n",
      " [1. 0. 0. 0. 0. 0. 0.]\n",
      " [1. 0. 0. 0. 0. 0. 0.]\n",
      " [1. 0. 0. 0. 0. 0. 0.]\n",
      " [1. 0. 0. 0. 0. 0. 0.]\n",
      " [1. 0. 0. 0. 0. 0. 0.]\n",
      " [1. 0. 0. 0. 0. 0. 0.]\n",
      " [1. 0. 0. 0. 0. 0. 0.]\n",
      " [0. 0. 0. 0. 0. 1. 0.]\n",
      " [0. 0. 0. 0. 0. 1. 0.]\n",
      " [0. 0. 0. 0. 0. 1. 0.]\n",
      " [0. 0. 0. 0. 0. 1. 0.]\n",
      " [0. 0. 0. 0. 0. 1. 0.]\n",
      " [0. 0. 0. 0. 0. 1. 0.]\n",
      " [0. 0. 0. 0. 0. 1. 0.]\n",
      " [0. 0. 0. 0. 0. 1. 0.]\n",
      " [0. 0. 0. 0. 0. 1. 0.]\n",
      " [0. 0. 0. 0. 0. 1. 0.]\n",
      " [0. 0. 0. 0. 0. 1. 0.]\n",
      " [0. 0. 0. 0. 0. 1. 0.]\n",
      " [0. 0. 0. 0. 0. 1. 0.]\n",
      " [0. 0. 0. 0. 0. 1. 0.]\n",
      " [0. 0. 0. 0. 0. 1. 0.]\n",
      " [0. 0. 0. 0. 0. 1. 0.]\n",
      " [0. 0. 0. 0. 0. 1. 0.]\n",
      " [0. 0. 0. 0. 0. 1. 0.]\n",
      " [0. 0. 0. 0. 0. 1. 0.]\n",
      " [0. 0. 0. 0. 0. 1. 0.]\n",
      " [0. 0. 0. 0. 0. 0. 1.]\n",
      " [0. 0. 0. 0. 0. 0. 1.]\n",
      " [0. 0. 0. 0. 0. 0. 1.]\n",
      " [0. 0. 0. 0. 0. 0. 1.]\n",
      " [0. 0. 0. 0. 0. 0. 1.]\n",
      " [0. 0. 0. 0. 0. 0. 1.]\n",
      " [0. 0. 0. 0. 0. 0. 1.]\n",
      " [0. 0. 0. 0. 0. 0. 1.]\n",
      " [0. 0. 0. 0. 0. 0. 1.]\n",
      " [0. 0. 0. 0. 0. 0. 1.]\n",
      " [0. 0. 0. 0. 0. 0. 1.]\n",
      " [0. 0. 0. 0. 0. 0. 1.]\n",
      " [0. 0. 0. 0. 0. 0. 1.]\n",
      " [0. 0. 0. 0. 0. 0. 1.]\n",
      " [0. 0. 0. 0. 0. 0. 1.]\n",
      " [0. 0. 0. 0. 0. 0. 1.]\n",
      " [0. 0. 0. 0. 0. 0. 1.]\n",
      " [0. 0. 0. 0. 0. 0. 1.]\n",
      " [0. 0. 0. 0. 0. 0. 1.]\n",
      " [0. 0. 0. 0. 0. 0. 1.]]\n",
      "(14000, 7)\n"
     ]
    }
   ],
   "source": [
    "y_train = np_utils.to_categorical(Label,num_classes= 7)\n",
    "print(y_train[::1000])\n",
    "print(y_train.shape)\n",
    "\n",
    "from sklearn.utils import shuffle\n",
    "Data,y_train = shuffle(Data,y_train)\n",
    "\n",
    "callbacks = [\n",
    "    EarlyStopping(monitor='val_acc',patience=20),\n",
    "    ModelCheckpoint('多分类.h5',monitor='val_acc',save_best_only=True,verbose=1),\n",
    "    ]"
   ]
  },
  {
   "cell_type": "code",
   "execution_count": 15,
   "metadata": {},
   "outputs": [
    {
     "name": "stdout",
     "output_type": "stream",
     "text": [
      "Train on 11200 samples, validate on 2800 samples\n",
      "Epoch 1/8\n",
      "11200/11200 [==============================] - 133s 12ms/step - loss: 143.5882 - acc: 0.7771 - val_loss: 141.5123 - val_acc: 0.7486\n",
      "\n",
      "Epoch 00001: val_acc improved from -inf to 0.74857, saving model to 多分类.h5\n",
      "Epoch 2/8\n",
      "11200/11200 [==============================] - 126s 11ms/step - loss: 140.2445 - acc: 0.9527 - val_loss: 147.0650 - val_acc: 0.3968\n",
      "\n",
      "Epoch 00002: val_acc did not improve\n",
      "Epoch 3/8\n",
      "11200/11200 [==============================] - 126s 11ms/step - loss: 140.1699 - acc: 0.9819 - val_loss: 141.2391 - val_acc: 0.7350\n",
      "\n",
      "Epoch 00003: val_acc did not improve\n",
      "Epoch 4/8\n",
      "11200/11200 [==============================] - 126s 11ms/step - loss: 140.1337 - acc: 0.9814 - val_loss: 140.7040 - val_acc: 0.8296\n",
      "\n",
      "Epoch 00004: val_acc improved from 0.74857 to 0.82964, saving model to 多分类.h5\n",
      "Epoch 5/8\n",
      "11200/11200 [==============================] - 126s 11ms/step - loss: 140.3269 - acc: 0.9664 - val_loss: 142.3656 - val_acc: 0.6225\n",
      "\n",
      "Epoch 00005: val_acc did not improve\n",
      "Epoch 6/8\n",
      "11200/11200 [==============================] - 126s 11ms/step - loss: 140.0917 - acc: 0.9879 - val_loss: 140.2856 - val_acc: 0.9250\n",
      "\n",
      "Epoch 00006: val_acc improved from 0.82964 to 0.92500, saving model to 多分类.h5\n",
      "Epoch 7/8\n",
      "11200/11200 [==============================] - 127s 11ms/step - loss: 140.0696 - acc: 0.9934 - val_loss: 140.0828 - val_acc: 0.9889\n",
      "\n",
      "Epoch 00007: val_acc improved from 0.92500 to 0.98893, saving model to 多分类.h5\n",
      "Epoch 8/8\n",
      "11200/11200 [==============================] - 127s 11ms/step - loss: 140.1020 - acc: 0.9905 - val_loss: 144.9076 - val_acc: 0.5946\n",
      "\n",
      "Epoch 00008: val_acc did not improve\n"
     ]
    }
   ],
   "source": [
    "train_history = model.fit(Data, y_train, epochs=8, batch_size=70, validation_split=0.2,callbacks=callbacks)"
   ]
  },
  {
   "cell_type": "code",
   "execution_count": 18,
   "metadata": {},
   "outputs": [],
   "source": [
    "# define the function\n",
    "def training_vis(hist):\n",
    "    loss = hist.history['loss']\n",
    "    val_loss = hist.history['val_loss']\n",
    "    acc = hist.history['acc']\n",
    "    val_acc = hist.history['val_acc']\n",
    "\n",
    "    # make a figure\n",
    "    fig = plt.figure(figsize=(8,4))\n",
    "    # subplot loss\n",
    "    ax1 = fig.add_subplot(121)\n",
    "    ax1.plot(loss,label='train_loss')\n",
    "    ax1.plot(val_loss,label='val_loss')\n",
    "    ax1.set_xlabel('Epochs')\n",
    "    ax1.set_ylabel('Loss')\n",
    "    ax1.set_title('Loss on Training and Validation Data')\n",
    "    ax1.legend()\n",
    "    # subplot acc\n",
    "    ax2 = fig.add_subplot(122)\n",
    "    ax2.plot(acc,label='train_acc')\n",
    "    ax2.plot(val_acc,label='val_acc')\n",
    "    ax2.set_xlabel('Epochs')\n",
    "    ax2.set_ylabel('Accuracy')\n",
    "    ax2.set_title('Accuracy  on Training and Validation Data')\n",
    "    ax2.legend()\n",
    "    plt.tight_layout()\n",
    "\n",
    "training_vis(train_history)"
   ]
  },
  {
   "cell_type": "code",
   "execution_count": 2,
   "metadata": {},
   "outputs": [],
   "source": [
    "model = keras.models.load_model(\"多分类.h5\")"
   ]
  },
  {
   "cell_type": "markdown",
   "metadata": {},
   "source": [
    "# dev开发集"
   ]
  },
  {
   "cell_type": "code",
   "execution_count": 161,
   "metadata": {},
   "outputs": [],
   "source": [
    "path = r'/home/ubuntu/音频处理devCqcc/'\n",
    "list_root = os.listdir(path)\n",
    "\n",
    "list_root"
   ]
  },
  {
   "cell_type": "code",
   "execution_count": 163,
   "metadata": {},
   "outputs": [],
   "source": [
    "Label = []\n",
    "Data =[]\n",
    "Label_dic = {'bonafide':0}\n",
    "for path_children in list_root:\n",
    "    if path_children =='ofile_time_roll' or path_children =='ofile_time_stretch' :#or path_children =='SS_4':\n",
    "        continue\n",
    "    if path_children in Label_dic:\n",
    "        judge = Label_dic[path_children]\n",
    "    else:\n",
    "        judge = len(Label_dic)\n",
    "        Label_dic[path_children] = judge\n",
    "\n",
    "    path_children_ = path+path_children\n",
    "    list_children = os.listdir(path_children_)\n",
    "    dict_kind = {}\n",
    "    \n",
    "    if path_children not in dict_kind:\n",
    "        dict_kind[path_children]=0\n",
    "        \n",
    "        \n",
    "    seq = [i for i in range(len(list_children))]\n",
    "    choice  = random.sample(seq,100)\n",
    "    choice.sort()\n",
    "    for number,mats in enumerate(list_children):\n",
    "        if number not in choice:\n",
    "            continue\n",
    "        dict_kind[path_children]+=1\n",
    "        Label.append(judge)\n",
    "        m = loadmat(path_children_+'/'+mats)\n",
    "        Data.append(m['CQcc'].reshape(60,264,1))"
   ]
  },
  {
   "cell_type": "code",
   "execution_count": null,
   "metadata": {},
   "outputs": [],
   "source": [
    "Data = np.array(Data)\n",
    "Label = np.array(Label)\n",
    "print(Label_dic)\n",
    "print(Data.shape)\n",
    "print(Label.shape)"
   ]
  },
  {
   "cell_type": "code",
   "execution_count": 167,
   "metadata": {},
   "outputs": [],
   "source": [
    "def transport(y):\n",
    "    test_y = []\n",
    "    for i in  y:\n",
    "        max = np.argmax(i)\n",
    "        if max == 0:\n",
    "            test_y.append(max)\n",
    "        else:\n",
    "            test_y.append(1)\n",
    "    return test_y\n",
    "\n",
    "def transport1(y):\n",
    "    test_y = []\n",
    "    for i in  y:\n",
    "        max = np.argmax(i)\n",
    "        test_y.append(max)\n",
    "    return test_y\n",
    "\n",
    "def label_transport(label):\n",
    "    test_y = []\n",
    "    for i in  label:\n",
    "        if i==0:\n",
    "            test_y.append(0)\n",
    "        else:\n",
    "            test_y.append(1)\n",
    "    return test_y\n",
    "\n",
    "x_pre = model.predict(Data)\n",
    "\n",
    "y_pre = transport(x_pre)\n",
    "y_pre1 = transport1(x_pre)\n",
    "y_true = label_transport(Label)"
   ]
  },
  {
   "cell_type": "code",
   "execution_count": 168,
   "metadata": {},
   "outputs": [
    {
     "data": {
      "text/plain": [
       "<Figure size 432x468 with 0 Axes>"
      ]
     },
     "metadata": {},
     "output_type": "display_data"
    },
    {
     "data": {
      "image/png": "[encoded data removed]",
      "text/plain": [
       "<Figure size 288x288 with 2 Axes>"
      ]
     },
     "metadata": {
      "needs_background": "light"
     },
     "output_type": "display_data"
    },
    {
     "data": {
      "text/plain": [
       "<Figure size 432x468 with 0 Axes>"
      ]
     },
     "metadata": {},
     "output_type": "display_data"
    },
    {
     "data": {
      "image/png": "[encoded data removed]",
      "text/plain": [
       "<Figure size 288x288 with 2 Axes>"
      ]
     },
     "metadata": {
      "needs_background": "light"
     },
     "output_type": "display_data"
    }
   ],
   "source": [
    "import matplotlib.pyplot as plt\n",
    "from sklearn.metrics import confusion_matrix\n",
    "import numpy as np\n",
    "\n",
    "def cm_plot(original_label, predict_label, pic=None):\n",
    "    cm = confusion_matrix(original_label, predict_label)   # 由原标签和预测标签生成混淆矩阵\n",
    "    plt.figure(figsize=(6,6.5))\n",
    "    plt.matshow(cm, cmap=plt.cm.Blues)     # 画混淆矩阵，配色风格使用cm.Blues\n",
    "    plt.colorbar()    # 颜色标签\n",
    "    for x in range(len(cm)):\n",
    "        for y in range(len(cm)):\n",
    "            plt.annotate(cm[x, y], xy=(x, y), horizontalalignment='center', verticalalignment='center')\n",
    "            # annotate主要在图形中添加注释\n",
    "            # 第一个参数添加注释\n",
    "            # 第二个参数是注释的内容\n",
    "            # xy设置箭头尖的坐标\n",
    "            # horizontalalignment水平对齐\n",
    "            # verticalalignment垂直对齐\n",
    "            # 其余常用参数如下：\n",
    "            # xytext设置注释内容显示的起始位置\n",
    "            # arrowprops 用来设置箭头\n",
    "            # facecolor 设置箭头的颜色\n",
    "            # headlength 箭头的头的长度\n",
    "            # headwidth 箭头的宽度\n",
    "            # width 箭身的宽度\n",
    "    plt.ylabel('True label')  # 坐标轴标签\n",
    "    plt.xlabel('Predicted label')  # 坐标轴标签\n",
    "    plt.title('confusion matrix')\n",
    "    if pic is not None:\n",
    "        plt.savefig(str(pic) + '.jpg')\n",
    "    plt.show()\n",
    "\n",
    "\n",
    "cm_plot(y_pre,Label)\n",
    "\n",
    "cm_plot(y_pre1,Label)"
   ]
  },
  {
   "cell_type": "code",
   "execution_count": 169,
   "metadata": {},
   "outputs": [
    {
     "data": {
      "image/png": "[encoded data removed]",
      "text/plain": [
       "<Figure size 432x288 with 1 Axes>"
      ]
     },
     "metadata": {
      "needs_background": "light"
     },
     "output_type": "display_data"
    },
    {
     "data": {
      "image/png": "[encoded data removed]",
      "text/plain": [
       "<Figure size 432x288 with 1 Axes>"
      ]
     },
     "metadata": {
      "needs_background": "light"
     },
     "output_type": "display_data"
    },
    {
     "data": {
      "text/plain": [
       "<Figure size 432x468 with 0 Axes>"
      ]
     },
     "metadata": {},
     "output_type": "display_data"
    },
    {
     "data": {
      "image/png": "[encoded data removed]",
      "text/plain": [
       "<Figure size 288x288 with 2 Axes>"
      ]
     },
     "metadata": {
      "needs_background": "light"
     },
     "output_type": "display_data"
    },
    {
     "name": "stdout",
     "output_type": "stream",
     "text": [
      "判定阈值： 0.23684210526315785  准确率 0.02\n"
     ]
    }
   ],
   "source": [
    "from sklearn.model_selection import train_test_split\n",
    "from sklearn.metrics import recall_score,accuracy_score\n",
    "from sklearn.metrics import precision_score,f1_score\n",
    "from sklearn.metrics import roc_curve\n",
    "from sklearn.metrics import auc\n",
    "import numpy as np\n",
    "import matplotlib.pyplot as plt\n",
    "from itertools import cycle\n",
    "\n",
    "from sklearn import svm, datasets\n",
    "from sklearn.metrics import roc_curve, auc\n",
    "from sklearn.model_selection import train_test_split\n",
    "from sklearn.preprocessing import label_binarize\n",
    "from sklearn.multiclass import OneVsRestClassifier\n",
    "from scipy import interp\n",
    "import numpy as np\n",
    "import matplotlib as plt\n",
    "import matplotlib.pyplot as plt\n",
    "from sklearn.metrics import confusion_matrix\n",
    "import matplotlib.pyplot as plt\n",
    "import matplotlib.ticker as ticker\n",
    "\n",
    "\n",
    "\n",
    "# 为每个类别计算ROC曲线和AUC\n",
    "fpr = dict()\n",
    "tpr = dict()\n",
    "roc_auc = dict()\n",
    "for i in range(1):\n",
    "    fpr[i], tpr[i], _ = roc_curve(y_true, 1-x_pre[:, 0])\n",
    "    roc_auc[i] = auc(fpr[i], tpr[i])\n",
    "# fpr[0].shape==tpr[0].shape==(21, ), fpr[1].shape==tpr[1].shape==(35, ), fpr[2].shape==tpr[2].shape==(33, ) \n",
    "# roc_auc {0: 0.9118165784832452, 1: 0.6029629629629629, 2: 0.7859477124183007}\n",
    "\n",
    "plt.figure()\n",
    "lw = 2\n",
    "plt.plot(fpr[0], tpr[0], color='darkorange',\n",
    "         lw=lw, label='ROC curve (area = %0.2f)' % roc_auc[0])\n",
    "plt.plot([0, 1], [1, 0], color='navy', lw=lw, linestyle='--')\n",
    "plt.plot([0, 1], [0, 1], color='blue', lw=lw, linestyle='--')\n",
    "plt.xlim([0.0, 1.0])\n",
    "# plt.ylim([0.0, 1.05])\n",
    "plt.grid(b=True) # 显示网格线\n",
    "plt.xlabel('False Positive Rate')\n",
    "plt.ylabel('True Positive Rate')\n",
    "plt.title('Receiver operating characteristic example')\n",
    "plt.legend(loc=\"lower right\")\n",
    "plt.show()\n",
    "\n",
    "\n",
    "# EER计算\n",
    "def findX(X1, X2, T):\n",
    "    #求一下两条线的交点, 默认X1递增， X2递减\n",
    "    # 先找到4个点满足X11 < X21, X12 > X22 \n",
    "    iT = -1\n",
    "    iX = -1\n",
    "    for idx, x in enumerate(X1):\n",
    "        if X2[idx] > X1[idx]:\n",
    "            continue\n",
    "        else:\n",
    "            # 找到第一个X2<X1的点\n",
    "            X11 = X1[idx - 1]\n",
    "            X12 = X1[idx]\n",
    "            X21 = X2[idx-1]\n",
    "            X22 = X2[idx]\n",
    "            T1 = T[idx-1]\n",
    "            T2 = T[idx]\n",
    "            #由三角形相似性求\n",
    "            iT = (T2-T1) * (X21-X11) / (X12 + X21 - X22 - X11) + T1\n",
    "            iX = X11 + (iT - T1)/ (T2- T1) * (X12 - X11)\n",
    "            break\n",
    "    return iT, iX\n",
    "            \n",
    "\n",
    "def getEER(ol, pl):\n",
    "    cm = confusion_matrix(ol, pl)\n",
    "    TN = cm[0][0]\n",
    "    FP = cm[0][1]\n",
    "    FN = cm[1][0]\n",
    "    TP = cm[1][1]\n",
    "    FPR = FP / (TN + FP)\n",
    "    FRR = FN / (TP + FN)\n",
    "    return FPR, FRR\n",
    "\n",
    "def transport(y):\n",
    "    test_y = []\n",
    "    for i in  y:\n",
    "        max = np.argmax(i)\n",
    "        if max == 0:\n",
    "            test_y.append(max)\n",
    "        else:\n",
    "            test_y.append(1)\n",
    "    return test_y\n",
    "\n",
    "def transport1eval(y, yu=0.9):\n",
    "    test_y = []\n",
    "    for i in  y:\n",
    "        if i[0]>yu:\n",
    "            test_y.append(0)\n",
    "        else:\n",
    "            test_y.append(1)\n",
    "    return test_y\n",
    "\n",
    "def label_transport(label):\n",
    "    test_y = []\n",
    "    for i in  label:\n",
    "        if i==0:\n",
    "            test_y.append(0)\n",
    "        else:\n",
    "            test_y.append(1)\n",
    "    return test_y\n",
    "\n",
    "def drawEER(yus, FPRs, FRRs):\n",
    "    iT, iX = findX(FPRs, FRRs, yus)\n",
    "    plt.figure()\n",
    "    plt.plot(yus,FPRs,marker = '*',label = 'FPR')\n",
    "    plt.plot(yus, FRRs, marker = 'o',label = 'FRR')\n",
    "    plt.legend()\n",
    "    plt.xlim([0,1])\n",
    "    plt.ylim([0,1])\n",
    "    plt.xlabel('thresh')\n",
    "    plt.ylabel('FPR/FRR')\n",
    "    plt.title(' find eer')\n",
    "    plt.grid(b=True) # 显示网格线\n",
    "    plt.plot([0, 1], [1, 0], color='grey', lw=lw, linestyle='--')\n",
    "#     plt.plot([0, 1], [0, 1], color='blue', lw=lw, linestyle='--')\n",
    "    plt.show()\n",
    "\n",
    "    return iT, iX \n",
    "\n",
    "def allAboutEER(y_true, x_pre, threshs):\n",
    "    # 这里y_true, x_pre顺序改回来了。。。\n",
    "    '''\n",
    "    threshs: 阈值的list\n",
    "    '''\n",
    "    FPRs = []\n",
    "    FRRs = []\n",
    "    for thresh in threshs:\n",
    "        y_pre1 = transport1eval(x_pre, thresh)\n",
    "        FPR, FRR = getEER(y_true, y_pre1)\n",
    "        FPRs.append(FPR)\n",
    "        FRRs.append(FRR)\n",
    "    iT, iX  =drawEER(threshs, FPRs, FRRs)\n",
    "    return iT, iX \n",
    "    \n",
    "\n",
    "testyus = np.linspace(0,1,20)\n",
    "# 阈值列表\n",
    "threshs = list(testyus)\n",
    "\n",
    "\n",
    "\n",
    "\n",
    "y_pre = transport(x_pre)\n",
    "y_pre1 = transport1eval(x_pre, 0.88)\n",
    "y_true = label_transport(Label)\n",
    "\n",
    "\n",
    "iT, iX  = allAboutEER(y_true,x_pre,threshs)\n",
    "\n",
    "# y_pre = transport(x_pre)\n",
    "y_pre1 = transport1eval(x_pre,iT)\n",
    "y_true = label_transport(Label)\n",
    "\n",
    "# cm_plot(y_pre,y_true)\n",
    "cm_plot(y_pre1,y_true)\n",
    "print('判定阈值：',iT,' 准确率', iX)"
   ]
  },
  {
   "cell_type": "markdown",
   "metadata": {},
   "source": [
    "# 评估集！！！"
   ]
  },
  {
   "cell_type": "code",
   "execution_count": 109,
   "metadata": {},
   "outputs": [
    {
     "data": {
      "text/plain": [
       "['A16',\n",
       " 'A14',\n",
       " 'A11',\n",
       " 'A13',\n",
       " 'A12',\n",
       " 'A07',\n",
       " 'A08',\n",
       " 'bonafide',\n",
       " 'A19',\n",
       " 'A17',\n",
       " 'A15',\n",
       " 'A18',\n",
       " 'A09',\n",
       " 'A10']"
      ]
     },
     "execution_count": 109,
     "metadata": {},
     "output_type": "execute_result"
    }
   ],
   "source": [
    "path = r'/home/ubuntu/音频处理evalCqcc/'\n",
    "list_root = os.listdir(path)\n",
    "\n",
    "list_root"
   ]
  },
  {
   "cell_type": "code",
   "execution_count": 110,
   "metadata": {},
   "outputs": [],
   "source": [
    "Label = []\n",
    "Data =[]\n",
    "Label_dic = {'bonafide':0}\n",
    "for path_children in list_root:\n",
    "    if path_children =='ofile_time_roll' or path_children =='ofile_time_stretch':\n",
    "        continue\n",
    "    if path_children in Label_dic:\n",
    "        judge = Label_dic[path_children]\n",
    "    else:\n",
    "        judge = len(Label_dic)\n",
    "        Label_dic[path_children] = judge\n",
    "\n",
    "    path_children_ = path+path_children\n",
    "    list_children = os.listdir(path_children_)\n",
    "    dict_kind = {}\n",
    "    \n",
    "    if path_children not in dict_kind:\n",
    "        dict_kind[path_children]=0\n",
    "        \n",
    "    for mats in list_children:\n",
    "        dict_kind[path_children]+=1\n",
    "#         if dict_kind[path_children]>2000  and path_children !='bonafide' and path_children !='ofile_time_roll' and  path_children!='ofile_time_stretch':\n",
    "#             break\n",
    "        if dict_kind[path_children]>550 and path_children != 'bonafide':\n",
    "            break\n",
    "        Label.append(judge)\n",
    "        m = loadmat(path_children_+'/'+mats)\n",
    "        Data.append(m['CQcc'].reshape(60,264,1))"
   ]
  },
  {
   "cell_type": "code",
   "execution_count": 112,
   "metadata": {},
   "outputs": [
    {
     "name": "stdout",
     "output_type": "stream",
     "text": [
      "(14505, 60, 264, 1)\n",
      "(14505,)\n"
     ]
    }
   ],
   "source": [
    "Data = np.array(Data)\n",
    "Label = np.array(Label)\n",
    "print(Data.shape)\n",
    "print(Label.shape)"
   ]
  },
  {
   "cell_type": "code",
   "execution_count": 147,
   "metadata": {},
   "outputs": [],
   "source": [
    "x_pre = model.predict(Data)"
   ]
  },
  {
   "cell_type": "code",
   "execution_count": 157,
   "metadata": {},
   "outputs": [
    {
     "data": {
      "image/png": "[encoded data removed]",
      "text/plain": [
       "<Figure size 432x288 with 1 Axes>"
      ]
     },
     "metadata": {
      "needs_background": "light"
     },
     "output_type": "display_data"
    },
    {
     "data": {
      "image/png": "[encoded data removed]",
      "text/plain": [
       "<Figure size 432x288 with 1 Axes>"
      ]
     },
     "metadata": {
      "needs_background": "light"
     },
     "output_type": "display_data"
    },
    {
     "data": {
      "text/plain": [
       "<Figure size 432x468 with 0 Axes>"
      ]
     },
     "metadata": {},
     "output_type": "display_data"
    },
    {
     "data": {
      "image/png": "[encoded data removed]",
      "text/plain": [
       "<Figure size 288x288 with 2 Axes>"
      ]
     },
     "metadata": {
      "needs_background": "light"
     },
     "output_type": "display_data"
    },
    {
     "name": "stdout",
     "output_type": "stream",
     "text": [
      "判定阈值： 0.8706257363215429  准确率 0.1087942477876106\n"
     ]
    }
   ],
   "source": [
    "from sklearn.model_selection import train_test_split\n",
    "from sklearn.metrics import recall_score,accuracy_score\n",
    "from sklearn.metrics import precision_score,f1_score\n",
    "from sklearn.metrics import roc_curve\n",
    "from sklearn.metrics import auc\n",
    "import numpy as np\n",
    "import matplotlib.pyplot as plt\n",
    "from itertools import cycle\n",
    "\n",
    "from sklearn import svm, datasets\n",
    "from sklearn.metrics import roc_curve, auc\n",
    "from sklearn.model_selection import train_test_split\n",
    "from sklearn.preprocessing import label_binarize\n",
    "from sklearn.multiclass import OneVsRestClassifier\n",
    "from scipy import interp\n",
    "import numpy as np\n",
    "import matplotlib as plt\n",
    "import matplotlib.pyplot as plt\n",
    "from sklearn.metrics import confusion_matrix\n",
    "import matplotlib.pyplot as plt\n",
    "import matplotlib.ticker as ticker\n",
    "\n",
    "\n",
    "\n",
    "# 为每个类别计算ROC曲线和AUC\n",
    "fpr = dict()\n",
    "tpr = dict()\n",
    "roc_auc = dict()\n",
    "for i in range(1):\n",
    "    fpr[i], tpr[i], _ = roc_curve(y_true, 1-x_pre[:, 0])\n",
    "    roc_auc[i] = auc(fpr[i], tpr[i])\n",
    "# fpr[0].shape==tpr[0].shape==(21, ), fpr[1].shape==tpr[1].shape==(35, ), fpr[2].shape==tpr[2].shape==(33, ) \n",
    "# roc_auc {0: 0.9118165784832452, 1: 0.6029629629629629, 2: 0.7859477124183007}\n",
    "\n",
    "plt.figure()\n",
    "lw = 2\n",
    "plt.plot(fpr[0], tpr[0], color='darkorange',\n",
    "         lw=lw, label='ROC curve (area = %0.2f)' % roc_auc[0])\n",
    "plt.plot([0, 1], [1, 0], color='navy', lw=lw, linestyle='--')\n",
    "plt.plot([0, 1], [0, 1], color='blue', lw=lw, linestyle='--')\n",
    "plt.xlim([0.0, 1.0])\n",
    "# plt.ylim([0.0, 1.05])\n",
    "plt.grid(b=True) # 显示网格线\n",
    "plt.xlabel('False Positive Rate')\n",
    "plt.ylabel('True Positive Rate')\n",
    "plt.title('Receiver operating characteristic example')\n",
    "plt.legend(loc=\"lower right\")\n",
    "plt.show()\n",
    "\n",
    "\n",
    "# EER计算\n",
    "def findX(X1, X2, T):\n",
    "    #求一下两条线的交点, 默认X1递增， X2递减\n",
    "    # 先找到4个点满足X11 < X21, X12 > X22 \n",
    "    iT = -1\n",
    "    iX = -1\n",
    "    for idx, x in enumerate(X1):\n",
    "        if X2[idx] > X1[idx]:\n",
    "            continue\n",
    "        else:\n",
    "            # 找到第一个X2<X1的点\n",
    "            X11 = X1[idx - 1]\n",
    "            X12 = X1[idx]\n",
    "            X21 = X2[idx-1]\n",
    "            X22 = X2[idx]\n",
    "            T1 = T[idx-1]\n",
    "            T2 = T[idx]\n",
    "            #由三角形相似性求\n",
    "            iT = (T2-T1) * (X21-X11) / (X12 + X21 - X22 - X11) + T1\n",
    "            iX = X11 + (iT - T1)/ (T2- T1) * (X12 - X11)\n",
    "            break\n",
    "    return iT, iX\n",
    "            \n",
    "\n",
    "def getEER(ol, pl):\n",
    "    cm = confusion_matrix(ol, pl)\n",
    "    TN = cm[0][0]\n",
    "    FP = cm[0][1]\n",
    "    FN = cm[1][0]\n",
    "    TP = cm[1][1]\n",
    "    FPR = FP / (TN + FP)\n",
    "    FRR = FN / (TP + FN)\n",
    "    return FPR, FRR\n",
    "\n",
    "def transport(y):\n",
    "    test_y = []\n",
    "    for i in  y:\n",
    "        max = np.argmax(i)\n",
    "        if max == 0:\n",
    "            test_y.append(max)\n",
    "        else:\n",
    "            test_y.append(1)\n",
    "    return test_y\n",
    "\n",
    "def transport1eval(y, yu=0.9):\n",
    "    test_y = []\n",
    "    for i in  y:\n",
    "        if i[0]>yu:\n",
    "            test_y.append(0)\n",
    "        else:\n",
    "            test_y.append(1)\n",
    "    return test_y\n",
    "\n",
    "def label_transport(label):\n",
    "    test_y = []\n",
    "    for i in  label:\n",
    "        if i==0:\n",
    "            test_y.append(0)\n",
    "        else:\n",
    "            test_y.append(1)\n",
    "    return test_y\n",
    "\n",
    "def drawEER(yus, FPRs, FRRs):\n",
    "    iT, iX = findX(FPRs, FRRs, yus)\n",
    "    plt.figure()\n",
    "    plt.plot(yus,FPRs,marker = '*',label = 'FPR')\n",
    "    plt.plot(yus, FRRs, marker = 'o',label = 'FRR')\n",
    "    plt.legend()\n",
    "    plt.xlim([0,1])\n",
    "    plt.ylim([0,1])\n",
    "    plt.xlabel('thresh')\n",
    "    plt.ylabel('FPR/FRR')\n",
    "    plt.title(' find eer')\n",
    "    plt.grid(b=True) # 显示网格线\n",
    "    plt.plot([0, 1], [1, 0], color='grey', lw=lw, linestyle='--')\n",
    "#     plt.plot([0, 1], [0, 1], color='blue', lw=lw, linestyle='--')\n",
    "    plt.show()\n",
    "\n",
    "    return iT, iX \n",
    "\n",
    "def allAboutEER(y_true, x_pre, threshs):\n",
    "    # 这里y_true, x_pre顺序改回来了。。。\n",
    "    '''\n",
    "    threshs: 阈值的list\n",
    "    '''\n",
    "    FPRs = []\n",
    "    FRRs = []\n",
    "    for thresh in threshs:\n",
    "        y_pre1 = transport1eval(x_pre, thresh)\n",
    "        FPR, FRR = getEER(y_true, y_pre1)\n",
    "        FPRs.append(FPR)\n",
    "        FRRs.append(FRR)\n",
    "    iT, iX  =drawEER(threshs, FPRs, FRRs)\n",
    "    return iT, iX \n",
    "    \n",
    "\n",
    "testyus = np.linspace(0,1,20)\n",
    "# 阈值列表\n",
    "threshs = list(testyus)\n",
    "\n",
    "\n",
    "\n",
    "\n",
    "y_pre = transport(x_pre)\n",
    "y_pre1 = transport1eval(x_pre, 0.88)\n",
    "y_true = label_transport(Label)\n",
    "\n",
    "\n",
    "iT, iX  = allAboutEER(y_true,x_pre,threshs)\n",
    "\n",
    "# y_pre = transport(x_pre)\n",
    "y_pre1 = transport1eval(x_pre,iT)\n",
    "y_true = label_transport(Label)\n",
    "\n",
    "# cm_plot(y_pre,y_true)\n",
    "cm_plot(y_pre1,y_true)\n",
    "print('判定阈值：',iT,' 准确率', iX)"
   ]
  },
  {
   "cell_type": "markdown",
   "metadata": {},
   "source": [
    "# 每种攻击测试"
   ]
  },
  {
   "cell_type": "code",
   "execution_count": 158,
   "metadata": {},
   "outputs": [],
   "source": [
    "path = r'/home/ubuntu/音频处理evalCqcc/'\n",
    "list_root = os.listdir(path)"
   ]
  },
  {
   "cell_type": "code",
   "execution_count": 159,
   "metadata": {
    "scrolled": false
   },
   "outputs": [
    {
     "data": {
      "text/plain": [
       "['A16',\n",
       " 'A14',\n",
       " 'A11',\n",
       " 'A13',\n",
       " 'A12',\n",
       " 'A07',\n",
       " 'A08',\n",
       " 'bonafide',\n",
       " 'A19',\n",
       " 'A17',\n",
       " 'A15',\n",
       " 'A18',\n",
       " 'A09',\n",
       " 'A10']"
      ]
     },
     "execution_count": 159,
     "metadata": {},
     "output_type": "execute_result"
    }
   ],
   "source": [
    "list_root"
   ]
  },
  {
   "cell_type": "code",
   "execution_count": 160,
   "metadata": {
    "scrolled": false
   },
   "outputs": [
    {
     "name": "stdout",
     "output_type": "stream",
     "text": [
      "A16 的预测准确度\n",
      "阈值设定为 max（）：  1.0  阈值设定为 最佳阈值 it 时 1.0\n",
      "A14 的预测准确度\n",
      "阈值设定为 max（）：  0.7  阈值设定为 最佳阈值 it 时 0.9\n",
      "A11 的预测准确度\n",
      "阈值设定为 max（）：  0.9  阈值设定为 最佳阈值 it 时 1.0\n",
      "A13 的预测准确度\n",
      "阈值设定为 max（）：  0.6  阈值设定为 最佳阈值 it 时 0.9\n",
      "A12 的预测准确度\n",
      "阈值设定为 max（）：  0.4  阈值设定为 最佳阈值 it 时 0.7\n",
      "A07 的预测准确度\n",
      "阈值设定为 max（）：  1.0  阈值设定为 最佳阈值 it 时 1.0\n",
      "A08 的预测准确度\n",
      "阈值设定为 max（）：  1.0  阈值设定为 最佳阈值 it 时 1.0\n",
      "bonafide 的预测准确度\n",
      "阈值设定为 max（）：  1.0  阈值设定为 最佳阈值 it 时 0.9\n",
      "A19 的预测准确度\n",
      "阈值设定为 max（）：  1.0  阈值设定为 最佳阈值 it 时 1.0\n",
      "A17 的预测准确度\n",
      "阈值设定为 max（）：  0.1  阈值设定为 最佳阈值 it 时 0.5\n",
      "A15 的预测准确度\n",
      "阈值设定为 max（）：  0.4  阈值设定为 最佳阈值 it 时 1.0\n",
      "A18 的预测准确度\n",
      "阈值设定为 max（）：  0.5  阈值设定为 最佳阈值 it 时 0.7\n",
      "A09 的预测准确度\n",
      "阈值设定为 max（）：  1.0  阈值设定为 最佳阈值 it 时 1.0\n",
      "A10 的预测准确度\n",
      "阈值设定为 max（）：  0.8  阈值设定为 最佳阈值 it 时 1.0\n"
     ]
    }
   ],
   "source": [
    "for c,path_children in  enumerate(list_root):\n",
    "    Label = []\n",
    "    Data =[]\n",
    "    print(path_children,'的预测准确度')\n",
    "    if path_children =='bonafide' or path_children =='ofile_time_roll' or  path_children=='ofile_time_stretch':\n",
    "        judge = 0\n",
    "    else:\n",
    "#         continue\n",
    "        judge = 1\n",
    "        \n",
    "    path_children_ = path+path_children\n",
    "    list_children = os.listdir(path_children_)\n",
    "    dict_kind = {}\n",
    "    \n",
    "    if path_children not in dict_kind:\n",
    "        dict_kind[path_children]=0\n",
    "        \n",
    "    for mats in list_children:\n",
    "        dict_kind[path_children]+=1\n",
    "        if dict_kind[path_children]>1000  and path_children !='bonafide' and path_children !='ofile_time_roll' and  path_children!='ofile_time_stretch':\n",
    "            break\n",
    "        elif dict_kind[path_children]>1000:\n",
    "            break\n",
    "        Label.append(judge)\n",
    "        m = loadmat(path_children_+'/'+mats)\n",
    "        Data.append(m['CQcc'].reshape(60,264,1))\n",
    "    Data = np.array(Data)\n",
    "    Label = np.array(Label)\n",
    "    x_pre = model.predict(Data)\n",
    "    y_pre = transport(x_pre)\n",
    "    y_pre1 = transport1eval(x_pre, iT)\n",
    "    y_true = label_transport(Label)\n",
    "    \n",
    "    print('阈值设定为 max（）： ',(y_pre == Label).sum()/len(y_pre),\" 阈值设定为 最佳阈值 it 时\",np.array(np.array(y_pre1) == np.array(y_true)).sum()/len(y_pre1))"
   ]
  },
  {
   "cell_type": "markdown",
   "metadata": {},
   "source": [
    "model.save('假1000真2000epoch=10.h5')"
   ]
  },
  {
   "cell_type": "code",
   "execution_count": null,
   "metadata": {},
   "outputs": [],
   "source": []
  },
  {
   "cell_type": "code",
   "execution_count": null,
   "metadata": {},
   "outputs": [],
   "source": []
  },
  {
   "cell_type": "code",
   "execution_count": null,
   "metadata": {},
   "outputs": [],
   "source": []
  }
 ],
 "metadata": {
  "kernelspec": {
   "display_name": "Python 3",
   "language": "python",
   "name": "python3"
  },
  "language_info": {
   "codemirror_mode": {
    "name": "ipython",
    "version": 3
   },
   "file_extension": ".py",
   "mimetype": "text/x-python",
   "name": "python",
   "nbconvert_exporter": "python",
   "pygments_lexer": "ipython3",
   "version": "3.5.2"
  }
 },
 "nbformat": 4,
 "nbformat_minor": 2
}
