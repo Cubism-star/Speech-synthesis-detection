{
 "cells": [
  {
   "cell_type": "code",
   "execution_count": 1,
   "metadata": {},
   "outputs": [],
   "source": [
    "import tensorflow as tf\n",
    "import numpy as np\n",
    "import os\n",
    "import sklearn\n",
    "import matplotlib.pyplot as plt\n",
    "from tensorflow.keras.callbacks import EarlyStopping,ModelCheckpoint\n",
    "from tensorflow.keras import layers\n",
    "from tensorflow.keras.layers import Input, Dense, Activation, ZeroPadding2D, Conv2D, Flatten, BatchNormalization, Add, MaxPooling2D, AveragePooling2D, Dropout\n",
    "import tensorflow.keras.backend as K\n",
    "from tensorflow.keras.models import Model\n",
    "from tensorflow.keras import regularizers\n",
    "import sys\n",
    "import random\n",
    "\n",
    "\n",
    "from tensorflow.keras.models import Model\n",
    "from tensorflow.keras.layers import Input,Dense,Dropout,BatchNormalization,Conv2D,MaxPooling2D,AveragePooling2D,concatenate\n",
    "from tensorflow.keras.layers import Conv2D,MaxPooling2D,AveragePooling2D\n",
    "\n",
    "import os\n",
    "from scipy.io import loadmat\n",
    "\n",
    "import random\n",
    "seed = 7\n",
    "np.random.seed(seed)\n",
    "\n",
    "\n",
    "\n",
    " \n"
   ]
  },
  {
   "cell_type": "code",
   "execution_count": 2,
   "metadata": {},
   "outputs": [],
   "source": [
    "import math\n",
    "from tensorflow.keras import optimizers\n",
    "from tensorflow.keras.utils import to_categorical\n",
    "from sklearn.utils import shuffle\n",
    "from tensorflow.keras.callbacks import LearningRateScheduler"
   ]
  },
  {
   "cell_type": "code",
   "execution_count": 3,
   "metadata": {},
   "outputs": [],
   "source": [
    "from tensorflow.keras.regularizers import l2"
   ]
  },
  {
   "cell_type": "code",
   "execution_count": 4,
   "metadata": {},
   "outputs": [
    {
     "name": "stdout",
     "output_type": "stream",
     "text": [
      "WARNING:tensorflow:From <ipython-input-4-ae932be897c3>:1: is_gpu_available (from tensorflow.python.framework.test_util) is deprecated and will be removed in a future version.\n",
      "Instructions for updating:\n",
      "Use `tf.config.list_physical_devices('GPU')` instead.\n",
      "True\n"
     ]
    }
   ],
   "source": [
    "print(tf.test.is_gpu_available())"
   ]
  },
  {
   "cell_type": "code",
   "execution_count": 5,
   "metadata": {},
   "outputs": [],
   "source": [
    "# 卷积层和标准层组成的block\n",
    "def Conv2d_BN(x, nb_filter,kernel_size, padding='same',strides=(1,1),name=None, r_s = 1e-3):\n",
    "    if name is not None:\n",
    "        bn_name = name + '_bn'\n",
    "        conv_name = name + '_conv'\n",
    "    else:\n",
    "        bn_name = None\n",
    "        conv_name = None\n",
    " \n",
    "    x = Conv2D(nb_filter,kernel_size,padding=padding,strides=strides,activation='relu',name=conv_name, kernel_regularizer=l2(r_s))(x)\n",
    "    x = BatchNormalization(axis=3,name=bn_name)(x)\n",
    "    return x\n",
    " \n",
    "# Inception Block"
   ]
  },
  {
   "cell_type": "code",
   "execution_count": 6,
   "metadata": {},
   "outputs": [],
   "source": [
    "def Inception(x,nb_filter, r=1e-3):\n",
    "    branch1x1 = Conv2d_BN(x,nb_filter,(1,1), padding='same',strides=(1,1),name=None, r_s = r)\n",
    " \n",
    "    branch3x3 = Conv2d_BN(x,nb_filter,(1,1), padding='same',strides=(1,1),name=None,r_s = r)\n",
    "    branch3x3 = Conv2d_BN(branch3x3,nb_filter,(3,3), padding='same',strides=(1,1),name=None, r_s = r)\n",
    " \n",
    "    branch5x5 = Conv2d_BN(x,nb_filter,(1,1), padding='same',strides=(1,1),name=None,r_s = r)\n",
    "    branch5x5 = Conv2d_BN(branch5x5,nb_filter,(1,1), padding='same',strides=(1,1),name=None,r_s = r)\n",
    " \n",
    "    branchpool = MaxPooling2D(pool_size=(3,3),strides=(1,1),padding='same')(x)\n",
    "    branchpool = Conv2d_BN(branchpool,nb_filter,(1,1),padding='same',strides=(1,1),name=None,r_s = r)\n",
    " \n",
    "    x = concatenate([branch1x1,branch3x3,branch5x5,branchpool],axis=3)\n",
    " \n",
    "    return x"
   ]
  },
  {
   "cell_type": "code",
   "execution_count": 7,
   "metadata": {},
   "outputs": [],
   "source": [
    "def build_model(r=1e-3):\n",
    "    inpt = Input(shape=(60,264,1))\n",
    "    #padding = 'same'，填充为(步长-1）/2,还可以用ZeroPadding2D((3,3))\n",
    "    x = Conv2d_BN(inpt,64,(7,7),strides=(2,2),padding='same', r_s = r)\n",
    "    x = MaxPooling2D(pool_size=(3,3),strides=(2,2),padding='same')(x)\n",
    "    x = Conv2d_BN(x,192,(3,3),strides=(1,1),padding='same', r_s = r)\n",
    "    x = MaxPooling2D(pool_size=(3,3),strides=(2,2),padding='same')(x)\n",
    "    x = Inception(x,64,r = r)#256\n",
    "    x = Inception(x,120,r = r)#480\n",
    "    x = MaxPooling2D(pool_size=(3,3),strides=(2,2),padding='same')(x)\n",
    "    x = Inception(x,128,r = r)#512\n",
    "    x = Inception(x,128,r = r)\n",
    "    x = Inception(x,128,r = r)\n",
    "    x = Inception(x,132,r = r)#528\n",
    "    x = Inception(x,208,r = r)#832\n",
    "    x = MaxPooling2D(pool_size=(3,3),strides=(2,2),padding='same')(x)\n",
    "    x = Inception(x,208,  r = r)\n",
    "    x = Inception(x,256,  r = r)#1024\n",
    "    x = AveragePooling2D(pool_size=(7,7),strides=(7,7),padding='same')(x)\n",
    "    x = Dropout(0.4)(x)\n",
    "    x = Dense(7,activation='relu')(x)\n",
    "    x = Flatten()(x)\n",
    "    x = Dense(7,activation='softmax')(x)\n",
    "    model = Model(inpt,x,name='inception')\n",
    "    return model"
   ]
  },
  {
   "cell_type": "code",
   "execution_count": 7,
   "metadata": {},
   "outputs": [],
   "source": []
  },
  {
   "cell_type": "code",
   "execution_count": 8,
   "metadata": {},
   "outputs": [
    {
     "data": {
      "text/plain": [
       "['bonafide',\n",
       " 'ofile_time_roll',\n",
       " 'ofile_time_stretch',\n",
       " 'SS_1',\n",
       " 'SS_2',\n",
       " 'SS_4',\n",
       " 'US_1',\n",
       " 'VC_1',\n",
       " 'VC_4']"
      ]
     },
     "execution_count": 8,
     "metadata": {},
     "output_type": "execute_result"
    }
   ],
   "source": [
    "path = r'E:\\语音大创数据\\音频处理trainCqcc/'\n",
    "list_root = os.listdir(path)\n",
    "\n",
    "list_root"
   ]
  },
  {
   "cell_type": "code",
   "execution_count": 7,
   "metadata": {
    "collapsed": true
   },
   "outputs": [
    {
     "ename": "ValueError",
     "evalue": "Cannot load file containing pickled data when allow_pickle=False",
     "output_type": "error",
     "traceback": [
      "\u001b[1;31m---------------------------------------------------------------------------\u001b[0m",
      "\u001b[1;31mValueError\u001b[0m                                Traceback (most recent call last)",
      "\u001b[1;32m<ipython-input-7-09b164f28a23>\u001b[0m in \u001b[0;36m<module>\u001b[1;34m\u001b[0m\n\u001b[0;32m     32\u001b[0m \u001b[1;31m#             break\u001b[0m\u001b[1;33m\u001b[0m\u001b[1;33m\u001b[0m\u001b[1;33m\u001b[0m\u001b[0m\n\u001b[0;32m     33\u001b[0m         \u001b[0mLabel\u001b[0m\u001b[1;33m.\u001b[0m\u001b[0mappend\u001b[0m\u001b[1;33m(\u001b[0m\u001b[0mjudge\u001b[0m\u001b[1;33m)\u001b[0m\u001b[1;33m\u001b[0m\u001b[1;33m\u001b[0m\u001b[0m\n\u001b[1;32m---> 34\u001b[1;33m         \u001b[0mm\u001b[0m \u001b[1;33m=\u001b[0m \u001b[0mnp\u001b[0m\u001b[1;33m.\u001b[0m\u001b[0mload\u001b[0m\u001b[1;33m(\u001b[0m\u001b[0mpath_children_\u001b[0m\u001b[1;33m+\u001b[0m\u001b[1;34m'/'\u001b[0m\u001b[1;33m+\u001b[0m\u001b[0mmats\u001b[0m\u001b[1;33m)\u001b[0m\u001b[1;33m\u001b[0m\u001b[1;33m\u001b[0m\u001b[0m\n\u001b[0m\u001b[0;32m     35\u001b[0m         \u001b[0mData\u001b[0m\u001b[1;33m.\u001b[0m\u001b[0mappend\u001b[0m\u001b[1;33m(\u001b[0m\u001b[0mm\u001b[0m\u001b[1;33m.\u001b[0m\u001b[0mT\u001b[0m\u001b[1;33m.\u001b[0m\u001b[0mreshape\u001b[0m\u001b[1;33m(\u001b[0m\u001b[1;36m60\u001b[0m\u001b[1;33m,\u001b[0m\u001b[1;36m264\u001b[0m\u001b[1;33m,\u001b[0m\u001b[1;36m1\u001b[0m\u001b[1;33m)\u001b[0m\u001b[1;33m)\u001b[0m\u001b[1;33m\u001b[0m\u001b[1;33m\u001b[0m\u001b[0m\n",
      "\u001b[1;32mD:\\anaconda\\envs\\python3-gpu\\lib\\site-packages\\numpy\\lib\\npyio.py\u001b[0m in \u001b[0;36mload\u001b[1;34m(file, mmap_mode, allow_pickle, fix_imports, encoding)\u001b[0m\n\u001b[0;32m    449\u001b[0m             \u001b[1;31m# Try a pickle\u001b[0m\u001b[1;33m\u001b[0m\u001b[1;33m\u001b[0m\u001b[1;33m\u001b[0m\u001b[0m\n\u001b[0;32m    450\u001b[0m             \u001b[1;32mif\u001b[0m \u001b[1;32mnot\u001b[0m \u001b[0mallow_pickle\u001b[0m\u001b[1;33m:\u001b[0m\u001b[1;33m\u001b[0m\u001b[1;33m\u001b[0m\u001b[0m\n\u001b[1;32m--> 451\u001b[1;33m                 raise ValueError(\"Cannot load file containing pickled data \"\n\u001b[0m\u001b[0;32m    452\u001b[0m                                  \"when allow_pickle=False\")\n\u001b[0;32m    453\u001b[0m             \u001b[1;32mtry\u001b[0m\u001b[1;33m:\u001b[0m\u001b[1;33m\u001b[0m\u001b[1;33m\u001b[0m\u001b[0m\n",
      "\u001b[1;31mValueError\u001b[0m: Cannot load file containing pickled data when allow_pickle=False"
     ]
    }
   ],
   "source": [
    "# lfcc代码\n",
    "Label = []\n",
    "Data =[]\n",
    "Label_dic = {'bonafide':0}\n",
    "for path_children in list_root:\n",
    "    if path_children =='ofile_time_roll' or path_children =='ofile_time_stretch' :#or path_children =='SS_4':\n",
    "        continue\n",
    "    if path_children in Label_dic:\n",
    "        judge = Label_dic[path_children]\n",
    "    else:\n",
    "        judge = len(Label_dic)\n",
    "        Label_dic[path_children] = judge\n",
    "\n",
    "    path_children_ = path+path_children\n",
    "    list_children = os.listdir(path_children_)\n",
    "    dict_kind = {}\n",
    "    \n",
    "    if path_children not in dict_kind:\n",
    "        dict_kind[path_children]=0\n",
    "        \n",
    "        \n",
    "    seq = [i for i in range(len(list_children))]\n",
    "    choice  = random.sample(seq,2000)\n",
    "    choice.sort()\n",
    "    for number,mats in enumerate(list_children):\n",
    "        if number not in choice:\n",
    "            continue\n",
    "        dict_kind[path_children]+=1\n",
    "#         if dict_kind[path_children]>2000  and path_children !='bonafide' and path_children !='ofile_time_roll' and  path_children!='ofile_time_stretch':\n",
    "#             break\n",
    "#         elif dict_kind[path_children]>2000:\n",
    "#             break\n",
    "        Label.append(judge)\n",
    "        m = np.load(path_children_+'/'+mats)\n",
    "        Data.append(m.T.reshape(60,264,1))"
   ]
  },
  {
   "cell_type": "code",
   "execution_count": 9,
   "metadata": {
    "scrolled": false
   },
   "outputs": [
    {
     "ename": "NameError",
     "evalue": "name 'Label_dic' is not defined",
     "output_type": "error",
     "traceback": [
      "\u001b[1;31m---------------------------------------------------------------------------\u001b[0m",
      "\u001b[1;31mNameError\u001b[0m                                 Traceback (most recent call last)",
      "\u001b[1;32m<ipython-input-9-7425f670baa9>\u001b[0m in \u001b[0;36m<module>\u001b[1;34m\u001b[0m\n\u001b[1;32m----> 1\u001b[1;33m \u001b[0mLabel_dic\u001b[0m\u001b[1;33m\u001b[0m\u001b[1;33m\u001b[0m\u001b[0m\n\u001b[0m",
      "\u001b[1;31mNameError\u001b[0m: name 'Label_dic' is not defined"
     ]
    }
   ],
   "source": [
    "Label_dic"
   ]
  },
  {
   "cell_type": "code",
   "execution_count": 6,
   "metadata": {},
   "outputs": [],
   "source": [
    "def getCqccData(list_root, size_each):\n",
    "    Label = []\n",
    "    Data =[]\n",
    "    Label_dic = {'bonafide':0}\n",
    "    for path_children in list_root:\n",
    "        if path_children =='ofile_time_roll' or path_children =='ofile_time_stretch' :#or path_children =='SS_4':\n",
    "            continue\n",
    "        if path_children in Label_dic:\n",
    "            judge = Label_dic[path_children]\n",
    "        else:\n",
    "            judge = len(Label_dic)\n",
    "            Label_dic[path_children] = judge\n",
    "\n",
    "        path_children_ = path+path_children\n",
    "        list_children = os.listdir(path_children_)\n",
    "        dict_kind = {}\n",
    "\n",
    "        if path_children not in dict_kind:\n",
    "            dict_kind[path_children]=0\n",
    "\n",
    "\n",
    "        seq = [i for i in range(len(list_children))]\n",
    "        choice  = random.sample(seq,size_each)\n",
    "        choice.sort()\n",
    "        for number,mats in enumerate(list_children):\n",
    "            if number not in choice:\n",
    "                continue\n",
    "            dict_kind[path_children]+=1\n",
    "    #         if dict_kind[path_children]>2000  and path_children !='bonafide' and path_children !='ofile_time_roll' and  path_children!='ofile_time_stretch':\n",
    "    #             break\n",
    "    #         elif dict_kind[path_children]>2000:\n",
    "    #             break\n",
    "            Label.append(judge)\n",
    "            m = loadmat(path_children_+'/'+mats)\n",
    "            Data.append(m['CQcc'].reshape(60,264,1))\n",
    "    return Data,Label"
   ]
  },
  {
   "cell_type": "code",
   "execution_count": 74,
   "metadata": {},
   "outputs": [],
   "source": [
    "trainData,trainLabel = getCqccData(list_root, 2000)"
   ]
  },
  {
   "cell_type": "code",
   "execution_count": 75,
   "metadata": {},
   "outputs": [
    {
     "data": {
      "text/plain": [
       "(14000, 60, 264, 1)"
      ]
     },
     "execution_count": 75,
     "metadata": {},
     "output_type": "execute_result"
    }
   ],
   "source": [
    "trainData = np.array(trainData)\n",
    "trainData.shape"
   ]
  },
  {
   "cell_type": "code",
   "execution_count": 76,
   "metadata": {},
   "outputs": [
    {
     "data": {
      "text/plain": [
       "(14000,)"
      ]
     },
     "execution_count": 76,
     "metadata": {},
     "output_type": "execute_result"
    }
   ],
   "source": [
    "trainLabel = np.array(trainLabel)\n",
    "trainLabel.shape"
   ]
  },
  {
   "cell_type": "markdown",
   "metadata": {},
   "source": [
    "# 独热编码"
   ]
  },
  {
   "cell_type": "code",
   "execution_count": 77,
   "metadata": {},
   "outputs": [
    {
     "data": {
      "text/plain": [
       "array([[1., 0., 0., ..., 0., 0., 0.],\n",
       "       [1., 0., 0., ..., 0., 0., 0.],\n",
       "       [1., 0., 0., ..., 0., 0., 0.],\n",
       "       ...,\n",
       "       [0., 0., 0., ..., 0., 0., 1.],\n",
       "       [0., 0., 0., ..., 0., 0., 1.],\n",
       "       [0., 0., 0., ..., 0., 0., 1.]], dtype=float32)"
      ]
     },
     "execution_count": 77,
     "metadata": {},
     "output_type": "execute_result"
    }
   ],
   "source": [
    "\n",
    "y_train = to_categorical(trainLabel,num_classes= 7)\n",
    "y_train[::50]"
   ]
  },
  {
   "cell_type": "code",
   "execution_count": 78,
   "metadata": {},
   "outputs": [],
   "source": [
    "\n",
    "trainData,y_train = shuffle(trainData,y_train)"
   ]
  },
  {
   "cell_type": "markdown",
   "metadata": {},
   "source": [
    "## 尝试归一化 \n",
    "# 归一化就是一坨屎！！"
   ]
  },
  {
   "cell_type": "code",
   "execution_count": 18,
   "metadata": {},
   "outputs": [],
   "source": [
    "norm_Data = trainData / (trainData.max(axis=0) - trainData.min(axis=0))"
   ]
  },
  {
   "cell_type": "markdown",
   "metadata": {},
   "source": [
    "## 调调参数"
   ]
  },
  {
   "cell_type": "code",
   "execution_count": 19,
   "metadata": {},
   "outputs": [],
   "source": [
    "\n",
    "# learning rate schedule\n",
    "def step_decay(epoch):\n",
    "    initial_lrate = 5e-4\n",
    "    drop = 0.5\n",
    "    epochs_drop = 5.0\n",
    "    lrate = initial_lrate * math.pow(drop, math.floor((1+epoch)/epochs_drop))\n",
    "    print(\"lr changed to {}\".format(lrate))\n",
    "    return lrate\n",
    "\n",
    "lrate = LearningRateScheduler(step_decay)"
   ]
  },
  {
   "cell_type": "code",
   "execution_count": 79,
   "metadata": {},
   "outputs": [],
   "source": [
    "def scheduler(epoch):\n",
    "    # 每隔5个epoch，学习率减小为原来的1/10\n",
    "    lr = K.get_value(model.optimizer.lr)\n",
    "    print(\"LR now is {}\".format(lr))\n",
    "    lr = (1 - 1e-4) * lr\n",
    "    if epoch % 5 == 0 and epoch != 0:\n",
    "        lr = 0.6 * lr\n",
    "    return lr\n",
    " \n",
    "lrate = LearningRateScheduler(scheduler)"
   ]
  },
  {
   "cell_type": "code",
   "execution_count": 80,
   "metadata": {},
   "outputs": [],
   "source": [
    "sgd = optimizers.SGD(lr=5e-3, decay=1e-2, momentum=0.9, nesterov=True)\n",
    "adam = optimizers.Adam(lr=5e-3, beta_1=0.9, beta_2=0.999, epsilon=1e-8, decay=0, amsgrad=False)\n",
    "model = build_model(0)\n",
    "model.compile(loss='categorical_crossentropy',optimizer=sgd,metrics=['accuracy'])"
   ]
  },
  {
   "cell_type": "code",
   "execution_count": 81,
   "metadata": {
    "collapsed": true
   },
   "outputs": [
    {
     "name": "stdout",
     "output_type": "stream",
     "text": [
      "Model: \"inception\"\n",
      "__________________________________________________________________________________________________\n",
      "Layer (type)                    Output Shape         Param #     Connected to                     \n",
      "==================================================================================================\n",
      "input_16 (InputLayer)           [(None, 60, 264, 1)] 0                                            \n",
      "__________________________________________________________________________________________________\n",
      "conv2d_840 (Conv2D)             (None, 30, 132, 64)  3200        input_16[0][0]                   \n",
      "__________________________________________________________________________________________________\n",
      "batch_normalization_840 (BatchN (None, 30, 132, 64)  256         conv2d_840[0][0]                 \n",
      "__________________________________________________________________________________________________\n",
      "max_pooling2d_195 (MaxPooling2D (None, 15, 66, 64)   0           batch_normalization_840[0][0]    \n",
      "__________________________________________________________________________________________________\n",
      "conv2d_841 (Conv2D)             (None, 15, 66, 192)  110784      max_pooling2d_195[0][0]          \n",
      "__________________________________________________________________________________________________\n",
      "batch_normalization_841 (BatchN (None, 15, 66, 192)  768         conv2d_841[0][0]                 \n",
      "__________________________________________________________________________________________________\n",
      "max_pooling2d_196 (MaxPooling2D (None, 8, 33, 192)   0           batch_normalization_841[0][0]    \n",
      "__________________________________________________________________________________________________\n",
      "conv2d_843 (Conv2D)             (None, 8, 33, 64)    12352       max_pooling2d_196[0][0]          \n",
      "__________________________________________________________________________________________________\n",
      "conv2d_845 (Conv2D)             (None, 8, 33, 64)    12352       max_pooling2d_196[0][0]          \n",
      "__________________________________________________________________________________________________\n",
      "batch_normalization_843 (BatchN (None, 8, 33, 64)    256         conv2d_843[0][0]                 \n",
      "__________________________________________________________________________________________________\n",
      "batch_normalization_845 (BatchN (None, 8, 33, 64)    256         conv2d_845[0][0]                 \n",
      "__________________________________________________________________________________________________\n",
      "max_pooling2d_197 (MaxPooling2D (None, 8, 33, 192)   0           max_pooling2d_196[0][0]          \n",
      "__________________________________________________________________________________________________\n",
      "conv2d_842 (Conv2D)             (None, 8, 33, 64)    12352       max_pooling2d_196[0][0]          \n",
      "__________________________________________________________________________________________________\n",
      "conv2d_844 (Conv2D)             (None, 8, 33, 64)    36928       batch_normalization_843[0][0]    \n",
      "__________________________________________________________________________________________________\n",
      "conv2d_846 (Conv2D)             (None, 8, 33, 64)    4160        batch_normalization_845[0][0]    \n",
      "__________________________________________________________________________________________________\n",
      "conv2d_847 (Conv2D)             (None, 8, 33, 64)    12352       max_pooling2d_197[0][0]          \n",
      "__________________________________________________________________________________________________\n",
      "batch_normalization_842 (BatchN (None, 8, 33, 64)    256         conv2d_842[0][0]                 \n",
      "__________________________________________________________________________________________________\n",
      "batch_normalization_844 (BatchN (None, 8, 33, 64)    256         conv2d_844[0][0]                 \n",
      "__________________________________________________________________________________________________\n",
      "batch_normalization_846 (BatchN (None, 8, 33, 64)    256         conv2d_846[0][0]                 \n",
      "__________________________________________________________________________________________________\n",
      "batch_normalization_847 (BatchN (None, 8, 33, 64)    256         conv2d_847[0][0]                 \n",
      "__________________________________________________________________________________________________\n",
      "concatenate_135 (Concatenate)   (None, 8, 33, 256)   0           batch_normalization_842[0][0]    \n",
      "                                                                 batch_normalization_844[0][0]    \n",
      "                                                                 batch_normalization_846[0][0]    \n",
      "                                                                 batch_normalization_847[0][0]    \n",
      "__________________________________________________________________________________________________\n",
      "conv2d_849 (Conv2D)             (None, 8, 33, 120)   30840       concatenate_135[0][0]            \n",
      "__________________________________________________________________________________________________\n",
      "conv2d_851 (Conv2D)             (None, 8, 33, 120)   30840       concatenate_135[0][0]            \n",
      "__________________________________________________________________________________________________\n",
      "batch_normalization_849 (BatchN (None, 8, 33, 120)   480         conv2d_849[0][0]                 \n",
      "__________________________________________________________________________________________________\n",
      "batch_normalization_851 (BatchN (None, 8, 33, 120)   480         conv2d_851[0][0]                 \n",
      "__________________________________________________________________________________________________\n",
      "max_pooling2d_198 (MaxPooling2D (None, 8, 33, 256)   0           concatenate_135[0][0]            \n",
      "__________________________________________________________________________________________________\n",
      "conv2d_848 (Conv2D)             (None, 8, 33, 120)   30840       concatenate_135[0][0]            \n",
      "__________________________________________________________________________________________________\n",
      "conv2d_850 (Conv2D)             (None, 8, 33, 120)   129720      batch_normalization_849[0][0]    \n",
      "__________________________________________________________________________________________________\n",
      "conv2d_852 (Conv2D)             (None, 8, 33, 120)   14520       batch_normalization_851[0][0]    \n",
      "__________________________________________________________________________________________________\n",
      "conv2d_853 (Conv2D)             (None, 8, 33, 120)   30840       max_pooling2d_198[0][0]          \n",
      "__________________________________________________________________________________________________\n",
      "batch_normalization_848 (BatchN (None, 8, 33, 120)   480         conv2d_848[0][0]                 \n",
      "__________________________________________________________________________________________________\n",
      "batch_normalization_850 (BatchN (None, 8, 33, 120)   480         conv2d_850[0][0]                 \n",
      "__________________________________________________________________________________________________\n",
      "batch_normalization_852 (BatchN (None, 8, 33, 120)   480         conv2d_852[0][0]                 \n",
      "__________________________________________________________________________________________________\n",
      "batch_normalization_853 (BatchN (None, 8, 33, 120)   480         conv2d_853[0][0]                 \n",
      "__________________________________________________________________________________________________\n",
      "concatenate_136 (Concatenate)   (None, 8, 33, 480)   0           batch_normalization_848[0][0]    \n",
      "                                                                 batch_normalization_850[0][0]    \n",
      "                                                                 batch_normalization_852[0][0]    \n",
      "                                                                 batch_normalization_853[0][0]    \n",
      "__________________________________________________________________________________________________\n",
      "max_pooling2d_199 (MaxPooling2D (None, 4, 17, 480)   0           concatenate_136[0][0]            \n",
      "__________________________________________________________________________________________________\n",
      "conv2d_855 (Conv2D)             (None, 4, 17, 128)   61568       max_pooling2d_199[0][0]          \n",
      "__________________________________________________________________________________________________\n",
      "conv2d_857 (Conv2D)             (None, 4, 17, 128)   61568       max_pooling2d_199[0][0]          \n",
      "__________________________________________________________________________________________________\n",
      "batch_normalization_855 (BatchN (None, 4, 17, 128)   512         conv2d_855[0][0]                 \n",
      "__________________________________________________________________________________________________\n",
      "batch_normalization_857 (BatchN (None, 4, 17, 128)   512         conv2d_857[0][0]                 \n",
      "__________________________________________________________________________________________________\n",
      "max_pooling2d_200 (MaxPooling2D (None, 4, 17, 480)   0           max_pooling2d_199[0][0]          \n",
      "__________________________________________________________________________________________________\n",
      "conv2d_854 (Conv2D)             (None, 4, 17, 128)   61568       max_pooling2d_199[0][0]          \n",
      "__________________________________________________________________________________________________\n",
      "conv2d_856 (Conv2D)             (None, 4, 17, 128)   147584      batch_normalization_855[0][0]    \n",
      "__________________________________________________________________________________________________\n",
      "conv2d_858 (Conv2D)             (None, 4, 17, 128)   16512       batch_normalization_857[0][0]    \n",
      "__________________________________________________________________________________________________\n",
      "conv2d_859 (Conv2D)             (None, 4, 17, 128)   61568       max_pooling2d_200[0][0]          \n",
      "__________________________________________________________________________________________________\n",
      "batch_normalization_854 (BatchN (None, 4, 17, 128)   512         conv2d_854[0][0]                 \n",
      "__________________________________________________________________________________________________\n",
      "batch_normalization_856 (BatchN (None, 4, 17, 128)   512         conv2d_856[0][0]                 \n",
      "__________________________________________________________________________________________________\n",
      "batch_normalization_858 (BatchN (None, 4, 17, 128)   512         conv2d_858[0][0]                 \n",
      "__________________________________________________________________________________________________\n",
      "batch_normalization_859 (BatchN (None, 4, 17, 128)   512         conv2d_859[0][0]                 \n",
      "__________________________________________________________________________________________________\n",
      "concatenate_137 (Concatenate)   (None, 4, 17, 512)   0           batch_normalization_854[0][0]    \n",
      "                                                                 batch_normalization_856[0][0]    \n",
      "                                                                 batch_normalization_858[0][0]    \n",
      "                                                                 batch_normalization_859[0][0]    \n",
      "__________________________________________________________________________________________________\n",
      "conv2d_861 (Conv2D)             (None, 4, 17, 128)   65664       concatenate_137[0][0]            \n",
      "__________________________________________________________________________________________________\n",
      "conv2d_863 (Conv2D)             (None, 4, 17, 128)   65664       concatenate_137[0][0]            \n",
      "__________________________________________________________________________________________________\n",
      "batch_normalization_861 (BatchN (None, 4, 17, 128)   512         conv2d_861[0][0]                 \n",
      "__________________________________________________________________________________________________\n",
      "batch_normalization_863 (BatchN (None, 4, 17, 128)   512         conv2d_863[0][0]                 \n",
      "__________________________________________________________________________________________________\n",
      "max_pooling2d_201 (MaxPooling2D (None, 4, 17, 512)   0           concatenate_137[0][0]            \n",
      "__________________________________________________________________________________________________\n",
      "conv2d_860 (Conv2D)             (None, 4, 17, 128)   65664       concatenate_137[0][0]            \n",
      "__________________________________________________________________________________________________\n",
      "conv2d_862 (Conv2D)             (None, 4, 17, 128)   147584      batch_normalization_861[0][0]    \n",
      "__________________________________________________________________________________________________\n",
      "conv2d_864 (Conv2D)             (None, 4, 17, 128)   16512       batch_normalization_863[0][0]    \n",
      "__________________________________________________________________________________________________\n",
      "conv2d_865 (Conv2D)             (None, 4, 17, 128)   65664       max_pooling2d_201[0][0]          \n",
      "__________________________________________________________________________________________________\n",
      "batch_normalization_860 (BatchN (None, 4, 17, 128)   512         conv2d_860[0][0]                 \n",
      "__________________________________________________________________________________________________\n",
      "batch_normalization_862 (BatchN (None, 4, 17, 128)   512         conv2d_862[0][0]                 \n",
      "__________________________________________________________________________________________________\n",
      "batch_normalization_864 (BatchN (None, 4, 17, 128)   512         conv2d_864[0][0]                 \n",
      "__________________________________________________________________________________________________\n",
      "batch_normalization_865 (BatchN (None, 4, 17, 128)   512         conv2d_865[0][0]                 \n",
      "__________________________________________________________________________________________________\n",
      "concatenate_138 (Concatenate)   (None, 4, 17, 512)   0           batch_normalization_860[0][0]    \n",
      "                                                                 batch_normalization_862[0][0]    \n",
      "                                                                 batch_normalization_864[0][0]    \n",
      "                                                                 batch_normalization_865[0][0]    \n",
      "__________________________________________________________________________________________________\n",
      "conv2d_867 (Conv2D)             (None, 4, 17, 128)   65664       concatenate_138[0][0]            \n",
      "__________________________________________________________________________________________________\n",
      "conv2d_869 (Conv2D)             (None, 4, 17, 128)   65664       concatenate_138[0][0]            \n",
      "__________________________________________________________________________________________________\n",
      "batch_normalization_867 (BatchN (None, 4, 17, 128)   512         conv2d_867[0][0]                 \n",
      "__________________________________________________________________________________________________\n",
      "batch_normalization_869 (BatchN (None, 4, 17, 128)   512         conv2d_869[0][0]                 \n",
      "__________________________________________________________________________________________________\n",
      "max_pooling2d_202 (MaxPooling2D (None, 4, 17, 512)   0           concatenate_138[0][0]            \n",
      "__________________________________________________________________________________________________\n",
      "conv2d_866 (Conv2D)             (None, 4, 17, 128)   65664       concatenate_138[0][0]            \n",
      "__________________________________________________________________________________________________\n",
      "conv2d_868 (Conv2D)             (None, 4, 17, 128)   147584      batch_normalization_867[0][0]    \n",
      "__________________________________________________________________________________________________\n",
      "conv2d_870 (Conv2D)             (None, 4, 17, 128)   16512       batch_normalization_869[0][0]    \n",
      "__________________________________________________________________________________________________\n",
      "conv2d_871 (Conv2D)             (None, 4, 17, 128)   65664       max_pooling2d_202[0][0]          \n",
      "__________________________________________________________________________________________________\n",
      "batch_normalization_866 (BatchN (None, 4, 17, 128)   512         conv2d_866[0][0]                 \n",
      "__________________________________________________________________________________________________\n",
      "batch_normalization_868 (BatchN (None, 4, 17, 128)   512         conv2d_868[0][0]                 \n",
      "__________________________________________________________________________________________________\n",
      "batch_normalization_870 (BatchN (None, 4, 17, 128)   512         conv2d_870[0][0]                 \n",
      "__________________________________________________________________________________________________\n",
      "batch_normalization_871 (BatchN (None, 4, 17, 128)   512         conv2d_871[0][0]                 \n",
      "__________________________________________________________________________________________________\n",
      "concatenate_139 (Concatenate)   (None, 4, 17, 512)   0           batch_normalization_866[0][0]    \n",
      "                                                                 batch_normalization_868[0][0]    \n",
      "                                                                 batch_normalization_870[0][0]    \n",
      "                                                                 batch_normalization_871[0][0]    \n",
      "__________________________________________________________________________________________________\n",
      "conv2d_873 (Conv2D)             (None, 4, 17, 132)   67716       concatenate_139[0][0]            \n",
      "__________________________________________________________________________________________________\n",
      "conv2d_875 (Conv2D)             (None, 4, 17, 132)   67716       concatenate_139[0][0]            \n",
      "__________________________________________________________________________________________________\n",
      "batch_normalization_873 (BatchN (None, 4, 17, 132)   528         conv2d_873[0][0]                 \n",
      "__________________________________________________________________________________________________\n",
      "batch_normalization_875 (BatchN (None, 4, 17, 132)   528         conv2d_875[0][0]                 \n",
      "__________________________________________________________________________________________________\n",
      "max_pooling2d_203 (MaxPooling2D (None, 4, 17, 512)   0           concatenate_139[0][0]            \n",
      "__________________________________________________________________________________________________\n",
      "conv2d_872 (Conv2D)             (None, 4, 17, 132)   67716       concatenate_139[0][0]            \n",
      "__________________________________________________________________________________________________\n",
      "conv2d_874 (Conv2D)             (None, 4, 17, 132)   156948      batch_normalization_873[0][0]    \n",
      "__________________________________________________________________________________________________\n",
      "conv2d_876 (Conv2D)             (None, 4, 17, 132)   17556       batch_normalization_875[0][0]    \n",
      "__________________________________________________________________________________________________\n",
      "conv2d_877 (Conv2D)             (None, 4, 17, 132)   67716       max_pooling2d_203[0][0]          \n",
      "__________________________________________________________________________________________________\n",
      "batch_normalization_872 (BatchN (None, 4, 17, 132)   528         conv2d_872[0][0]                 \n",
      "__________________________________________________________________________________________________\n",
      "batch_normalization_874 (BatchN (None, 4, 17, 132)   528         conv2d_874[0][0]                 \n",
      "__________________________________________________________________________________________________\n",
      "batch_normalization_876 (BatchN (None, 4, 17, 132)   528         conv2d_876[0][0]                 \n",
      "__________________________________________________________________________________________________\n",
      "batch_normalization_877 (BatchN (None, 4, 17, 132)   528         conv2d_877[0][0]                 \n",
      "__________________________________________________________________________________________________\n",
      "concatenate_140 (Concatenate)   (None, 4, 17, 528)   0           batch_normalization_872[0][0]    \n",
      "                                                                 batch_normalization_874[0][0]    \n",
      "                                                                 batch_normalization_876[0][0]    \n",
      "                                                                 batch_normalization_877[0][0]    \n",
      "__________________________________________________________________________________________________\n",
      "conv2d_879 (Conv2D)             (None, 4, 17, 208)   110032      concatenate_140[0][0]            \n",
      "__________________________________________________________________________________________________\n",
      "conv2d_881 (Conv2D)             (None, 4, 17, 208)   110032      concatenate_140[0][0]            \n",
      "__________________________________________________________________________________________________\n",
      "batch_normalization_879 (BatchN (None, 4, 17, 208)   832         conv2d_879[0][0]                 \n",
      "__________________________________________________________________________________________________\n",
      "batch_normalization_881 (BatchN (None, 4, 17, 208)   832         conv2d_881[0][0]                 \n",
      "__________________________________________________________________________________________________\n",
      "max_pooling2d_204 (MaxPooling2D (None, 4, 17, 528)   0           concatenate_140[0][0]            \n",
      "__________________________________________________________________________________________________\n",
      "conv2d_878 (Conv2D)             (None, 4, 17, 208)   110032      concatenate_140[0][0]            \n",
      "__________________________________________________________________________________________________\n",
      "conv2d_880 (Conv2D)             (None, 4, 17, 208)   389584      batch_normalization_879[0][0]    \n",
      "__________________________________________________________________________________________________\n",
      "conv2d_882 (Conv2D)             (None, 4, 17, 208)   43472       batch_normalization_881[0][0]    \n",
      "__________________________________________________________________________________________________\n",
      "conv2d_883 (Conv2D)             (None, 4, 17, 208)   110032      max_pooling2d_204[0][0]          \n",
      "__________________________________________________________________________________________________\n",
      "batch_normalization_878 (BatchN (None, 4, 17, 208)   832         conv2d_878[0][0]                 \n",
      "__________________________________________________________________________________________________\n",
      "batch_normalization_880 (BatchN (None, 4, 17, 208)   832         conv2d_880[0][0]                 \n",
      "__________________________________________________________________________________________________\n",
      "batch_normalization_882 (BatchN (None, 4, 17, 208)   832         conv2d_882[0][0]                 \n",
      "__________________________________________________________________________________________________\n",
      "batch_normalization_883 (BatchN (None, 4, 17, 208)   832         conv2d_883[0][0]                 \n",
      "__________________________________________________________________________________________________\n",
      "concatenate_141 (Concatenate)   (None, 4, 17, 832)   0           batch_normalization_878[0][0]    \n",
      "                                                                 batch_normalization_880[0][0]    \n",
      "                                                                 batch_normalization_882[0][0]    \n",
      "                                                                 batch_normalization_883[0][0]    \n",
      "__________________________________________________________________________________________________\n",
      "max_pooling2d_205 (MaxPooling2D (None, 2, 9, 832)    0           concatenate_141[0][0]            \n",
      "__________________________________________________________________________________________________\n",
      "conv2d_885 (Conv2D)             (None, 2, 9, 208)    173264      max_pooling2d_205[0][0]          \n",
      "__________________________________________________________________________________________________\n",
      "conv2d_887 (Conv2D)             (None, 2, 9, 208)    173264      max_pooling2d_205[0][0]          \n",
      "__________________________________________________________________________________________________\n",
      "batch_normalization_885 (BatchN (None, 2, 9, 208)    832         conv2d_885[0][0]                 \n",
      "__________________________________________________________________________________________________\n",
      "batch_normalization_887 (BatchN (None, 2, 9, 208)    832         conv2d_887[0][0]                 \n",
      "__________________________________________________________________________________________________\n",
      "max_pooling2d_206 (MaxPooling2D (None, 2, 9, 832)    0           max_pooling2d_205[0][0]          \n",
      "__________________________________________________________________________________________________\n",
      "conv2d_884 (Conv2D)             (None, 2, 9, 208)    173264      max_pooling2d_205[0][0]          \n",
      "__________________________________________________________________________________________________\n",
      "conv2d_886 (Conv2D)             (None, 2, 9, 208)    389584      batch_normalization_885[0][0]    \n",
      "__________________________________________________________________________________________________\n",
      "conv2d_888 (Conv2D)             (None, 2, 9, 208)    43472       batch_normalization_887[0][0]    \n",
      "__________________________________________________________________________________________________\n",
      "conv2d_889 (Conv2D)             (None, 2, 9, 208)    173264      max_pooling2d_206[0][0]          \n",
      "__________________________________________________________________________________________________\n",
      "batch_normalization_884 (BatchN (None, 2, 9, 208)    832         conv2d_884[0][0]                 \n",
      "__________________________________________________________________________________________________\n",
      "batch_normalization_886 (BatchN (None, 2, 9, 208)    832         conv2d_886[0][0]                 \n",
      "__________________________________________________________________________________________________\n",
      "batch_normalization_888 (BatchN (None, 2, 9, 208)    832         conv2d_888[0][0]                 \n",
      "__________________________________________________________________________________________________\n",
      "batch_normalization_889 (BatchN (None, 2, 9, 208)    832         conv2d_889[0][0]                 \n",
      "__________________________________________________________________________________________________\n",
      "concatenate_142 (Concatenate)   (None, 2, 9, 832)    0           batch_normalization_884[0][0]    \n",
      "                                                                 batch_normalization_886[0][0]    \n",
      "                                                                 batch_normalization_888[0][0]    \n",
      "                                                                 batch_normalization_889[0][0]    \n",
      "__________________________________________________________________________________________________\n",
      "conv2d_891 (Conv2D)             (None, 2, 9, 256)    213248      concatenate_142[0][0]            \n",
      "__________________________________________________________________________________________________\n",
      "conv2d_893 (Conv2D)             (None, 2, 9, 256)    213248      concatenate_142[0][0]            \n",
      "__________________________________________________________________________________________________\n",
      "batch_normalization_891 (BatchN (None, 2, 9, 256)    1024        conv2d_891[0][0]                 \n",
      "__________________________________________________________________________________________________\n",
      "batch_normalization_893 (BatchN (None, 2, 9, 256)    1024        conv2d_893[0][0]                 \n",
      "__________________________________________________________________________________________________\n",
      "max_pooling2d_207 (MaxPooling2D (None, 2, 9, 832)    0           concatenate_142[0][0]            \n",
      "__________________________________________________________________________________________________\n",
      "conv2d_890 (Conv2D)             (None, 2, 9, 256)    213248      concatenate_142[0][0]            \n",
      "__________________________________________________________________________________________________\n",
      "conv2d_892 (Conv2D)             (None, 2, 9, 256)    590080      batch_normalization_891[0][0]    \n",
      "__________________________________________________________________________________________________\n",
      "conv2d_894 (Conv2D)             (None, 2, 9, 256)    65792       batch_normalization_893[0][0]    \n",
      "__________________________________________________________________________________________________\n",
      "conv2d_895 (Conv2D)             (None, 2, 9, 256)    213248      max_pooling2d_207[0][0]          \n",
      "__________________________________________________________________________________________________\n",
      "batch_normalization_890 (BatchN (None, 2, 9, 256)    1024        conv2d_890[0][0]                 \n",
      "__________________________________________________________________________________________________\n",
      "batch_normalization_892 (BatchN (None, 2, 9, 256)    1024        conv2d_892[0][0]                 \n",
      "__________________________________________________________________________________________________\n",
      "batch_normalization_894 (BatchN (None, 2, 9, 256)    1024        conv2d_894[0][0]                 \n",
      "__________________________________________________________________________________________________\n",
      "batch_normalization_895 (BatchN (None, 2, 9, 256)    1024        conv2d_895[0][0]                 \n",
      "__________________________________________________________________________________________________\n",
      "concatenate_143 (Concatenate)   (None, 2, 9, 1024)   0           batch_normalization_890[0][0]    \n",
      "                                                                 batch_normalization_892[0][0]    \n",
      "                                                                 batch_normalization_894[0][0]    \n",
      "                                                                 batch_normalization_895[0][0]    \n",
      "__________________________________________________________________________________________________\n",
      "average_pooling2d_15 (AveragePo (None, 1, 2, 1024)   0           concatenate_143[0][0]            \n",
      "__________________________________________________________________________________________________\n",
      "dropout_15 (Dropout)            (None, 1, 2, 1024)   0           average_pooling2d_15[0][0]       \n",
      "__________________________________________________________________________________________________\n",
      "dense_30 (Dense)                (None, 1, 2, 7)      7175        dropout_15[0][0]                 \n",
      "__________________________________________________________________________________________________\n",
      "flatten_15 (Flatten)            (None, 14)           0           dense_30[0][0]                   \n",
      "__________________________________________________________________________________________________\n",
      "dense_31 (Dense)                (None, 7)            105         flatten_15[0][0]                 \n",
      "==================================================================================================\n",
      "Total params: 5,730,712\n",
      "Trainable params: 5,713,736\n",
      "Non-trainable params: 16,976\n",
      "__________________________________________________________________________________________________\n"
     ]
    }
   ],
   "source": [
    "model.summary()"
   ]
  },
  {
   "cell_type": "markdown",
   "metadata": {},
   "source": [
    "## 模型训练fit"
   ]
  },
  {
   "cell_type": "code",
   "execution_count": 82,
   "metadata": {
    "collapsed": true
   },
   "outputs": [
    {
     "name": "stdout",
     "output_type": "stream",
     "text": [
      "Train on 11200 samples, validate on 2800 samples\n",
      "LR now is 0.004999999888241291\n",
      "Epoch 1/20\n",
      "11136/11200 [============================>.] - ETA: 0s - loss: 0.6891 - accuracy: 0.7561\n",
      "Epoch 00001: val_accuracy improved from -inf to 0.13679, saving model to g多分类.h5\n",
      "11200/11200 [==============================] - 57s 5ms/sample - loss: 0.6861 - accuracy: 0.7571 - val_loss: 2.2930 - val_accuracy: 0.1368\n",
      "LR now is 0.0049994997680187225\n",
      "Epoch 2/20\n",
      "11136/11200 [============================>.] - ETA: 0s - loss: 0.1031 - accuracy: 0.9667\n",
      "Epoch 00002: val_accuracy improved from 0.13679 to 0.56179, saving model to g多分类.h5\n",
      "11200/11200 [==============================] - 37s 3ms/sample - loss: 0.1036 - accuracy: 0.9664 - val_loss: 1.3891 - val_accuracy: 0.5618\n",
      "LR now is 0.004998999647796154\n",
      "Epoch 3/20\n",
      "11136/11200 [============================>.] - ETA: 0s - loss: 0.0408 - accuracy: 0.9888\n",
      "Epoch 00003: val_accuracy improved from 0.56179 to 0.92679, saving model to g多分类.h5\n",
      "11200/11200 [==============================] - 37s 3ms/sample - loss: 0.0407 - accuracy: 0.9888 - val_loss: 0.2175 - val_accuracy: 0.9268\n",
      "LR now is 0.0049984995275735855\n",
      "Epoch 4/20\n",
      "11136/11200 [============================>.] - ETA: 0s - loss: 0.0259 - accuracy: 0.9926\n",
      "Epoch 00004: val_accuracy improved from 0.92679 to 0.95536, saving model to g多分类.h5\n",
      "11200/11200 [==============================] - 37s 3ms/sample - loss: 0.0259 - accuracy: 0.9927 - val_loss: 0.1141 - val_accuracy: 0.9554\n",
      "LR now is 0.004997999873012304\n",
      "Epoch 5/20\n",
      "11136/11200 [============================>.] - ETA: 0s - loss: 0.0144 - accuracy: 0.9976\n",
      "Epoch 00005: val_accuracy improved from 0.95536 to 0.98250, saving model to g多分类.h5\n",
      "11200/11200 [==============================] - 37s 3ms/sample - loss: 0.0144 - accuracy: 0.9976 - val_loss: 0.0469 - val_accuracy: 0.9825\n",
      "LR now is 0.004997500218451023\n",
      "Epoch 6/20\n",
      "11136/11200 [============================>.] - ETA: 0s - loss: 0.0103 - accuracy: 0.9987\n",
      "Epoch 00006: val_accuracy improved from 0.98250 to 0.98929, saving model to g多分类.h5\n",
      "11200/11200 [==============================] - 37s 3ms/sample - loss: 0.0105 - accuracy: 0.9986 - val_loss: 0.0353 - val_accuracy: 0.9893\n",
      "LR now is 0.0029982002452015877\n",
      "Epoch 7/20\n",
      "11136/11200 [============================>.] - ETA: 0s - loss: 0.0087 - accuracy: 0.9987\n",
      "Epoch 00007: val_accuracy did not improve from 0.98929\n",
      "11200/11200 [==============================] - 37s 3ms/sample - loss: 0.0087 - accuracy: 0.9987 - val_loss: 0.0331 - val_accuracy: 0.9882\n",
      "LR now is 0.0029979003593325615\n",
      "Epoch 8/20\n",
      "11136/11200 [============================>.] - ETA: 0s - loss: 0.0074 - accuracy: 0.9990\n",
      "Epoch 00008: val_accuracy did not improve from 0.98929\n",
      "11200/11200 [==============================] - 38s 3ms/sample - loss: 0.0075 - accuracy: 0.9989 - val_loss: 0.0328 - val_accuracy: 0.9886\n",
      "LR now is 0.0029976004734635353\n",
      "Epoch 9/20\n",
      "11136/11200 [============================>.] - ETA: 0s - loss: 0.0066 - accuracy: 0.9995\n",
      "Epoch 00009: val_accuracy did not improve from 0.98929\n",
      "11200/11200 [==============================] - 37s 3ms/sample - loss: 0.0066 - accuracy: 0.9995 - val_loss: 0.0314 - val_accuracy: 0.9889\n",
      "LR now is 0.0029973008204251528\n",
      "Epoch 10/20\n",
      "11136/11200 [============================>.] - ETA: 0s - loss: 0.0067 - accuracy: 0.9995\n",
      "Epoch 00010: val_accuracy did not improve from 0.98929\n",
      "11200/11200 [==============================] - 37s 3ms/sample - loss: 0.0067 - accuracy: 0.9995 - val_loss: 0.0320 - val_accuracy: 0.9886\n",
      "LR now is 0.0029970011673867702\n",
      "Epoch 11/20\n",
      "11136/11200 [============================>.] - ETA: 0s - loss: 0.0071 - accuracy: 0.9993\n",
      "Epoch 00011: val_accuracy did not improve from 0.98929\n",
      "11200/11200 [==============================] - 37s 3ms/sample - loss: 0.0071 - accuracy: 0.9993 - val_loss: 0.0319 - val_accuracy: 0.9882\n",
      "LR now is 0.0017980209086090326\n",
      "Epoch 12/20\n",
      "11136/11200 [============================>.] - ETA: 0s - loss: 0.0066 - accuracy: 0.9991\n",
      "Epoch 00012: val_accuracy did not improve from 0.98929\n",
      "11200/11200 [==============================] - 37s 3ms/sample - loss: 0.0066 - accuracy: 0.9991 - val_loss: 0.0314 - val_accuracy: 0.9882\n",
      "LR now is 0.0017978411633521318\n",
      "Epoch 13/20\n",
      "11136/11200 [============================>.] - ETA: 0s - loss: 0.0064 - accuracy: 0.9994\n",
      "Epoch 00013: val_accuracy did not improve from 0.98929\n",
      "11200/11200 [==============================] - 37s 3ms/sample - loss: 0.0064 - accuracy: 0.9994 - val_loss: 0.0309 - val_accuracy: 0.9893\n",
      "LR now is 0.001797661418095231\n",
      "Epoch 14/20\n",
      "11136/11200 [============================>.] - ETA: 0s - loss: 0.0061 - accuracy: 0.9996\n",
      "Epoch 00014: val_accuracy did not improve from 0.98929\n",
      "11200/11200 [==============================] - 37s 3ms/sample - loss: 0.0063 - accuracy: 0.9995 - val_loss: 0.0309 - val_accuracy: 0.9893\n",
      "LR now is 0.0017974816728383303\n",
      "Epoch 15/20\n",
      "11136/11200 [============================>.] - ETA: 0s - loss: 0.0060 - accuracy: 0.9994\n",
      "Epoch 00015: val_accuracy did not improve from 0.98929\n",
      "11200/11200 [==============================] - 40s 4ms/sample - loss: 0.0060 - accuracy: 0.9994 - val_loss: 0.0307 - val_accuracy: 0.9893\n",
      "LR now is 0.0017973019275814295\n",
      "Epoch 16/20\n",
      "11136/11200 [============================>.] - ETA: 0s - loss: 0.0058 - accuracy: 0.9996\n",
      "Epoch 00016: val_accuracy did not improve from 0.98929\n",
      "11200/11200 [==============================] - 39s 3ms/sample - loss: 0.0058 - accuracy: 0.9996 - val_loss: 0.0305 - val_accuracy: 0.9893\n",
      "LR now is 0.0010782732861116529\n",
      "Epoch 17/20\n",
      "11136/11200 [============================>.] - ETA: 0s - loss: 0.0053 - accuracy: 0.9996\n",
      "Epoch 00017: val_accuracy did not improve from 0.98929\n",
      "11200/11200 [==============================] - 38s 3ms/sample - loss: 0.0053 - accuracy: 0.9996 - val_loss: 0.0305 - val_accuracy: 0.9893\n",
      "LR now is 0.0010781654855236411\n",
      "Epoch 18/20\n",
      "11136/11200 [============================>.] - ETA: 0s - loss: 0.0053 - accuracy: 0.9997\n",
      "Epoch 00018: val_accuracy improved from 0.98929 to 0.99000, saving model to g多分类.h5\n",
      "11200/11200 [==============================] - 37s 3ms/sample - loss: 0.0053 - accuracy: 0.9997 - val_loss: 0.0304 - val_accuracy: 0.9900\n",
      "LR now is 0.0010780576849356294\n",
      "Epoch 19/20\n",
      "11136/11200 [============================>.] - ETA: 0s - loss: 0.0050 - accuracy: 0.9998\n",
      "Epoch 00019: val_accuracy did not improve from 0.99000\n",
      "11200/11200 [==============================] - 39s 3ms/sample - loss: 0.0050 - accuracy: 0.9998 - val_loss: 0.0304 - val_accuracy: 0.9893\n",
      "LR now is 0.0010779498843476176\n",
      "Epoch 20/20\n",
      "11136/11200 [============================>.] - ETA: 0s - loss: 0.0048 - accuracy: 0.9998\n",
      "Epoch 00020: val_accuracy did not improve from 0.99000\n",
      "11200/11200 [==============================] - 37s 3ms/sample - loss: 0.0049 - accuracy: 0.9998 - val_loss: 0.0303 - val_accuracy: 0.9889\n"
     ]
    }
   ],
   "source": [
    "callbacks = [\n",
    "    EarlyStopping(monitor='val_accuracy',patience=20),\n",
    "    ModelCheckpoint('g多分类.h5',monitor='val_accuracy',save_best_only=True,verbose=1),\n",
    "    lrate\n",
    "    ]\n",
    "\n",
    "train_history = model.fit(trainData, y_train, epochs=20, batch_size=128, validation_split=0.2,callbacks=callbacks)"
   ]
  },
  {
   "cell_type": "code",
   "execution_count": 23,
   "metadata": {},
   "outputs": [],
   "source": [
    "# define the function\n",
    "def training_vis(hist):\n",
    "    loss = hist.history['loss']\n",
    "    val_loss = hist.history['val_loss']\n",
    "    acc = hist.history['accuracy']\n",
    "    val_acc = hist.history['val_accuracy']\n",
    "\n",
    "    # make a figure\n",
    "    fig = plt.figure(figsize=(8,4))\n",
    "    # subplot loss\n",
    "    ax1 = fig.add_subplot(121)\n",
    "    ax1.plot(loss,label='train_loss')\n",
    "    ax1.plot(val_loss,label='val_loss')\n",
    "    ax1.set_xlabel('Epochs')\n",
    "    ax1.set_ylabel('Loss')\n",
    "    ax1.set_title('Loss on Training and Validation Data')\n",
    "    ax1.legend()\n",
    "    # subplot acc\n",
    "    ax2 = fig.add_subplot(122)\n",
    "    ax2.plot(acc,label='train_acc')\n",
    "    ax2.plot(val_acc,label='val_acc')\n",
    "    ax2.set_xlabel('Epochs')\n",
    "    ax2.set_ylabel('Accuracy')\n",
    "    ax2.set_title('Accuracy  on Training and Validation Data')\n",
    "    ax2.legend()\n",
    "    plt.tight_layout()"
   ]
  },
  {
   "cell_type": "code",
   "execution_count": 83,
   "metadata": {
    "scrolled": true
   },
   "outputs": [
    {
     "data": {
      "image/png": "[encoded data removed]",
      "text/plain": [
       "<Figure size 576x288 with 2 Axes>"
      ]
     },
     "metadata": {
      "needs_background": "light"
     },
     "output_type": "display_data"
    }
   ],
   "source": [
    "training_vis(train_history)"
   ]
  },
  {
   "cell_type": "markdown",
   "metadata": {},
   "source": [
    "# dev开发集"
   ]
  },
  {
   "cell_type": "code",
   "execution_count": 84,
   "metadata": {},
   "outputs": [],
   "source": [
    "path = r'E:\\语音大创数据\\音频处理devCqcc/'\n",
    "list_root = os.listdir(path)"
   ]
  },
  {
   "cell_type": "code",
   "execution_count": 85,
   "metadata": {
    "scrolled": true
   },
   "outputs": [
    {
     "data": {
      "text/plain": [
       "['bonafide', 'SS_1', 'SS_2', 'SS_4', 'US_1', 'VC_1', 'VC_4']"
      ]
     },
     "execution_count": 85,
     "metadata": {},
     "output_type": "execute_result"
    }
   ],
   "source": [
    "list_root"
   ]
  },
  {
   "cell_type": "code",
   "execution_count": 86,
   "metadata": {},
   "outputs": [],
   "source": [
    "devData, devLabel =  getCqccData(list_root, 2000)"
   ]
  },
  {
   "cell_type": "markdown",
   "metadata": {},
   "source": [
    "# Data = np.array(Data)\n",
    "\n",
    "Data = (Data-Data.min())/(Data.max()-Data.min())"
   ]
  },
  {
   "cell_type": "code",
   "execution_count": 87,
   "metadata": {},
   "outputs": [
    {
     "data": {
      "text/plain": [
       "(14000, 60, 264, 1)"
      ]
     },
     "execution_count": 87,
     "metadata": {},
     "output_type": "execute_result"
    }
   ],
   "source": [
    "devData = np.array(devData)\n",
    "devData.shape"
   ]
  },
  {
   "cell_type": "code",
   "execution_count": 88,
   "metadata": {},
   "outputs": [
    {
     "data": {
      "text/plain": [
       "(14000,)"
      ]
     },
     "execution_count": 88,
     "metadata": {},
     "output_type": "execute_result"
    }
   ],
   "source": [
    "devLabel = np.array(devLabel)\n",
    "devLabel.shape"
   ]
  },
  {
   "cell_type": "code",
   "execution_count": 89,
   "metadata": {},
   "outputs": [
    {
     "data": {
      "text/plain": [
       "array([0, 0, 0, 0, 0, 0, 0, 0, 0, 0, 0, 0, 0, 0, 0, 0, 0, 0, 0, 0, 1, 1,\n",
       "       1, 1, 1, 1, 1, 1, 1, 1, 1, 1, 1, 1, 1, 1, 1, 1, 1, 1, 2, 2, 2, 2,\n",
       "       2, 2, 2, 2, 2, 2, 2, 2, 2, 2, 2, 2, 2, 2, 2, 2, 3, 3, 3, 3, 3, 3,\n",
       "       3, 3, 3, 3, 3, 3, 3, 3, 3, 3, 3, 3, 3, 3, 4, 4, 4, 4, 4, 4, 4, 4,\n",
       "       4, 4, 4, 4, 4, 4, 4, 4, 4, 4, 4, 4, 5, 5, 5, 5, 5, 5, 5, 5, 5, 5,\n",
       "       5, 5, 5, 5, 5, 5, 5, 5, 5, 5, 6, 6, 6, 6, 6, 6, 6, 6, 6, 6, 6, 6,\n",
       "       6, 6, 6, 6, 6, 6, 6, 6])"
      ]
     },
     "execution_count": 89,
     "metadata": {},
     "output_type": "execute_result"
    }
   ],
   "source": [
    "devLabel[::100]"
   ]
  },
  {
   "cell_type": "code",
   "execution_count": 8,
   "metadata": {},
   "outputs": [],
   "source": [
    "def transport(y):\n",
    "    test_y = []\n",
    "    for i in  y:\n",
    "        max = np.argmax(i)\n",
    "        if max == 0:\n",
    "            test_y.append(max)\n",
    "        else:\n",
    "            test_y.append(1)\n",
    "    return test_y\n",
    "\n",
    "def transport1(y):\n",
    "    test_y = []\n",
    "    for i in  y:\n",
    "        max = np.argmax(i)\n",
    "        test_y.append(max)\n",
    "    return test_y\n",
    "\n",
    "def label_transport(label):\n",
    "    test_y = []\n",
    "    for i in  label:\n",
    "        if i==0:\n",
    "            test_y.append(0)\n",
    "        else:\n",
    "            test_y.append(1)\n",
    "    return test_y"
   ]
  },
  {
   "cell_type": "code",
   "execution_count": 92,
   "metadata": {},
   "outputs": [],
   "source": [
    "\n",
    "x_pre = model.predict(devData)\n",
    "\n",
    "y_pre = transport(x_pre)\n",
    "y_pre1 = transport1(x_pre)\n",
    "y_true = label_transport(devLabel)"
   ]
  },
  {
   "cell_type": "code",
   "execution_count": 33,
   "metadata": {},
   "outputs": [
    {
     "data": {
      "text/plain": [
       "array([[8.5347468e-01, 6.7348669e-06, 2.3672378e-02, ..., 2.3497664e-03,\n",
       "        1.9951442e-03, 2.2513600e-02],\n",
       "       [6.3040531e-01, 3.0010423e-08, 1.2149427e-03, ..., 2.3200291e-05,\n",
       "        3.5751200e-01, 1.3256534e-05],\n",
       "       [9.4724834e-01, 3.1335974e-06, 1.6070958e-02, ..., 3.9076657e-04,\n",
       "        1.9829398e-02, 1.3136379e-03],\n",
       "       ...,\n",
       "       [1.2365396e-07, 3.8828361e-03, 2.2878035e-05, ..., 2.3608844e-04,\n",
       "        1.6093109e-06, 9.9585634e-01],\n",
       "       [1.8505190e-07, 1.3395099e-01, 3.7767948e-04, ..., 1.1093373e-03,\n",
       "        7.4336526e-06, 8.6455417e-01],\n",
       "       [7.3908399e-07, 5.4952462e-04, 5.7521352e-04, ..., 2.5043389e-04,\n",
       "        4.9593473e-06, 9.9861896e-01]], dtype=float32)"
      ]
     },
     "execution_count": 33,
     "metadata": {},
     "output_type": "execute_result"
    }
   ],
   "source": [
    "x_pre"
   ]
  },
  {
   "cell_type": "code",
   "execution_count": 7,
   "metadata": {},
   "outputs": [],
   "source": [
    "import matplotlib.pyplot as plt\n",
    "from sklearn.metrics import confusion_matrix\n",
    "import numpy as np\n",
    "\n",
    "def cm_plot(original_label, predict_label, pic=None):\n",
    "    cm = confusion_matrix(original_label, predict_label)   # 由原标签和预测标签生成混淆矩阵\n",
    "    plt.figure(figsize=(6,6.5))\n",
    "    plt.matshow(cm, cmap=plt.cm.Blues)     # 画混淆矩阵，配色风格使用cm.Blues\n",
    "    plt.colorbar()    # 颜色标签\n",
    "    for x in range(len(cm)):\n",
    "        for y in range(len(cm)):\n",
    "            plt.annotate(cm[x, y], xy=(x, y), horizontalalignment='center', verticalalignment='center')\n",
    "            # annotate主要在图形中添加注释\n",
    "            # 第一个参数添加注释\n",
    "            # 第二个参数是注释的内容\n",
    "            # xy设置箭头尖的坐标\n",
    "            # horizontalalignment水平对齐\n",
    "            # verticalalignment垂直对齐\n",
    "            # 其余常用参数如下：\n",
    "            # xytext设置注释内容显示的起始位置\n",
    "            # arrowprops 用来设置箭头\n",
    "            # facecolor 设置箭头的颜色\n",
    "            # headlength 箭头的头的长度\n",
    "            # headwidth 箭头的宽度\n",
    "            # width 箭身的宽度\n",
    "    plt.ylabel('True label')  # 坐标轴标签\n",
    "    plt.xlabel('Predicted label')  # 坐标轴标签\n",
    "    plt.title('confusion matrix')\n",
    "    if pic is not None:\n",
    "        plt.savefig(str(pic) + '.jpg')\n",
    "    plt.show()\n"
   ]
  },
  {
   "cell_type": "code",
   "execution_count": 10,
   "metadata": {},
   "outputs": [],
   "source": [
    "def cm_plot_big(original_label, predict_label, pic=None):\n",
    "    cm = confusion_matrix(original_label, predict_label)   # 由原标签和预测标签生成混淆矩阵\n",
    "    plt.figure(figsize=(16,16.5))\n",
    "    plt.matshow(cm, cmap=plt.cm.Blues)     # 画混淆矩阵，配色风格使用cm.Blues\n",
    "    plt.colorbar()    # 颜色标签\n",
    "    for x in range(len(cm)):\n",
    "        for y in range(len(cm)):\n",
    "            plt.annotate(cm[x, y], xy=(x, y), horizontalalignment='center', verticalalignment='center')\n",
    "            # annotate主要在图形中添加注释\n",
    "            # 第一个参数添加注释\n",
    "            # 第二个参数是注释的内容\n",
    "            # xy设置箭头尖的坐标\n",
    "            # horizontalalignment水平对齐\n",
    "            # verticalalignment垂直对齐\n",
    "            # 其余常用参数如下：\n",
    "            # xytext设置注释内容显示的起始位置\n",
    "            # arrowprops 用来设置箭头\n",
    "            # facecolor 设置箭头的颜色\n",
    "            # headlength 箭头的头的长度\n",
    "            # headwidth 箭头的宽度\n",
    "            # width 箭身的宽度\n",
    "    plt.ylabel('True label')  # 坐标轴标签\n",
    "    plt.xlabel('Predicted label')  # 坐标轴标签\n",
    "    plt.title('confusion matrix')\n",
    "    if pic is not None:\n",
    "        plt.savefig(str(pic) + '.jpg')\n",
    "    plt.show()"
   ]
  },
  {
   "cell_type": "code",
   "execution_count": 95,
   "metadata": {
    "scrolled": false
   },
   "outputs": [
    {
     "data": {
      "text/plain": [
       "<Figure size 432x468 with 0 Axes>"
      ]
     },
     "metadata": {},
     "output_type": "display_data"
    },
    {
     "data": {
      "image/png": "[encoded data removed]",
      "text/plain": [
       "<Figure size 288x288 with 2 Axes>"
      ]
     },
     "metadata": {
      "needs_background": "light"
     },
     "output_type": "display_data"
    }
   ],
   "source": [
    "cm_plot(y_pre,y_true)"
   ]
  },
  {
   "cell_type": "code",
   "execution_count": 96,
   "metadata": {},
   "outputs": [
    {
     "data": {
      "text/plain": [
       "<Figure size 432x468 with 0 Axes>"
      ]
     },
     "metadata": {},
     "output_type": "display_data"
    },
    {
     "data": {
      "image/png": "[encoded data removed]",
      "text/plain": [
       "<Figure size 288x288 with 2 Axes>"
      ]
     },
     "metadata": {
      "needs_background": "light"
     },
     "output_type": "display_data"
    }
   ],
   "source": [
    "cm_plot(y_pre1,devLabel)"
   ]
  },
  {
   "cell_type": "code",
   "execution_count": 8,
   "metadata": {},
   "outputs": [],
   "source": [
    "from sklearn.model_selection import train_test_split\n",
    "from sklearn.metrics import recall_score,accuracy_score\n",
    "from sklearn.metrics import precision_score,f1_score\n",
    "from sklearn.metrics import roc_curve\n",
    "from sklearn.metrics import auc"
   ]
  },
  {
   "cell_type": "code",
   "execution_count": 98,
   "metadata": {},
   "outputs": [
    {
     "name": "stdout",
     "output_type": "stream",
     "text": [
      "Precision_score: 0.9805614133039309\n",
      "Recall_score: 0.9805714285714285\n",
      "F1_score: 0.9805548861997876\n",
      "Accuracy_score: 0.9805714285714285\n"
     ]
    }
   ],
   "source": [
    "# micro：多分类　　\n",
    "# weighted：不均衡数量的类来说，计算二分类metrics的平均\n",
    "# macro：计算二分类metrics的均值，为每个类给出相同权重的分值。\n",
    "precision = precision_score(devLabel, y_pre1, average='weighted')\n",
    "recall = recall_score(devLabel, y_pre1, average='weighted')\n",
    "f1_score = f1_score(devLabel, y_pre1, average='weighted')\n",
    "accuracy_score = accuracy_score(devLabel, y_pre1)\n",
    "print(\"Precision_score:\",precision)\n",
    "print(\"Recall_score:\",recall)\n",
    "print(\"F1_score:\",f1_score)\n",
    "print(\"Accuracy_score:\",accuracy_score)\n",
    "\n",
    "\n",
    "\n",
    "# # 二分类　ＲＯＣ曲线\n",
    "# # roc_curve:真正率（True Positive Rate , TPR）或灵敏度（sensitivity）\n",
    "# # 横坐标：假正率（False Positive Rate , FPR）\n",
    "# fpr, tpr, thresholds_keras = roc_curve(Label, y_pre)\n",
    "# auc = auc(fpr, tpr)\n",
    "# print(\"AUC : \", auc)\n",
    "# plt.figure()\n",
    "# plt.plot([0, 1], [0, 1], 'k--')\n",
    "# plt.plot(fpr, tpr, label='Keras (area = {:.3f})'.format(auc))\n",
    "# plt.xlabel('False positive rate')\n",
    "# plt.ylabel('True positive rate')\n",
    "# plt.title('ROC curve')\n",
    "# plt.legend(loc='best')\n",
    "# plt.savefig(\"../ROC_2分类.png\")\n",
    "# plt.show()"
   ]
  },
  {
   "cell_type": "markdown",
   "metadata": {},
   "source": [
    "# 评估集！！！"
   ]
  },
  {
   "cell_type": "code",
   "execution_count": 9,
   "metadata": {},
   "outputs": [
    {
     "data": {
      "text/plain": [
       "['A07',\n",
       " 'A08',\n",
       " 'A09',\n",
       " 'A10',\n",
       " 'A11',\n",
       " 'A12',\n",
       " 'A13',\n",
       " 'A14',\n",
       " 'A15',\n",
       " 'A16',\n",
       " 'A17',\n",
       " 'A18',\n",
       " 'A19',\n",
       " 'bonafide']"
      ]
     },
     "execution_count": 9,
     "metadata": {},
     "output_type": "execute_result"
    }
   ],
   "source": [
    "path = r'E:\\语音大创数据\\音频处理evalCqcc/'\n",
    "list_root = os.listdir(path)\n",
    "\n",
    "list_root"
   ]
  },
  {
   "cell_type": "code",
   "execution_count": 38,
   "metadata": {},
   "outputs": [],
   "source": [
    "evalData,evalLabel = getCqccData(list_root, 2000)"
   ]
  },
  {
   "cell_type": "code",
   "execution_count": 39,
   "metadata": {},
   "outputs": [
    {
     "data": {
      "text/plain": [
       "(28000, 60, 264, 1)"
      ]
     },
     "execution_count": 39,
     "metadata": {},
     "output_type": "execute_result"
    }
   ],
   "source": [
    "evalData = np.array(evalData)\n",
    "evalData.shape"
   ]
  },
  {
   "cell_type": "markdown",
   "metadata": {},
   "source": [
    "# 用到这里，内存都不够了，唉太难了"
   ]
  },
  {
   "cell_type": "code",
   "execution_count": 14,
   "metadata": {},
   "outputs": [],
   "source": [
    "from tensorflow.keras.models import load_model\n",
    "# 加载下模型"
   ]
  },
  {
   "cell_type": "code",
   "execution_count": 15,
   "metadata": {},
   "outputs": [],
   "source": [
    " model = load_model('g多分类.h5')"
   ]
  },
  {
   "cell_type": "code",
   "execution_count": 40,
   "metadata": {},
   "outputs": [
    {
     "data": {
      "text/plain": [
       "(28000,)"
      ]
     },
     "execution_count": 40,
     "metadata": {},
     "output_type": "execute_result"
    }
   ],
   "source": [
    "evalLabel = np.array(evalLabel)\n",
    "evalLabel.shape"
   ]
  },
  {
   "cell_type": "code",
   "execution_count": 12,
   "metadata": {},
   "outputs": [],
   "source": [
    "def transport(y):\n",
    "    test_y = []\n",
    "    for i in  y:\n",
    "        max = np.argmax(i)\n",
    "        if max == 0:\n",
    "            test_y.append(max)\n",
    "        else:\n",
    "            test_y.append(1)\n",
    "    return test_y\n",
    "\n",
    "def transport1eval(y, yu=0.9):\n",
    "    test_y = []\n",
    "    for i in  y:\n",
    "        if i[0]>yu:\n",
    "            test_y.append(0)\n",
    "        else:\n",
    "            test_y.append(1)\n",
    "    return test_y\n",
    "\n",
    "def label_transport(label):\n",
    "    test_y = []\n",
    "    for i in  label:\n",
    "        if i==0:\n",
    "            test_y.append(0)\n",
    "        else:\n",
    "            test_y.append(1)\n",
    "    return test_y\n"
   ]
  },
  {
   "cell_type": "code",
   "execution_count": 41,
   "metadata": {},
   "outputs": [],
   "source": [
    "x_pre = model.predict(evalData)"
   ]
  },
  {
   "cell_type": "code",
   "execution_count": 42,
   "metadata": {},
   "outputs": [
    {
     "data": {
      "text/plain": [
       "(28000, 7)"
      ]
     },
     "execution_count": 42,
     "metadata": {},
     "output_type": "execute_result"
    }
   ],
   "source": [
    "x_pre.shape"
   ]
  },
  {
   "cell_type": "code",
   "execution_count": 43,
   "metadata": {},
   "outputs": [],
   "source": [
    "y_pre = transport(x_pre)\n",
    "y_pre1 = transport1eval(x_pre, 0.884269)\n",
    "y_true = label_transport(evalLabel)"
   ]
  },
  {
   "cell_type": "code",
   "execution_count": 44,
   "metadata": {},
   "outputs": [
    {
     "data": {
      "text/plain": [
       "(28000,)"
      ]
     },
     "execution_count": 44,
     "metadata": {},
     "output_type": "execute_result"
    }
   ],
   "source": [
    "np.array(y_pre1).shape"
   ]
  },
  {
   "cell_type": "code",
   "execution_count": 45,
   "metadata": {},
   "outputs": [
    {
     "data": {
      "text/plain": [
       "(28000,)"
      ]
     },
     "execution_count": 45,
     "metadata": {},
     "output_type": "execute_result"
    }
   ],
   "source": [
    "np.array(y_true).shape"
   ]
  },
  {
   "cell_type": "code",
   "execution_count": 46,
   "metadata": {},
   "outputs": [
    {
     "data": {
      "text/plain": [
       "array([ 1,  1,  1,  1,  2,  2,  2,  2,  3,  3,  3,  3,  4,  4,  4,  4,  5,\n",
       "        5,  5,  5,  6,  6,  6,  6,  7,  7,  7,  7,  8,  8,  8,  8,  9,  9,\n",
       "        9,  9, 10, 10, 10, 10, 11, 11, 11, 11, 12, 12, 12, 12, 13, 13, 13,\n",
       "       13,  0,  0,  0,  0])"
      ]
     },
     "execution_count": 46,
     "metadata": {},
     "output_type": "execute_result"
    }
   ],
   "source": [
    "evalLabel[::500]"
   ]
  },
  {
   "cell_type": "code",
   "execution_count": 47,
   "metadata": {},
   "outputs": [
    {
     "data": {
      "text/plain": [
       "[1,\n",
       " 1,\n",
       " 1,\n",
       " 1,\n",
       " 1,\n",
       " 1,\n",
       " 1,\n",
       " 1,\n",
       " 1,\n",
       " 1,\n",
       " 1,\n",
       " 1,\n",
       " 1,\n",
       " 1,\n",
       " 1,\n",
       " 1,\n",
       " 1,\n",
       " 1,\n",
       " 1,\n",
       " 1,\n",
       " 1,\n",
       " 1,\n",
       " 1,\n",
       " 1,\n",
       " 1,\n",
       " 1,\n",
       " 1,\n",
       " 1,\n",
       " 1,\n",
       " 1,\n",
       " 1,\n",
       " 1,\n",
       " 1,\n",
       " 1,\n",
       " 1,\n",
       " 1,\n",
       " 1,\n",
       " 1,\n",
       " 1,\n",
       " 1,\n",
       " 1,\n",
       " 1,\n",
       " 1,\n",
       " 1,\n",
       " 1,\n",
       " 1,\n",
       " 1,\n",
       " 1,\n",
       " 1,\n",
       " 1,\n",
       " 1,\n",
       " 1,\n",
       " 0,\n",
       " 0,\n",
       " 0,\n",
       " 0]"
      ]
     },
     "execution_count": 47,
     "metadata": {},
     "output_type": "execute_result"
    }
   ],
   "source": [
    "y_true[::500]"
   ]
  },
  {
   "cell_type": "code",
   "execution_count": 25,
   "metadata": {},
   "outputs": [],
   "source": [
    "def scores(pre,  true):\n",
    "    # micro：多分类　　\n",
    "    # weighted：不均衡数量的类来说，计算二分类metrics的平均\n",
    "    # macro：计算二分类metrics的均值，为每个类给出相同权重的分值。\n",
    "    precision = precision_score(pre,true, average='weighted')\n",
    "    recall = recall_score(pre,true, average='weighted')\n",
    "    f1_score1 = f1_score(y_pre1,y_true, average='weighted')\n",
    "    accuracy_score1 = accuracy_score(y_pre1,y_true)\n",
    "    print(\"Precision_score:\",precision)\n",
    "    print(\"Recall_score:\",recall)\n",
    "    print(\"F1_score:\",f1_score1)\n",
    "    print(\"Accuracy_score:\",accuracy_score1)\n",
    "\n",
    "\n",
    "\n",
    "# # 二分类　ＲＯＣ曲线\n",
    "# # roc_curve:真正率（True Positive Rate , TPR）或灵敏度（sensitivity）\n",
    "# # 横坐标：假正率（False Positive Rate , FPR）\n",
    "# fpr, tpr, thresholds_keras = roc_curve(Label, y_pre1)\n",
    "# auc = auc(fpr, tpr)\n",
    "# print(\"AUC : \", auc)\n",
    "# plt.figure()\n",
    "# plt.plot([0, 1], [0, 1], 'k--')\n",
    "# plt.plot(fpr, tpr, label='Keras (area = {:.3f})'.format(auc))\n",
    "# plt.xlabel('False positive rate')\n",
    "# plt.ylabel('True positive rate')\n",
    "# plt.title('ROC curve')\n",
    "# plt.legend(loc='best')\n",
    "# plt.savefig(\"../ROC_2分类.png\")\n",
    "# plt.show()"
   ]
  },
  {
   "cell_type": "code",
   "execution_count": 33,
   "metadata": {},
   "outputs": [
    {
     "data": {
      "text/plain": [
       "<Figure size 432x468 with 0 Axes>"
      ]
     },
     "metadata": {},
     "output_type": "display_data"
    },
    {
     "data": {
      "image/png": "[encoded data removed]",
      "text/plain": [
       "<Figure size 288x288 with 2 Axes>"
      ]
     },
     "metadata": {
      "needs_background": "light"
     },
     "output_type": "display_data"
    }
   ],
   "source": [
    "cm_plot(y_pre1,y_true)"
   ]
  },
  {
   "cell_type": "markdown",
   "metadata": {},
   "source": [
    "# EER即 FRR = FPR的点\n",
    "这里通过阈值作为x，分别作FRR和FPR曲线，两者取交点。"
   ]
  },
  {
   "cell_type": "code",
   "execution_count": 11,
   "metadata": {},
   "outputs": [],
   "source": [
    "def getEER(ol, pl):\n",
    "    cm = confusion_matrix(ol, pl)\n",
    "    TN = cm[0][0]\n",
    "    FP = cm[0][1]\n",
    "    FN = cm[1][0]\n",
    "    TP = cm[1][1]\n",
    "    FPR = FP / (TN + FP)\n",
    "    FRR = FN / (TP + FN)\n",
    "    return FPR, FRR"
   ]
  },
  {
   "cell_type": "code",
   "execution_count": 27,
   "metadata": {},
   "outputs": [],
   "source": [
    "testyus = np.linspace(0.5,0.95,10)\n",
    "yus = list(testyus)\n",
    "FPRs = []\n",
    "FRRs = []\n",
    "for yu in yus:\n",
    "    y_pre1 = transport1eval(x_pre, yu)\n",
    "    FPR, FRR = getEER(y_true, y_pre1)\n",
    "    FPRs.append(FPR)\n",
    "    FRRs.append(FRR)\n"
   ]
  },
  {
   "cell_type": "code",
   "execution_count": 28,
   "metadata": {},
   "outputs": [
    {
     "name": "stdout",
     "output_type": "stream",
     "text": [
      "[0.04, 0.05, 0.05, 0.05, 0.055, 0.06, 0.06, 0.085, 0.11, 0.12]\n",
      "[0.18346153846153845, 0.1723076923076923, 0.15730769230769232, 0.14423076923076922, 0.13384615384615384, 0.12384615384615384, 0.11846153846153847, 0.10846153846153846, 0.09923076923076923, 0.08269230769230769]\n"
     ]
    }
   ],
   "source": [
    "print(FPRs)\n",
    "print(FRRs)"
   ]
  },
  {
   "cell_type": "code",
   "execution_count": 10,
   "metadata": {},
   "outputs": [
    {
     "data": {
      "text/plain": [
       "Text(0.5, 1.0, ' find eer')"
      ]
     },
     "execution_count": 10,
     "metadata": {},
     "output_type": "execute_result"
    },
    {
     "data": {
      "image/png": "[encoded data removed]",
      "text/plain": [
       "<Figure size 432x288 with 1 Axes>"
      ]
     },
     "metadata": {
      "needs_background": "light"
     },
     "output_type": "display_data"
    }
   ],
   "source": [
    "plt.figure()\n",
    "plt.plot(yus,FPRs,marker = '*',label = 'FPR')\n",
    "plt.plot(yus, FRRs, marker = 'o',label = 'FRR')\n",
    "plt.legend()\n",
    "plt.xlim([0,1])\n",
    "plt.ylim([0,1])\n",
    "plt.xlabel('thresh')\n",
    "plt.ylabel('FPR/FRR')\n",
    "plt.title(' find eer')"
   ]
  },
  {
   "cell_type": "markdown",
   "metadata": {},
   "source": [
    "# 寻找交点"
   ]
  },
  {
   "cell_type": "code",
   "execution_count": 29,
   "metadata": {},
   "outputs": [],
   "source": [
    "def findX(X1, X2, T):\n",
    "    #求一下两条线的交点, 默认X1递增， X2递减\n",
    "    # 先找到4个点满足X11 < X21, X12 > X22 \n",
    "    iT = -1\n",
    "    iX = -1\n",
    "    for idx, x in enumerate(X1):\n",
    "        if X2[idx] > X1[idx]:\n",
    "            continue\n",
    "        else:\n",
    "            # 找到第一个X2>X1的点\n",
    "            X11 = X1[idx - 1]\n",
    "            X12 = X1[idx]\n",
    "            X21 = X2[idx-1]\n",
    "            X22 = X2[idx]\n",
    "            T1 = T[idx-1]\n",
    "            T2 = T[idx]\n",
    "            #由三角形相似性求\n",
    "            iT = (T2-T1) * (X21-X11) / (X12 + X21 - X22 - X11) + T1\n",
    "            iX = X11 + (iT - T1)/ (T2- T1) * (X12 - X11)\n",
    "            break\n",
    "    return iT, iX\n",
    "            \n",
    "            \n",
    "        "
   ]
  },
  {
   "cell_type": "code",
   "execution_count": 30,
   "metadata": {},
   "outputs": [],
   "source": [
    "def drawEER(yus, FPRs, FRRs):\n",
    "    iT, iX = findX(FPRs, FRRs, yus)\n",
    "    plt.figure()\n",
    "    plt.plot(yus,FPRs,marker = '*',label = 'FPR')\n",
    "    plt.plot(yus, FRRs, marker = 'o',label = 'FRR')\n",
    "    plt.legend()\n",
    "    plt.xlim([0,1])\n",
    "    plt.ylim([0,1])\n",
    "    plt.xlabel('thresh')\n",
    "    plt.ylabel('FPR/FRR')\n",
    "    plt.title(' find eer')\n",
    "    print(iT, iX)"
   ]
  },
  {
   "cell_type": "code",
   "execution_count": 15,
   "metadata": {},
   "outputs": [],
   "source": [
    "# 不想加载模型了，直接测试用的代码\n",
    "testyus = np.linspace(0.5,0.95,10)\n",
    "yus = list(testyus)\n",
    "FPRs = [0.025560444165095328,\n",
    "        0.028647568287808126,\n",
    "        0.03269818866149141,\n",
    "        0.036523929471032744,\n",
    "        0.044522396114409064,\n",
    "        0.051564310544611816,\n",
    "        0.059962523422860715,\n",
    "        0.0756188538487623,\n",
    "        0.10457759583178265,\n",
    "        0.14883720930232558]\n",
    "FRRs = [0.1788846153846154,\n",
    "        0.16823076923076924,\n",
    "        0.15815384615384614,\n",
    "        0.14711538461538462,\n",
    "        0.1361923076923077,\n",
    "        0.12592307692307692,\n",
    "        0.11576923076923076,\n",
    "        0.10484615384615385,\n",
    "        0.09253846153846154,\n",
    "        0.07742307692307693]\n",
    "\n"
   ]
  },
  {
   "cell_type": "code",
   "execution_count": 31,
   "metadata": {},
   "outputs": [
    {
     "name": "stdout",
     "output_type": "stream",
     "text": [
      "0.8842696629213482 0.10213483146067415\n"
     ]
    },
    {
     "data": {
      "image/png": "[encoded data removed]",
      "text/plain": [
       "<Figure size 432x288 with 1 Axes>"
      ]
     },
     "metadata": {
      "needs_background": "light"
     },
     "output_type": "display_data"
    }
   ],
   "source": [
    "drawEER(yus, FPRs, FRRs)"
   ]
  },
  {
   "cell_type": "code",
   "execution_count": null,
   "metadata": {},
   "outputs": [],
   "source": [
    "def allAboutEER(original_label, predict_label):\n",
    "    "
   ]
  },
  {
   "cell_type": "code",
   "execution_count": null,
   "metadata": {},
   "outputs": [],
   "source": []
  },
  {
   "cell_type": "code",
   "execution_count": 27,
   "metadata": {
    "scrolled": false
   },
   "outputs": [
    {
     "data": {
      "text/plain": [
       "<Figure size 432x468 with 0 Axes>"
      ]
     },
     "metadata": {},
     "output_type": "display_data"
    },
    {
     "data": {
      "image/png": "[encoded data removed]",
      "text/plain": [
       "<Figure size 288x288 with 2 Axes>"
      ]
     },
     "metadata": {
      "needs_background": "light"
     },
     "output_type": "display_data"
    }
   ],
   "source": [
    "cm_plot(y_pre,y_true)"
   ]
  },
  {
   "cell_type": "code",
   "execution_count": 174,
   "metadata": {},
   "outputs": [
    {
     "name": "stdout",
     "output_type": "stream",
     "text": [
      "Precision_score: 0.8159456758241759\n",
      "Recall_score: 0.8179285714285714\n",
      "F1_score: 0.9491679369376343\n",
      "Accuracy_score: 0.9498571428571428\n"
     ]
    }
   ],
   "source": [
    "scores(y_pre,y_true)"
   ]
  },
  {
   "cell_type": "code",
   "execution_count": 34,
   "metadata": {},
   "outputs": [
    {
     "data": {
      "text/plain": [
       "<Figure size 432x468 with 0 Axes>"
      ]
     },
     "metadata": {},
     "output_type": "display_data"
    },
    {
     "data": {
      "image/png": "[encoded data removed]",
      "text/plain": [
       "<Figure size 288x288 with 2 Axes>"
      ]
     },
     "metadata": {
      "needs_background": "light"
     },
     "output_type": "display_data"
    },
    {
     "name": "stdout",
     "output_type": "stream",
     "text": [
      "Precision_score: 0.9003957760989011\n",
      "Recall_score: 0.9040357142857143\n",
      "F1_score: 0.8894332003478082\n",
      "Accuracy_score: 0.9040357142857143\n"
     ]
    }
   ],
   "source": [
    "y_pre1 = transport1eval(x_pre, 0.9)\n",
    "cm_plot(y_pre1,y_true)\n",
    "scores(y_pre1,y_true)"
   ]
  },
  {
   "cell_type": "markdown",
   "metadata": {},
   "source": [
    "# 每种攻击测试"
   ]
  },
  {
   "cell_type": "code",
   "execution_count": 52,
   "metadata": {},
   "outputs": [],
   "source": [
    "def transport(y):\n",
    "    test_y = []\n",
    "    for i in  y:\n",
    "        max = np.argmax(i)\n",
    "        if max == 0:\n",
    "            test_y.append(max)\n",
    "        else:\n",
    "            test_y.append(1)\n",
    "    return test_y\n",
    "\n",
    "def transport1(y):\n",
    "    test_y = []\n",
    "    for i in  y:\n",
    "        if i[0]>0.80:\n",
    "            test_y.append(0)\n",
    "        else:\n",
    "            test_y.append(1)\n",
    "    return test_y\n",
    "\n",
    "def label_transport(label):\n",
    "    test_y = []\n",
    "    for i in  label:\n",
    "        if i==0:\n",
    "            test_y.append(0)\n",
    "        else:\n",
    "            test_y.append(1)\n",
    "    return test_y\n"
   ]
  },
  {
   "cell_type": "code",
   "execution_count": 37,
   "metadata": {
    "scrolled": false
   },
   "outputs": [
    {
     "name": "stdout",
     "output_type": "stream",
     "text": [
      "A07\n"
     ]
    },
    {
     "ename": "ValueError",
     "evalue": "Cannot load file containing pickled data when allow_pickle=False",
     "output_type": "error",
     "traceback": [
      "\u001b[1;31m---------------------------------------------------------------------------\u001b[0m",
      "\u001b[1;31mValueError\u001b[0m                                Traceback (most recent call last)",
      "\u001b[1;32m<ipython-input-37-836a99571769>\u001b[0m in \u001b[0;36m<module>\u001b[1;34m\u001b[0m\n\u001b[0;32m     23\u001b[0m             \u001b[1;32mbreak\u001b[0m\u001b[1;33m\u001b[0m\u001b[1;33m\u001b[0m\u001b[0m\n\u001b[0;32m     24\u001b[0m         \u001b[0mLabel\u001b[0m\u001b[1;33m.\u001b[0m\u001b[0mappend\u001b[0m\u001b[1;33m(\u001b[0m\u001b[0mjudge\u001b[0m\u001b[1;33m)\u001b[0m\u001b[1;33m\u001b[0m\u001b[1;33m\u001b[0m\u001b[0m\n\u001b[1;32m---> 25\u001b[1;33m         \u001b[0mm\u001b[0m \u001b[1;33m=\u001b[0m \u001b[0mnp\u001b[0m\u001b[1;33m.\u001b[0m\u001b[0mload\u001b[0m\u001b[1;33m(\u001b[0m\u001b[0mpath_children_\u001b[0m\u001b[1;33m+\u001b[0m\u001b[1;34m'/'\u001b[0m\u001b[1;33m+\u001b[0m\u001b[0mmats\u001b[0m\u001b[1;33m)\u001b[0m\u001b[1;33m\u001b[0m\u001b[1;33m\u001b[0m\u001b[0m\n\u001b[0m\u001b[0;32m     26\u001b[0m         \u001b[0mData\u001b[0m\u001b[1;33m.\u001b[0m\u001b[0mappend\u001b[0m\u001b[1;33m(\u001b[0m\u001b[0mm\u001b[0m\u001b[1;33m.\u001b[0m\u001b[0mT\u001b[0m\u001b[1;33m.\u001b[0m\u001b[0mreshape\u001b[0m\u001b[1;33m(\u001b[0m\u001b[1;36m60\u001b[0m\u001b[1;33m,\u001b[0m\u001b[1;36m264\u001b[0m\u001b[1;33m,\u001b[0m\u001b[1;36m1\u001b[0m\u001b[1;33m)\u001b[0m\u001b[1;33m)\u001b[0m\u001b[1;33m\u001b[0m\u001b[1;33m\u001b[0m\u001b[0m\n\u001b[0;32m     27\u001b[0m     \u001b[0mData\u001b[0m \u001b[1;33m=\u001b[0m \u001b[0mnp\u001b[0m\u001b[1;33m.\u001b[0m\u001b[0marray\u001b[0m\u001b[1;33m(\u001b[0m\u001b[0mData\u001b[0m\u001b[1;33m)\u001b[0m\u001b[1;33m\u001b[0m\u001b[1;33m\u001b[0m\u001b[0m\n",
      "\u001b[1;32mD:\\anaconda\\envs\\python3-gpu\\lib\\site-packages\\numpy\\lib\\npyio.py\u001b[0m in \u001b[0;36mload\u001b[1;34m(file, mmap_mode, allow_pickle, fix_imports, encoding)\u001b[0m\n\u001b[0;32m    449\u001b[0m             \u001b[1;31m# Try a pickle\u001b[0m\u001b[1;33m\u001b[0m\u001b[1;33m\u001b[0m\u001b[1;33m\u001b[0m\u001b[0m\n\u001b[0;32m    450\u001b[0m             \u001b[1;32mif\u001b[0m \u001b[1;32mnot\u001b[0m \u001b[0mallow_pickle\u001b[0m\u001b[1;33m:\u001b[0m\u001b[1;33m\u001b[0m\u001b[1;33m\u001b[0m\u001b[0m\n\u001b[1;32m--> 451\u001b[1;33m                 raise ValueError(\"Cannot load file containing pickled data \"\n\u001b[0m\u001b[0;32m    452\u001b[0m                                  \"when allow_pickle=False\")\n\u001b[0;32m    453\u001b[0m             \u001b[1;32mtry\u001b[0m\u001b[1;33m:\u001b[0m\u001b[1;33m\u001b[0m\u001b[1;33m\u001b[0m\u001b[0m\n",
      "\u001b[1;31mValueError\u001b[0m: Cannot load file containing pickled data when allow_pickle=False"
     ]
    }
   ],
   "source": [
    "for c,path_children in  enumerate(list_root):\n",
    "    Label = []\n",
    "    Data =[]\n",
    "    print(path_children)\n",
    "    if path_children =='bonafide' or path_children =='ofile_time_roll' or  path_children=='ofile_time_stretch':\n",
    "        judge = 0\n",
    "    else:\n",
    "#         continue\n",
    "        judge = 1\n",
    "        \n",
    "    path_children_ = path+path_children\n",
    "    list_children = os.listdir(path_children_)\n",
    "    dict_kind = {}\n",
    "    \n",
    "    if path_children not in dict_kind:\n",
    "        dict_kind[path_children]=0\n",
    "        \n",
    "    for mats in list_children:\n",
    "        dict_kind[path_children]+=1\n",
    "        if dict_kind[path_children]>1000  and path_children !='bonafide' and path_children !='ofile_time_roll' and  path_children!='ofile_time_stretch':\n",
    "            break\n",
    "        elif dict_kind[path_children]>1000:\n",
    "            break\n",
    "        Label.append(judge)\n",
    "        m = np.load(path_children_+'/'+mats)\n",
    "        Data.append(m.T.reshape(60,264,1))\n",
    "    Data = np.array(Data)\n",
    "    Label = np.array(Label)\n",
    "    x_pre = model.predict(Data)\n",
    "    y_pre = transport(x_pre)\n",
    "    y_pre1 = transport1(x_pre)\n",
    "    y_true = label_transport(Label)\n",
    "    print((y_pre == Label).sum()/len(y_pre),\"++++\",np.array(np.array(y_pre1) == np.array(y_true)).sum()/len(y_pre1))"
   ]
  },
  {
   "cell_type": "code",
   "execution_count": null,
   "metadata": {},
   "outputs": [],
   "source": []
  },
  {
   "cell_type": "code",
   "execution_count": null,
   "metadata": {},
   "outputs": [],
   "source": []
  },
  {
   "cell_type": "code",
   "execution_count": null,
   "metadata": {},
   "outputs": [],
   "source": []
  },
  {
   "cell_type": "code",
   "execution_count": 34,
   "metadata": {},
   "outputs": [],
   "source": [
    "import numpy as np\n",
    "import matplotlib as plt\n",
    "import matplotlib.pyplot as plt\n",
    "from sklearn.metrics import confusion_matrix\n",
    "\n",
    "\n",
    "def findX(X1, X2, T):\n",
    "    #求一下两条线的交点, 默认X1递增， X2递减\n",
    "    # 先找到4个点满足X11 < X21, X12 > X22 \n",
    "    iT = -1\n",
    "    iX = -1\n",
    "    for idx, x in enumerate(X1):\n",
    "        if X2[idx] > X1[idx]:\n",
    "            continue\n",
    "        else:\n",
    "            # 找到第一个X2<X1的点\n",
    "            X11 = X1[idx - 1]\n",
    "            X12 = X1[idx]\n",
    "            X21 = X2[idx-1]\n",
    "            X22 = X2[idx]\n",
    "            T1 = T[idx-1]\n",
    "            T2 = T[idx]\n",
    "            #由三角形相似性求\n",
    "            iT = (T2-T1) * (X21-X11) / (X12 + X21 - X22 - X11) + T1\n",
    "            iX = X11 + (iT - T1)/ (T2- T1) * (X12 - X11)\n",
    "            break\n",
    "    return iT, iX\n",
    "            \n",
    "\n",
    "def getEER(ol, pl):\n",
    "    cm = confusion_matrix(ol, pl)\n",
    "    TN = cm[0][0]\n",
    "    FP = cm[0][1]\n",
    "    FN = cm[1][0]\n",
    "    TP = cm[1][1]\n",
    "    FPR = FP / (TN + FP)\n",
    "    FRR = FN / (TP + FN)\n",
    "    return FPR, FRR\n",
    "\n",
    "def transport(y):\n",
    "    test_y = []\n",
    "    for i in  y:\n",
    "        max = np.argmax(i)\n",
    "        if max == 0:\n",
    "            test_y.append(max)\n",
    "        else:\n",
    "            test_y.append(1)\n",
    "    return test_y\n",
    "\n",
    "def transport1eval(y, yu=0.9):\n",
    "    test_y = []\n",
    "    for i in  y:\n",
    "        if i[0]>yu:\n",
    "            test_y.append(0)\n",
    "        else:\n",
    "            test_y.append(1)\n",
    "    return test_y\n",
    "\n",
    "def label_transport(label):\n",
    "    test_y = []\n",
    "    for i in  label:\n",
    "        if i==0:\n",
    "            test_y.append(0)\n",
    "        else:\n",
    "            test_y.append(1)\n",
    "    return test_y\n",
    "\n",
    "def drawEER(yus, FPRs, FRRs):\n",
    "    iT, iX = findX(FPRs, FRRs, yus)\n",
    "    plt.figure()\n",
    "    plt.plot(yus,FPRs,marker = '*',label = 'FPR')\n",
    "    plt.plot(yus, FRRs, marker = 'o',label = 'FRR')\n",
    "    plt.legend()\n",
    "    plt.xlim([0,1])\n",
    "    plt.ylim([0,1])\n",
    "    plt.xlabel('thresh')\n",
    "    plt.ylabel('FPR/FRR')\n",
    "    plt.title(' find eer')\n",
    "    plt.show()\n",
    "    print(iT, iX)\n",
    "\n",
    "def allAboutEER(y_true, x_pre, threshs):\n",
    "    # 这里y_true, x_pre顺序改回来了。。。\n",
    "    '''\n",
    "    threshs: 阈值的list\n",
    "    '''\n",
    "    FPRs = []\n",
    "    FRRs = []\n",
    "    for thresh in threshs:\n",
    "        y_pre1 = transport1eval(x_pre, thresh)\n",
    "        FPR, FRR = getEER(y_true, y_pre1)\n",
    "        FPRs.append(FPR)\n",
    "        FRRs.append(FRR)\n",
    "    drawEER(threshs, FPRs, FRRs)\n",
    "\n"
   ]
  },
  {
   "cell_type": "code",
   "execution_count": 52,
   "metadata": {},
   "outputs": [
    {
     "data": {
      "image/png": "[encoded data removed]",
      "text/plain": [
       "<Figure size 432x288 with 1 Axes>"
      ]
     },
     "metadata": {
      "needs_background": "light"
     },
     "output_type": "display_data"
    },
    {
     "name": "stdout",
     "output_type": "stream",
     "text": [
      "0.8229323308270676 0.111\n"
     ]
    }
   ],
   "source": [
    "testyus = np.linspace(0.8,0.85,20)\n",
    "# 阈值列表\n",
    "threshs = list(testyus)\n",
    "allAboutEER(y_true,x_pre, threshs)"
   ]
  },
  {
   "cell_type": "code",
   "execution_count": 53,
   "metadata": {},
   "outputs": [
    {
     "data": {
      "text/plain": [
       "<Figure size 432x468 with 0 Axes>"
      ]
     },
     "metadata": {},
     "output_type": "display_data"
    },
    {
     "data": {
      "image/png": "[encoded data removed]",
      "text/plain": [
       "<Figure size 288x288 with 2 Axes>"
      ]
     },
     "metadata": {
      "needs_background": "light"
     },
     "output_type": "display_data"
    }
   ],
   "source": [
    "y_pre1 = transport1eval(x_pre, 0.8229323308270676  )\n",
    "cm_plot(y_pre1,y_true)"
   ]
  }
 ],
 "metadata": {
  "kernelspec": {
   "display_name": "TensorFlow-GPU-2.1.0",
   "language": "python",
   "name": "python3-gpu"
  },
  "language_info": {
   "codemirror_mode": {
    "name": "ipython",
    "version": 3
   },
   "file_extension": ".py",
   "mimetype": "text/x-python",
   "name": "python",
   "nbconvert_exporter": "python",
   "pygments_lexer": "ipython3",
   "version": "3.7.4"
  }
 },
 "nbformat": 4,
 "nbformat_minor": 4
}
